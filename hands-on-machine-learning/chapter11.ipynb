{
 "cells": [
  {
   "cell_type": "code",
   "execution_count": 1,
   "metadata": {
    "ExecuteTime": {
     "end_time": "2023-08-16T15:50:54.594564Z",
     "start_time": "2023-08-16T15:50:43.805135Z"
    }
   },
   "outputs": [],
   "source": [
    "# 파이썬 ≥3.5 필수\n",
    "import sys\n",
    "assert sys.version_info >= (3, 5)\n",
    "\n",
    "# 사이킷런 ≥0.20 필수\n",
    "import sklearn\n",
    "assert sklearn.__version__ >= \"0.20\"\n",
    "\n",
    "# 텐서플로 ≥2.0 필수\n",
    "import tensorflow as tf\n",
    "from tensorflow import keras\n",
    "assert tf.__version__ >= \"2.0\"\n",
    "\n",
    "# %load_ext tensorboard\n",
    "\n",
    "# 공통 모듈 임포트\n",
    "import numpy as np\n",
    "import os\n",
    "\n",
    "# 노트북 실행 결과를 동일하게 유지하기 위해\n",
    "np.random.seed(42)\n",
    "\n",
    "# 깔끔한 그래프 출력을 위해\n",
    "%matplotlib inline\n",
    "import matplotlib as mpl\n",
    "import matplotlib.pyplot as plt\n",
    "mpl.rc('axes', labelsize=14)\n",
    "mpl.rc('xtick', labelsize=12)\n",
    "mpl.rc('ytick', labelsize=12)\n",
    "\n",
    "# 그림을 저장할 위치\n",
    "PROJECT_ROOT_DIR = \".\"\n",
    "CHAPTER_ID = \"deep\"\n",
    "IMAGES_PATH = os.path.join(PROJECT_ROOT_DIR, \"images\", CHAPTER_ID)\n",
    "os.makedirs(IMAGES_PATH, exist_ok=True)\n",
    "\n",
    "def save_fig(fig_id, tight_layout=True, fig_extension=\"png\", resolution=300):\n",
    "    path = os.path.join(IMAGES_PATH, fig_id + \".\" + fig_extension)\n",
    "    print(\"그림 저장:\", fig_id)\n",
    "    if tight_layout:\n",
    "        plt.tight_layout()\n",
    "    plt.savefig(path, format=fig_extension, dpi=resolution)"
   ]
  },
  {
   "cell_type": "code",
   "execution_count": 2,
   "metadata": {
    "ExecuteTime": {
     "end_time": "2023-08-16T15:50:54.595512Z",
     "start_time": "2023-08-16T15:50:47.414962Z"
    }
   },
   "outputs": [],
   "source": [
    "def logit(z):\n",
    "    return 1 / (1 + np.exp(-z))"
   ]
  },
  {
   "cell_type": "code",
   "execution_count": 3,
   "metadata": {
    "ExecuteTime": {
     "end_time": "2023-08-16T15:50:54.596477Z",
     "start_time": "2023-08-16T15:50:47.421089Z"
    }
   },
   "outputs": [
    {
     "data": {
      "text/plain": [
       "(-5.0, 5.0, -0.2, 1.2)"
      ]
     },
     "execution_count": 3,
     "metadata": {},
     "output_type": "execute_result"
    },
    {
     "data": {
      "image/png": "[encoded data removed]",
      "text/plain": [
       "<Figure size 640x480 with 1 Axes>"
      ]
     },
     "metadata": {},
     "output_type": "display_data"
    }
   ],
   "source": [
    "z = np.linspace(-5, 5, 200)\n",
    "\n",
    "plt.plot([-5, 5], [0, 0], 'k-')\n",
    "plt.plot([-5, 5], [1, 1], 'k--')\n",
    "plt.plot([0, 0], [-0.2, 1.2], 'k-')\n",
    "plt.plot([-5, 5], [-3/4, 7/4], 'g--')\n",
    "plt.plot(z, logit(z), 'b-', linewidth=2)\n",
    "plt.grid(True)\n",
    "plt.axis([-5, 5, -0.2, 1.2])"
   ]
  },
  {
   "cell_type": "markdown",
   "metadata": {},
   "source": [
    "### Xavier 초기화와 He 초기화"
   ]
  },
  {
   "cell_type": "code",
   "execution_count": 4,
   "metadata": {
    "ExecuteTime": {
     "end_time": "2023-08-16T15:50:54.596744Z",
     "start_time": "2023-08-16T15:50:47.493078Z"
    }
   },
   "outputs": [
    {
     "data": {
      "text/plain": [
       "['Constant',\n",
       " 'GlorotNormal',\n",
       " 'GlorotUniform',\n",
       " 'HeNormal',\n",
       " 'HeUniform',\n",
       " 'Identity',\n",
       " 'Initializer',\n",
       " 'LecunNormal',\n",
       " 'LecunUniform',\n",
       " 'Ones',\n",
       " 'Orthogonal',\n",
       " 'RandomNormal',\n",
       " 'RandomUniform',\n",
       " 'TruncatedNormal',\n",
       " 'VarianceScaling',\n",
       " 'Zeros',\n",
       " 'constant',\n",
       " 'deserialize',\n",
       " 'get',\n",
       " 'glorot_normal',\n",
       " 'glorot_uniform',\n",
       " 'he_normal',\n",
       " 'he_uniform',\n",
       " 'identity',\n",
       " 'lecun_normal',\n",
       " 'lecun_uniform',\n",
       " 'ones',\n",
       " 'orthogonal',\n",
       " 'random_normal',\n",
       " 'random_uniform',\n",
       " 'serialize',\n",
       " 'truncated_normal',\n",
       " 'variance_scaling',\n",
       " 'zeros']"
      ]
     },
     "execution_count": 4,
     "metadata": {},
     "output_type": "execute_result"
    }
   ],
   "source": [
    "[name for name in dir(keras.initializers) if not name.startswith(\"_\")]"
   ]
  },
  {
   "cell_type": "code",
   "execution_count": 5,
   "metadata": {
    "ExecuteTime": {
     "end_time": "2023-08-16T15:50:54.596918Z",
     "start_time": "2023-08-16T15:50:47.509052Z"
    }
   },
   "outputs": [
    {
     "data": {
      "text/plain": [
       "<keras.src.layers.core.dense.Dense at 0x291cb64f0>"
      ]
     },
     "execution_count": 5,
     "metadata": {},
     "output_type": "execute_result"
    }
   ],
   "source": [
    "keras.layers.Dense(10, activation='relu', kernel_initializer='he_normal')"
   ]
  },
  {
   "cell_type": "code",
   "execution_count": 6,
   "metadata": {
    "ExecuteTime": {
     "end_time": "2023-08-16T15:50:54.597104Z",
     "start_time": "2023-08-16T15:50:47.518989Z"
    }
   },
   "outputs": [
    {
     "data": {
      "text/plain": [
       "<keras.src.layers.core.dense.Dense at 0x291d213a0>"
      ]
     },
     "execution_count": 6,
     "metadata": {},
     "output_type": "execute_result"
    }
   ],
   "source": [
    "init = keras.initializers.VarianceScaling(scale=2, mode='fan_avg',\n",
    "                                          distribution='uniform')\n",
    "keras.layers.Dense(10, activation='relu', kernel_initializer=init)"
   ]
  },
  {
   "cell_type": "markdown",
   "metadata": {},
   "source": [
    "### 수렴하지 않는 활성화 함수\n",
    "### LeakyReLU"
   ]
  },
  {
   "cell_type": "code",
   "execution_count": 7,
   "metadata": {
    "ExecuteTime": {
     "end_time": "2023-08-16T15:50:54.597192Z",
     "start_time": "2023-08-16T15:50:47.522260Z"
    }
   },
   "outputs": [],
   "source": [
    "def leaky_relu(z, alpha=0.01):\n",
    "    return np.maximum(alpha * z, z)"
   ]
  },
  {
   "cell_type": "code",
   "execution_count": 8,
   "metadata": {
    "ExecuteTime": {
     "end_time": "2023-08-16T15:50:54.597449Z",
     "start_time": "2023-08-16T15:50:47.533512Z"
    }
   },
   "outputs": [
    {
     "data": {
      "text/plain": [
       "(-5.0, 5.0, -0.5, 4.2)"
      ]
     },
     "execution_count": 8,
     "metadata": {},
     "output_type": "execute_result"
    },
    {
     "data": {
      "image/png": "[encoded data removed]",
      "text/plain": [
       "<Figure size 640x480 with 1 Axes>"
      ]
     },
     "metadata": {},
     "output_type": "display_data"
    }
   ],
   "source": [
    "plt.plot(z, leaky_relu(z, 0.05), 'b-', linewidth=2)\n",
    "plt.plot([-5, 5], [0, 0], 'k-')\n",
    "plt.plot([0, 0], [-0.5, 4.2], 'k-')\n",
    "plt.grid(True)\n",
    "plt.axis([-5, 5, -0.5, 4.2])"
   ]
  },
  {
   "cell_type": "code",
   "execution_count": 9,
   "metadata": {
    "ExecuteTime": {
     "end_time": "2023-08-16T15:50:54.597685Z",
     "start_time": "2023-08-16T15:50:47.584351Z"
    }
   },
   "outputs": [
    {
     "data": {
      "text/plain": [
       "['deserialize',\n",
       " 'elu',\n",
       " 'exponential',\n",
       " 'gelu',\n",
       " 'get',\n",
       " 'hard_sigmoid',\n",
       " 'linear',\n",
       " 'mish',\n",
       " 'relu',\n",
       " 'selu',\n",
       " 'serialize',\n",
       " 'sigmoid',\n",
       " 'softmax',\n",
       " 'softplus',\n",
       " 'softsign',\n",
       " 'swish',\n",
       " 'tanh']"
      ]
     },
     "execution_count": 9,
     "metadata": {},
     "output_type": "execute_result"
    }
   ],
   "source": [
    "[m for m in dir(keras.activations) if not m.startswith('_')]"
   ]
  },
  {
   "cell_type": "code",
   "execution_count": 10,
   "metadata": {
    "ExecuteTime": {
     "end_time": "2023-08-16T15:50:54.597870Z",
     "start_time": "2023-08-16T15:50:47.588937Z"
    }
   },
   "outputs": [
    {
     "data": {
      "text/plain": [
       "['LeakyReLU', 'PReLU', 'ReLU', 'ThresholdedReLU']"
      ]
     },
     "execution_count": 10,
     "metadata": {},
     "output_type": "execute_result"
    }
   ],
   "source": [
    "[m for m in dir(keras.layers) if 'relu' in m.lower()]"
   ]
  },
  {
   "cell_type": "code",
   "execution_count": 11,
   "metadata": {
    "ExecuteTime": {
     "end_time": "2023-08-16T15:50:54.597954Z",
     "start_time": "2023-08-16T15:50:47.592171Z"
    }
   },
   "outputs": [],
   "source": [
    "(X_train_full, y_train_full), (X_test, y_test) = keras.datasets.fashion_mnist.load_data()\n",
    "X_train_full = X_train_full / 255.\n",
    "X_test = X_test / 255.\n",
    "\n",
    "X_valid, X_train = X_train_full[:5000], X_train_full[5000:]\n",
    "y_valid, y_train = y_train_full[:5000], y_train_full[5000:]"
   ]
  },
  {
   "cell_type": "code",
   "execution_count": 12,
   "metadata": {
    "ExecuteTime": {
     "end_time": "2023-08-16T15:50:54.598041Z",
     "start_time": "2023-08-16T15:50:48.017765Z"
    }
   },
   "outputs": [],
   "source": [
    "tf.random.set_seed(42)\n",
    "np.random.seed(42)\n",
    "\n",
    "model = keras.models.Sequential([\n",
    "    keras.layers.Flatten(input_shape=[28, 28]),\n",
    "    keras.layers.Dense(300, kernel_initializer='he_normal'),\n",
    "    keras.layers.LeakyReLU(),\n",
    "    keras.layers.Dense(100, kernel_initializer='he_normal'),\n",
    "    keras.layers.LeakyReLU(),\n",
    "    keras.layers.Dense(10, activation='softmax')\n",
    "])"
   ]
  },
  {
   "cell_type": "code",
   "execution_count": 13,
   "metadata": {
    "ExecuteTime": {
     "end_time": "2023-08-16T15:50:54.598993Z",
     "start_time": "2023-08-16T15:50:48.047862Z"
    }
   },
   "outputs": [
    {
     "name": "stderr",
     "output_type": "stream",
     "text": [
      "WARNING:absl:At this time, the v2.11+ optimizer `tf.keras.optimizers.SGD` runs slowly on M1/M2 Macs, please use the legacy Keras optimizer instead, located at `tf.keras.optimizers.legacy.SGD`.\n",
      "WARNING:absl:`lr` is deprecated in Keras optimizer, please use `learning_rate` or use the legacy optimizer, e.g.,tf.keras.optimizers.legacy.SGD.\n",
      "WARNING:absl:There is a known slowdown when using v2.11+ Keras optimizers on M1/M2 Macs. Falling back to the legacy Keras optimizer, i.e., `tf.keras.optimizers.legacy.SGD`.\n"
     ]
    }
   ],
   "source": [
    "model.compile(loss=\"sparse_categorical_crossentropy\",\n",
    "              optimizer=keras.optimizers.SGD(lr=1e-3),\n",
    "              metrics=[\"accuracy\"])"
   ]
  },
  {
   "cell_type": "code",
   "execution_count": 14,
   "metadata": {
    "ExecuteTime": {
     "end_time": "2023-08-16T15:51:06.455605Z",
     "start_time": "2023-08-16T15:50:48.056519Z"
    }
   },
   "outputs": [],
   "source": [
    "# history = model.fit(X_train, y_train, epochs=10,\n",
    "#                     validation_data=(X_valid, y_valid))"
   ]
  },
  {
   "cell_type": "code",
   "execution_count": 15,
   "metadata": {
    "ExecuteTime": {
     "end_time": "2023-08-16T15:51:06.491289Z",
     "start_time": "2023-08-16T15:51:06.459557Z"
    }
   },
   "outputs": [],
   "source": [
    "tf.random.set_seed(42)\n",
    "np.random.seed(42)\n",
    "\n",
    "model = keras.models.Sequential([\n",
    "    keras.layers.Flatten(input_shape=[28, 28]),\n",
    "    keras.layers.Dense(300, kernel_initializer=\"he_normal\"),\n",
    "    keras.layers.PReLU(),\n",
    "    keras.layers.Dense(100, kernel_initializer=\"he_normal\"),\n",
    "    keras.layers.PReLU(),\n",
    "    keras.layers.Dense(10, activation=\"softmax\")\n",
    "])"
   ]
  },
  {
   "cell_type": "code",
   "execution_count": 16,
   "metadata": {
    "ExecuteTime": {
     "end_time": "2023-08-16T15:51:06.491711Z",
     "start_time": "2023-08-16T15:51:06.482220Z"
    }
   },
   "outputs": [
    {
     "name": "stderr",
     "output_type": "stream",
     "text": [
      "WARNING:absl:At this time, the v2.11+ optimizer `tf.keras.optimizers.SGD` runs slowly on M1/M2 Macs, please use the legacy Keras optimizer instead, located at `tf.keras.optimizers.legacy.SGD`.\n",
      "WARNING:absl:`lr` is deprecated in Keras optimizer, please use `learning_rate` or use the legacy optimizer, e.g.,tf.keras.optimizers.legacy.SGD.\n",
      "WARNING:absl:There is a known slowdown when using v2.11+ Keras optimizers on M1/M2 Macs. Falling back to the legacy Keras optimizer, i.e., `tf.keras.optimizers.legacy.SGD`.\n"
     ]
    }
   ],
   "source": [
    "model.compile(loss=\"sparse_categorical_crossentropy\",\n",
    "              optimizer=keras.optimizers.SGD(lr=1e-3),\n",
    "              metrics=[\"accuracy\"])"
   ]
  },
  {
   "cell_type": "code",
   "execution_count": 17,
   "metadata": {
    "ExecuteTime": {
     "end_time": "2023-08-16T15:51:25.967265Z",
     "start_time": "2023-08-16T15:51:06.489614Z"
    }
   },
   "outputs": [],
   "source": [
    "# history = model.fit(X_train, y_train, epochs=10,\n",
    "#                     validation_data=(X_valid, y_valid))"
   ]
  },
  {
   "cell_type": "markdown",
   "metadata": {},
   "source": [
    "### ELU"
   ]
  },
  {
   "cell_type": "code",
   "execution_count": 18,
   "metadata": {
    "ExecuteTime": {
     "end_time": "2023-08-16T15:51:25.969415Z",
     "start_time": "2023-08-16T15:51:25.967073Z"
    }
   },
   "outputs": [],
   "source": [
    "def elu(z, alpha=1):\n",
    "    return np.where(z < 0, alpha * (np.exp(z) - 1), z)"
   ]
  },
  {
   "cell_type": "code",
   "execution_count": 19,
   "metadata": {
    "ExecuteTime": {
     "end_time": "2023-08-16T15:51:26.028407Z",
     "start_time": "2023-08-16T15:51:25.971944Z"
    }
   },
   "outputs": [
    {
     "data": {
      "text/plain": [
       "[<matplotlib.lines.Line2D at 0x29bcca3d0>]"
      ]
     },
     "execution_count": 19,
     "metadata": {},
     "output_type": "execute_result"
    },
    {
     "data": {
      "image/png": "[encoded data removed]",
      "text/plain": [
       "<Figure size 640x480 with 1 Axes>"
      ]
     },
     "metadata": {},
     "output_type": "display_data"
    }
   ],
   "source": [
    "plt.plot(z, elu(z), 'b-', linewidth=2)"
   ]
  },
  {
   "cell_type": "code",
   "execution_count": 20,
   "metadata": {
    "ExecuteTime": {
     "end_time": "2023-08-16T15:51:26.032556Z",
     "start_time": "2023-08-16T15:51:26.029063Z"
    }
   },
   "outputs": [
    {
     "data": {
      "text/plain": [
       "<keras.src.layers.core.dense.Dense at 0x29bcf5f40>"
      ]
     },
     "execution_count": 20,
     "metadata": {},
     "output_type": "execute_result"
    }
   ],
   "source": [
    "keras.layers.Dense(10, activation='elu')"
   ]
  },
  {
   "cell_type": "markdown",
   "metadata": {},
   "source": [
    "### SELU"
   ]
  },
  {
   "cell_type": "code",
   "execution_count": 21,
   "metadata": {
    "ExecuteTime": {
     "end_time": "2023-08-16T15:51:26.035094Z",
     "start_time": "2023-08-16T15:51:26.033370Z"
    }
   },
   "outputs": [
    {
     "data": {
      "text/plain": [
       "<keras.src.layers.core.dense.Dense at 0x29bcfcc10>"
      ]
     },
     "execution_count": 21,
     "metadata": {},
     "output_type": "execute_result"
    }
   ],
   "source": [
    "keras.layers.Dense(10, activation='selu',\n",
    "                   kernel_initializer='lecun_normal')"
   ]
  },
  {
   "cell_type": "code",
   "execution_count": 22,
   "metadata": {
    "ExecuteTime": {
     "end_time": "2023-08-16T15:51:26.041706Z",
     "start_time": "2023-08-16T15:51:26.037258Z"
    }
   },
   "outputs": [],
   "source": [
    "np.random.seed(42)\n",
    "tf.random.set_seed(42)"
   ]
  },
  {
   "cell_type": "code",
   "execution_count": 23,
   "metadata": {
    "ExecuteTime": {
     "end_time": "2023-08-16T15:51:26.558854Z",
     "start_time": "2023-08-16T15:51:26.040970Z"
    }
   },
   "outputs": [],
   "source": [
    "model = keras.models.Sequential()\n",
    "model.add(keras.layers.Flatten(input_shape=[28, 28]))\n",
    "model.add(keras.layers.Dense(300, activation='selu',\n",
    "                             kernel_initializer='lecun_normal'))\n",
    "for layer in range(99):\n",
    "    model.add(keras.layers.Dense(100, activation='selu',\n",
    "                                 kernel_initializer='lecun_normal'))\n",
    "model.add(keras.layers.Dense(10, activation='softmax'))"
   ]
  },
  {
   "cell_type": "code",
   "execution_count": 24,
   "metadata": {
    "ExecuteTime": {
     "end_time": "2023-08-16T15:51:26.565106Z",
     "start_time": "2023-08-16T15:51:26.557539Z"
    }
   },
   "outputs": [
    {
     "name": "stderr",
     "output_type": "stream",
     "text": [
      "WARNING:absl:At this time, the v2.11+ optimizer `tf.keras.optimizers.SGD` runs slowly on M1/M2 Macs, please use the legacy Keras optimizer instead, located at `tf.keras.optimizers.legacy.SGD`.\n",
      "WARNING:absl:There is a known slowdown when using v2.11+ Keras optimizers on M1/M2 Macs. Falling back to the legacy Keras optimizer, i.e., `tf.keras.optimizers.legacy.SGD`.\n"
     ]
    }
   ],
   "source": [
    "model.compile(loss='sparse_categorical_crossentropy',\n",
    "              optimizer=keras.optimizers.SGD(learning_rate=1e-3),\n",
    "              metrics=['accuracy'])"
   ]
  },
  {
   "cell_type": "code",
   "execution_count": 25,
   "metadata": {
    "ExecuteTime": {
     "end_time": "2023-08-16T15:51:26.890157Z",
     "start_time": "2023-08-16T15:51:26.566695Z"
    }
   },
   "outputs": [],
   "source": [
    "pixel_means = X_train.mean(axis=0, keepdims=True)\n",
    "pixel_stds = X_train.std(axis=0, keepdims=True)\n",
    "X_train_scaled = (X_train - pixel_means) / pixel_stds\n",
    "X_valid_scaled = (X_valid - pixel_means) / pixel_stds\n",
    "X_test_scaled = (X_test - pixel_means) / pixel_stds"
   ]
  },
  {
   "cell_type": "code",
   "execution_count": 26,
   "metadata": {
    "ExecuteTime": {
     "end_time": "2023-08-16T15:52:45.653355Z",
     "start_time": "2023-08-16T15:51:26.889703Z"
    }
   },
   "outputs": [],
   "source": [
    "# history = model.fit(X_train_scaled, y_train, epochs=5,\n",
    "#                     validation_data=(X_valid_scaled, y_valid))"
   ]
  },
  {
   "cell_type": "code",
   "execution_count": 27,
   "metadata": {
    "ExecuteTime": {
     "end_time": "2023-08-16T15:52:45.663584Z",
     "start_time": "2023-08-16T15:52:45.657563Z"
    }
   },
   "outputs": [],
   "source": [
    "np.random.seed(42)\n",
    "tf.random.set_seed(42)"
   ]
  },
  {
   "cell_type": "code",
   "execution_count": 28,
   "metadata": {
    "ExecuteTime": {
     "end_time": "2023-08-16T15:52:46.113562Z",
     "start_time": "2023-08-16T15:52:45.665959Z"
    }
   },
   "outputs": [],
   "source": [
    "model = keras.models.Sequential()\n",
    "model.add(keras.layers.Flatten(input_shape=[28, 28]))\n",
    "model.add(keras.layers.Dense(300, activation='relu', kernel_initializer='he_normal'))\n",
    "for layer in range(99):\n",
    "    model.add(keras.layers.Dense(100, activation='relu', kernel_initializer='he_normal'))\n",
    "model.add(keras.layers.Dense(10, activation='softmax'))"
   ]
  },
  {
   "cell_type": "code",
   "execution_count": 29,
   "metadata": {
    "ExecuteTime": {
     "end_time": "2023-08-16T15:52:46.126413Z",
     "start_time": "2023-08-16T15:52:46.114430Z"
    }
   },
   "outputs": [
    {
     "name": "stderr",
     "output_type": "stream",
     "text": [
      "WARNING:absl:At this time, the v2.11+ optimizer `tf.keras.optimizers.SGD` runs slowly on M1/M2 Macs, please use the legacy Keras optimizer instead, located at `tf.keras.optimizers.legacy.SGD`.\n",
      "WARNING:absl:There is a known slowdown when using v2.11+ Keras optimizers on M1/M2 Macs. Falling back to the legacy Keras optimizer, i.e., `tf.keras.optimizers.legacy.SGD`.\n"
     ]
    }
   ],
   "source": [
    "model.compile(loss='sparse_categorical_crossentropy',\n",
    "              optimizer=keras.optimizers.SGD(learning_rate=1e-3),\n",
    "              metrics=['accuracy'])"
   ]
  },
  {
   "cell_type": "code",
   "execution_count": 30,
   "metadata": {
    "ExecuteTime": {
     "end_time": "2023-08-16T15:53:38.854723Z",
     "start_time": "2023-08-16T15:52:46.122579Z"
    }
   },
   "outputs": [],
   "source": [
    "# history = model.fit(X_train_scaled, y_train, epochs=5,\n",
    "#                     validation_data=(X_valid_scaled, y_valid))"
   ]
  },
  {
   "cell_type": "markdown",
   "metadata": {},
   "source": [
    "### 배치 정규화"
   ]
  },
  {
   "cell_type": "code",
   "execution_count": 31,
   "metadata": {
    "ExecuteTime": {
     "end_time": "2023-08-16T15:53:38.874870Z",
     "start_time": "2023-08-16T15:53:38.848217Z"
    }
   },
   "outputs": [],
   "source": [
    "model = keras.models.Sequential([\n",
    "    keras.layers.Flatten(input_shape=[28, 28]),\n",
    "    keras.layers.BatchNormalization(),\n",
    "    keras.layers.Dense(300, activation='relu'),\n",
    "    keras.layers.BatchNormalization(),\n",
    "    keras.layers.Dense(100, activation='relu'),\n",
    "    keras.layers.BatchNormalization(),\n",
    "    keras.layers.Dense(10, activation='softmax')\n",
    "])"
   ]
  },
  {
   "cell_type": "code",
   "execution_count": 32,
   "metadata": {
    "ExecuteTime": {
     "end_time": "2023-08-16T15:53:38.891240Z",
     "start_time": "2023-08-16T15:53:38.875763Z"
    }
   },
   "outputs": [
    {
     "name": "stdout",
     "output_type": "stream",
     "text": [
      "Model: \"sequential_4\"\n",
      "_________________________________________________________________\n",
      " Layer (type)                Output Shape              Param #   \n",
      "=================================================================\n",
      " flatten_4 (Flatten)         (None, 784)               0         \n",
      "                                                                 \n",
      " batch_normalization (Batch  (None, 784)               3136      \n",
      " Normalization)                                                  \n",
      "                                                                 \n",
      " dense_212 (Dense)           (None, 300)               235500    \n",
      "                                                                 \n",
      " batch_normalization_1 (Bat  (None, 300)               1200      \n",
      " chNormalization)                                                \n",
      "                                                                 \n",
      " dense_213 (Dense)           (None, 100)               30100     \n",
      "                                                                 \n",
      " batch_normalization_2 (Bat  (None, 100)               400       \n",
      " chNormalization)                                                \n",
      "                                                                 \n",
      " dense_214 (Dense)           (None, 10)                1010      \n",
      "                                                                 \n",
      "=================================================================\n",
      "Total params: 271346 (1.04 MB)\n",
      "Trainable params: 268978 (1.03 MB)\n",
      "Non-trainable params: 2368 (9.25 KB)\n",
      "_________________________________________________________________\n"
     ]
    }
   ],
   "source": [
    "model.summary()"
   ]
  },
  {
   "cell_type": "code",
   "execution_count": 33,
   "metadata": {
    "ExecuteTime": {
     "end_time": "2023-08-16T15:53:38.891657Z",
     "start_time": "2023-08-16T15:53:38.886811Z"
    }
   },
   "outputs": [
    {
     "data": {
      "text/plain": [
       "[('batch_normalization/gamma:0', True),\n",
       " ('batch_normalization/beta:0', True),\n",
       " ('batch_normalization/moving_mean:0', False),\n",
       " ('batch_normalization/moving_variance:0', False)]"
      ]
     },
     "execution_count": 33,
     "metadata": {},
     "output_type": "execute_result"
    }
   ],
   "source": [
    "bn1 = model.layers[1]\n",
    "[(var.name, var.trainable) for var in bn1.variables]"
   ]
  },
  {
   "cell_type": "code",
   "execution_count": 34,
   "metadata": {
    "ExecuteTime": {
     "end_time": "2023-08-16T15:53:38.964485Z",
     "start_time": "2023-08-16T15:53:38.888047Z"
    }
   },
   "outputs": [
    {
     "name": "stderr",
     "output_type": "stream",
     "text": [
      "WARNING:absl:At this time, the v2.11+ optimizer `tf.keras.optimizers.SGD` runs slowly on M1/M2 Macs, please use the legacy Keras optimizer instead, located at `tf.keras.optimizers.legacy.SGD`.\n",
      "WARNING:absl:There is a known slowdown when using v2.11+ Keras optimizers on M1/M2 Macs. Falling back to the legacy Keras optimizer, i.e., `tf.keras.optimizers.legacy.SGD`.\n"
     ]
    }
   ],
   "source": [
    "model.compile(loss='sparse_categorical_crossentropy',\n",
    "              optimizer=keras.optimizers.SGD(learning_rate=1e-3),\n",
    "              metrics=['accuracy'])"
   ]
  },
  {
   "cell_type": "code",
   "execution_count": 35,
   "metadata": {
    "ExecuteTime": {
     "end_time": "2023-08-16T15:54:02.123084Z",
     "start_time": "2023-08-16T15:53:38.893961Z"
    }
   },
   "outputs": [],
   "source": [
    "# history = model.fit(X_train, y_train, epochs=10,\n",
    "#                     validation_data=(X_valid, y_valid))"
   ]
  },
  {
   "cell_type": "code",
   "execution_count": 36,
   "metadata": {
    "ExecuteTime": {
     "end_time": "2023-08-16T15:54:02.157613Z",
     "start_time": "2023-08-16T15:54:02.122451Z"
    }
   },
   "outputs": [],
   "source": [
    "model = keras.models.Sequential([\n",
    "    keras.layers.Flatten(input_shape=[28, 28]),\n",
    "    keras.layers.BatchNormalization(),\n",
    "    keras.layers.Dense(300, use_bias=False),\n",
    "    keras.layers.BatchNormalization(),\n",
    "    keras.layers.Activation('relu'),\n",
    "    keras.layers.Dense(100, use_bias=False),\n",
    "    keras.layers.BatchNormalization(),\n",
    "    keras.layers.Activation('relu'),\n",
    "    keras.layers.Dense(10, activation='softmax')\n",
    "])"
   ]
  },
  {
   "cell_type": "code",
   "execution_count": 37,
   "metadata": {
    "ExecuteTime": {
     "end_time": "2023-08-16T15:54:02.158095Z",
     "start_time": "2023-08-16T15:54:02.151485Z"
    }
   },
   "outputs": [
    {
     "name": "stderr",
     "output_type": "stream",
     "text": [
      "WARNING:absl:At this time, the v2.11+ optimizer `tf.keras.optimizers.SGD` runs slowly on M1/M2 Macs, please use the legacy Keras optimizer instead, located at `tf.keras.optimizers.legacy.SGD`.\n",
      "WARNING:absl:There is a known slowdown when using v2.11+ Keras optimizers on M1/M2 Macs. Falling back to the legacy Keras optimizer, i.e., `tf.keras.optimizers.legacy.SGD`.\n"
     ]
    }
   ],
   "source": [
    "model.compile(loss='sparse_categorical_crossentropy',\n",
    "              optimizer=keras.optimizers.SGD(learning_rate=1e-3),\n",
    "              metrics=['accuracy'])"
   ]
  },
  {
   "cell_type": "code",
   "execution_count": 38,
   "metadata": {
    "ExecuteTime": {
     "end_time": "2023-08-16T15:54:25.426486Z",
     "start_time": "2023-08-16T15:54:02.157789Z"
    }
   },
   "outputs": [],
   "source": [
    "# history = model.fit(X_train, y_train, epochs=10,\n",
    "#                     validation_data=(X_valid, y_valid))"
   ]
  },
  {
   "cell_type": "markdown",
   "metadata": {},
   "source": [
    "### 그레이디언트 클리핑"
   ]
  },
  {
   "cell_type": "code",
   "execution_count": 39,
   "metadata": {
    "ExecuteTime": {
     "end_time": "2023-08-16T15:54:25.430623Z",
     "start_time": "2023-08-16T15:54:25.426368Z"
    }
   },
   "outputs": [
    {
     "name": "stderr",
     "output_type": "stream",
     "text": [
      "WARNING:absl:At this time, the v2.11+ optimizer `tf.keras.optimizers.SGD` runs slowly on M1/M2 Macs, please use the legacy Keras optimizer instead, located at `tf.keras.optimizers.legacy.SGD`.\n"
     ]
    }
   ],
   "source": [
    "optimizer = keras.optimizers.SGD(clipvalue=1.0)"
   ]
  },
  {
   "cell_type": "markdown",
   "metadata": {},
   "source": [
    "### 사전 훈련된 층 재사용하기"
   ]
  },
  {
   "cell_type": "code",
   "execution_count": 40,
   "metadata": {
    "ExecuteTime": {
     "end_time": "2023-08-16T15:54:25.506781Z",
     "start_time": "2023-08-16T15:54:25.429061Z"
    }
   },
   "outputs": [],
   "source": [
    "def split_dataset(X, y):\n",
    "    y_5_or_6 = (y == 5) | (y == 6)\n",
    "    y_A = y[~y_5_or_6]\n",
    "    y_A[y_A > 6] -= 2\n",
    "    y_B = (y[y_5_or_6] == 6).astype(np.float32)\n",
    "    return ((X[~y_5_or_6], y_A),\n",
    "            (X[y_5_or_6], y_B))\n",
    "\n",
    "(X_train_A, y_train_A), (X_train_B, y_train_B) = split_dataset(X_train, y_train)\n",
    "(X_valid_A, y_valid_A), (X_valid_B, y_valid_B) = split_dataset(X_valid, y_valid)\n",
    "(X_test_A, y_test_A), (X_test_B, y_test_B) = split_dataset(X_test, y_test)\n",
    "X_train_B = X_train_B[:200]\n",
    "y_train_B = y_train_B[:200]"
   ]
  },
  {
   "cell_type": "code",
   "execution_count": 41,
   "metadata": {
    "ExecuteTime": {
     "end_time": "2023-08-16T15:54:25.511743Z",
     "start_time": "2023-08-16T15:54:25.507773Z"
    }
   },
   "outputs": [
    {
     "data": {
      "text/plain": [
       "(43986, 28, 28)"
      ]
     },
     "execution_count": 41,
     "metadata": {},
     "output_type": "execute_result"
    }
   ],
   "source": [
    "X_train_A.shape"
   ]
  },
  {
   "cell_type": "code",
   "execution_count": 42,
   "metadata": {
    "ExecuteTime": {
     "end_time": "2023-08-16T15:54:25.515901Z",
     "start_time": "2023-08-16T15:54:25.511112Z"
    }
   },
   "outputs": [
    {
     "data": {
      "text/plain": [
       "(200, 28, 28)"
      ]
     },
     "execution_count": 42,
     "metadata": {},
     "output_type": "execute_result"
    }
   ],
   "source": [
    "X_train_B.shape"
   ]
  },
  {
   "cell_type": "code",
   "execution_count": 43,
   "metadata": {
    "ExecuteTime": {
     "end_time": "2023-08-16T15:54:25.522597Z",
     "start_time": "2023-08-16T15:54:25.514759Z"
    }
   },
   "outputs": [
    {
     "data": {
      "text/plain": [
       "array([4, 0, 5, 7, 7, 7, 4, 4, 3, 4, 0, 1, 6, 3, 4, 3, 2, 6, 5, 3, 4, 5,\n",
       "       1, 3, 4, 2, 0, 6, 7, 1], dtype=uint8)"
      ]
     },
     "execution_count": 43,
     "metadata": {},
     "output_type": "execute_result"
    }
   ],
   "source": [
    "y_train_A[:30]"
   ]
  },
  {
   "cell_type": "code",
   "execution_count": 44,
   "metadata": {
    "ExecuteTime": {
     "end_time": "2023-08-16T15:54:25.525413Z",
     "start_time": "2023-08-16T15:54:25.518562Z"
    }
   },
   "outputs": [
    {
     "data": {
      "text/plain": [
       "array([1., 1., 0., 0., 0., 0., 1., 1., 1., 0., 0., 1., 1., 0., 0., 0., 0.,\n",
       "       0., 0., 1., 1., 0., 0., 1., 1., 0., 1., 1., 1., 1.], dtype=float32)"
      ]
     },
     "execution_count": 44,
     "metadata": {},
     "output_type": "execute_result"
    }
   ],
   "source": [
    "y_train_B[:30]"
   ]
  },
  {
   "cell_type": "code",
   "execution_count": 45,
   "metadata": {
    "ExecuteTime": {
     "end_time": "2023-08-16T15:54:25.559885Z",
     "start_time": "2023-08-16T15:54:25.536136Z"
    }
   },
   "outputs": [],
   "source": [
    "tf.random.set_seed(42)\n",
    "np.random.seed(42)"
   ]
  },
  {
   "cell_type": "code",
   "execution_count": 46,
   "metadata": {
    "ExecuteTime": {
     "end_time": "2023-08-16T15:54:25.571439Z",
     "start_time": "2023-08-16T15:54:25.540316Z"
    }
   },
   "outputs": [],
   "source": [
    "model_A = keras.models.Sequential()\n",
    "model_A.add(keras.layers.Flatten(input_shape=[28, 28]))\n",
    "for n_hidden in (300, 100, 50, 50, 50):\n",
    "    model_A.add(keras.layers.Dense(n_hidden, activation='selu'))\n",
    "model_A.add(keras.layers.Dense(8, activation='softmax'))"
   ]
  },
  {
   "cell_type": "code",
   "execution_count": 47,
   "metadata": {
    "ExecuteTime": {
     "end_time": "2023-08-16T15:54:25.610477Z",
     "start_time": "2023-08-16T15:54:25.572357Z"
    }
   },
   "outputs": [
    {
     "name": "stderr",
     "output_type": "stream",
     "text": [
      "WARNING:absl:At this time, the v2.11+ optimizer `tf.keras.optimizers.SGD` runs slowly on M1/M2 Macs, please use the legacy Keras optimizer instead, located at `tf.keras.optimizers.legacy.SGD`.\n",
      "WARNING:absl:There is a known slowdown when using v2.11+ Keras optimizers on M1/M2 Macs. Falling back to the legacy Keras optimizer, i.e., `tf.keras.optimizers.legacy.SGD`.\n"
     ]
    }
   ],
   "source": [
    "model_A.compile(loss='sparse_categorical_crossentropy',\n",
    "                optimizer=keras.optimizers.SGD(learning_rate=1e-3),\n",
    "                metrics=['accuracy'])"
   ]
  },
  {
   "cell_type": "code",
   "execution_count": 48,
   "metadata": {
    "ExecuteTime": {
     "end_time": "2023-08-16T15:54:59.478419Z",
     "start_time": "2023-08-16T15:54:25.581378Z"
    }
   },
   "outputs": [],
   "source": [
    "# history = model_A.fit(X_train_A, y_train_A, epochs=20,\n",
    "#                       validation_data=(X_valid_A, y_valid_A))"
   ]
  },
  {
   "cell_type": "code",
   "execution_count": 49,
   "metadata": {
    "ExecuteTime": {
     "end_time": "2023-08-16T15:54:59.504827Z",
     "start_time": "2023-08-16T15:54:59.478292Z"
    }
   },
   "outputs": [
    {
     "name": "stderr",
     "output_type": "stream",
     "text": [
      "/Users/taemin/anaconda3/lib/python3.9/site-packages/keras/src/engine/training.py:3000: UserWarning: You are saving your model as an HDF5 file via `model.save()`. This file format is considered legacy. We recommend using instead the native Keras format, e.g. `model.save('my_model.keras')`.\n",
      "  saving_api.save_model(\n"
     ]
    }
   ],
   "source": [
    "model_A.save('my_model_A.h5')"
   ]
  },
  {
   "cell_type": "code",
   "execution_count": 50,
   "metadata": {
    "ExecuteTime": {
     "end_time": "2023-08-16T15:54:59.541761Z",
     "start_time": "2023-08-16T15:54:59.500863Z"
    }
   },
   "outputs": [],
   "source": [
    "model_B = keras.models.Sequential()\n",
    "model_B.add(keras.layers.Flatten(input_shape=[28, 28]))\n",
    "for n_hidden in (300, 100, 50, 50, 50):\n",
    "    model_B.add(keras.layers.Dense(n_hidden, activation='selu'))\n",
    "model_B.add(keras.layers.Dense(1, activation='sigmoid'))"
   ]
  },
  {
   "cell_type": "code",
   "execution_count": 51,
   "metadata": {
    "ExecuteTime": {
     "end_time": "2023-08-16T15:54:59.577309Z",
     "start_time": "2023-08-16T15:54:59.523476Z"
    }
   },
   "outputs": [
    {
     "name": "stderr",
     "output_type": "stream",
     "text": [
      "WARNING:absl:At this time, the v2.11+ optimizer `tf.keras.optimizers.SGD` runs slowly on M1/M2 Macs, please use the legacy Keras optimizer instead, located at `tf.keras.optimizers.legacy.SGD`.\n",
      "WARNING:absl:There is a known slowdown when using v2.11+ Keras optimizers on M1/M2 Macs. Falling back to the legacy Keras optimizer, i.e., `tf.keras.optimizers.legacy.SGD`.\n"
     ]
    }
   ],
   "source": [
    "model_B.compile(loss='binary_crossentropy',\n",
    "                optimizer=keras.optimizers.SGD(learning_rate=1e-3),\n",
    "                metrics=['accuracy'])"
   ]
  },
  {
   "cell_type": "code",
   "execution_count": 52,
   "metadata": {
    "ExecuteTime": {
     "end_time": "2023-08-16T15:55:00.525913Z",
     "start_time": "2023-08-16T15:54:59.529738Z"
    }
   },
   "outputs": [
    {
     "name": "stdout",
     "output_type": "stream",
     "text": [
      "Epoch 1/20\n"
     ]
    },
    {
     "name": "stdout",
     "output_type": "stream",
     "text": [
      "7/7 [==============================] - 0s 18ms/step - loss: 0.6167 - accuracy: 0.7200 - val_loss: 0.5647 - val_accuracy: 0.7191\n",
      "Epoch 2/20\n",
      "7/7 [==============================] - 0s 6ms/step - loss: 0.4635 - accuracy: 0.7900 - val_loss: 0.4498 - val_accuracy: 0.8124\n",
      "Epoch 3/20\n",
      "7/7 [==============================] - 0s 6ms/step - loss: 0.3596 - accuracy: 0.8850 - val_loss: 0.3778 - val_accuracy: 0.8671\n",
      "Epoch 4/20\n",
      "7/7 [==============================] - 0s 6ms/step - loss: 0.2955 - accuracy: 0.9300 - val_loss: 0.3262 - val_accuracy: 0.9026\n",
      "Epoch 5/20\n",
      "7/7 [==============================] - 0s 6ms/step - loss: 0.2489 - accuracy: 0.9600 - val_loss: 0.2886 - val_accuracy: 0.9199\n",
      "Epoch 6/20\n",
      "7/7 [==============================] - 0s 6ms/step - loss: 0.2148 - accuracy: 0.9750 - val_loss: 0.2591 - val_accuracy: 0.9351\n",
      "Epoch 7/20\n",
      "7/7 [==============================] - 0s 6ms/step - loss: 0.1896 - accuracy: 0.9800 - val_loss: 0.2365 - val_accuracy: 0.9422\n",
      "Epoch 8/20\n",
      "7/7 [==============================] - 0s 6ms/step - loss: 0.1695 - accuracy: 0.9800 - val_loss: 0.2176 - val_accuracy: 0.9544\n",
      "Epoch 9/20\n",
      "7/7 [==============================] - 0s 6ms/step - loss: 0.1526 - accuracy: 0.9850 - val_loss: 0.2015 - val_accuracy: 0.9574\n",
      "Epoch 10/20\n",
      "7/7 [==============================] - 0s 6ms/step - loss: 0.1379 - accuracy: 0.9850 - val_loss: 0.1884 - val_accuracy: 0.9615\n",
      "Epoch 11/20\n",
      "7/7 [==============================] - 0s 6ms/step - loss: 0.1263 - accuracy: 0.9900 - val_loss: 0.1766 - val_accuracy: 0.9665\n",
      "Epoch 12/20\n",
      "7/7 [==============================] - 0s 6ms/step - loss: 0.1162 - accuracy: 0.9900 - val_loss: 0.1670 - val_accuracy: 0.9726\n",
      "Epoch 13/20\n",
      "7/7 [==============================] - 0s 6ms/step - loss: 0.1075 - accuracy: 0.9950 - val_loss: 0.1585 - val_accuracy: 0.9726\n",
      "Epoch 14/20\n",
      "7/7 [==============================] - 0s 6ms/step - loss: 0.1001 - accuracy: 0.9950 - val_loss: 0.1506 - val_accuracy: 0.9757\n",
      "Epoch 15/20\n",
      "7/7 [==============================] - 0s 6ms/step - loss: 0.0932 - accuracy: 0.9950 - val_loss: 0.1438 - val_accuracy: 0.9736\n",
      "Epoch 16/20\n",
      "7/7 [==============================] - 0s 6ms/step - loss: 0.0871 - accuracy: 0.9950 - val_loss: 0.1380 - val_accuracy: 0.9757\n",
      "Epoch 17/20\n",
      "7/7 [==============================] - 0s 6ms/step - loss: 0.0822 - accuracy: 1.0000 - val_loss: 0.1322 - val_accuracy: 0.9767\n",
      "Epoch 18/20\n",
      "7/7 [==============================] - 0s 6ms/step - loss: 0.0771 - accuracy: 1.0000 - val_loss: 0.1274 - val_accuracy: 0.9767\n",
      "Epoch 19/20\n",
      "7/7 [==============================] - 0s 6ms/step - loss: 0.0729 - accuracy: 1.0000 - val_loss: 0.1227 - val_accuracy: 0.9777\n",
      "Epoch 20/20\n",
      "7/7 [==============================] - 0s 6ms/step - loss: 0.0689 - accuracy: 1.0000 - val_loss: 0.1185 - val_accuracy: 0.9787\n"
     ]
    }
   ],
   "source": [
    "history = model_B.fit(X_train_B, y_train_B, epochs=20,\n",
    "                      validation_data=(X_valid_B, y_valid_B))"
   ]
  },
  {
   "cell_type": "code",
   "execution_count": 53,
   "metadata": {
    "ExecuteTime": {
     "end_time": "2023-08-16T15:55:00.541770Z",
     "start_time": "2023-08-16T15:55:00.525335Z"
    }
   },
   "outputs": [
    {
     "name": "stdout",
     "output_type": "stream",
     "text": [
      "Model: \"sequential_7\"\n",
      "_________________________________________________________________\n",
      " Layer (type)                Output Shape              Param #   \n",
      "=================================================================\n",
      " flatten_7 (Flatten)         (None, 784)               0         \n",
      "                                                                 \n",
      " dense_224 (Dense)           (None, 300)               235500    \n",
      "                                                                 \n",
      " dense_225 (Dense)           (None, 100)               30100     \n",
      "                                                                 \n",
      " dense_226 (Dense)           (None, 50)                5050      \n",
      "                                                                 \n",
      " dense_227 (Dense)           (None, 50)                2550      \n",
      "                                                                 \n",
      " dense_228 (Dense)           (None, 50)                2550      \n",
      "                                                                 \n",
      " dense_229 (Dense)           (None, 1)                 51        \n",
      "                                                                 \n",
      "=================================================================\n",
      "Total params: 275801 (1.05 MB)\n",
      "Trainable params: 275801 (1.05 MB)\n",
      "Non-trainable params: 0 (0.00 Byte)\n",
      "_________________________________________________________________\n"
     ]
    }
   ],
   "source": [
    "model_B.summary()"
   ]
  },
  {
   "cell_type": "code",
   "execution_count": 54,
   "metadata": {
    "ExecuteTime": {
     "end_time": "2023-08-16T15:55:00.605863Z",
     "start_time": "2023-08-16T15:55:00.534728Z"
    }
   },
   "outputs": [],
   "source": [
    "model_A = keras.models.load_model('my_model_A.h5')\n",
    "model_B_on_A = keras.models.Sequential(model_A.layers[:-1])\n",
    "model_B_on_A.add(keras.layers.Dense(1, activation='sigmoid'))"
   ]
  },
  {
   "cell_type": "code",
   "execution_count": 55,
   "metadata": {
    "ExecuteTime": {
     "end_time": "2023-08-16T15:55:00.613501Z",
     "start_time": "2023-08-16T15:55:00.593810Z"
    }
   },
   "outputs": [],
   "source": [
    "model_A_clone = keras.models.clone_model(model_A)\n",
    "model_A_clone.set_weights(model_A.get_weights())"
   ]
  },
  {
   "cell_type": "code",
   "execution_count": 56,
   "metadata": {
    "ExecuteTime": {
     "end_time": "2023-08-16T15:55:00.622988Z",
     "start_time": "2023-08-16T15:55:00.613364Z"
    }
   },
   "outputs": [
    {
     "name": "stderr",
     "output_type": "stream",
     "text": [
      "WARNING:absl:At this time, the v2.11+ optimizer `tf.keras.optimizers.SGD` runs slowly on M1/M2 Macs, please use the legacy Keras optimizer instead, located at `tf.keras.optimizers.legacy.SGD`.\n",
      "WARNING:absl:There is a known slowdown when using v2.11+ Keras optimizers on M1/M2 Macs. Falling back to the legacy Keras optimizer, i.e., `tf.keras.optimizers.legacy.SGD`.\n"
     ]
    }
   ],
   "source": [
    "for layer in model_B_on_A.layers[:-1]:\n",
    "    layer.trainable = False\n",
    "\n",
    "model_B_on_A.compile(loss='binary_crossentropy',\n",
    "                     optimizer=keras.optimizers.SGD(learning_rate=1e-3),\n",
    "                     metrics=['accuracy'])"
   ]
  },
  {
   "cell_type": "code",
   "execution_count": 57,
   "metadata": {
    "ExecuteTime": {
     "end_time": "2023-08-16T15:55:01.799165Z",
     "start_time": "2023-08-16T15:55:00.620231Z"
    }
   },
   "outputs": [],
   "source": [
    "# history = model_B_on_A.fit(X_train_B, y_train_B, epochs=4,\n",
    "#                            validation_data=(X_valid_B, y_valid_B))\n",
    "\n",
    "# for layer in model_B_on_A.layers[:-1]:\n",
    "#     layer.trainable = True\n",
    "\n",
    "# model_B_on_A.compile(loss='binary_crossentropy',\n",
    "#                      optimizer=keras.optimizers.SGD(learning_rate=1e-3),\n",
    "#                      metrics=['accuracy'])\n",
    "# history = model_B_on_A.fit(X_train_B, y_train_B, epochs=16,\n",
    "#                            validation_data=(X_valid_B, y_valid_B))"
   ]
  },
  {
   "cell_type": "code",
   "execution_count": 58,
   "metadata": {
    "ExecuteTime": {
     "end_time": "2023-08-16T15:55:01.885149Z",
     "start_time": "2023-08-16T15:55:01.799044Z"
    }
   },
   "outputs": [
    {
     "name": "stdout",
     "output_type": "stream",
     "text": [
      "63/63 [==============================] - 0s 691us/step - loss: 0.1111 - accuracy: 0.9770\n"
     ]
    },
    {
     "data": {
      "text/plain": [
       "[0.11108828336000443, 0.9769999980926514]"
      ]
     },
     "execution_count": 58,
     "metadata": {},
     "output_type": "execute_result"
    }
   ],
   "source": [
    "model_B.evaluate(X_test_B, y_test_B)"
   ]
  },
  {
   "cell_type": "code",
   "execution_count": 59,
   "metadata": {
    "ExecuteTime": {
     "end_time": "2023-08-16T15:55:01.935291Z",
     "start_time": "2023-08-16T15:55:01.869399Z"
    }
   },
   "outputs": [
    {
     "name": "stdout",
     "output_type": "stream",
     "text": [
      "63/63 [==============================] - 0s 719us/step - loss: 0.9656 - accuracy: 0.3195\n"
     ]
    },
    {
     "data": {
      "text/plain": [
       "[0.9656099677085876, 0.31949999928474426]"
      ]
     },
     "execution_count": 59,
     "metadata": {},
     "output_type": "execute_result"
    }
   ],
   "source": [
    "model_B_on_A.evaluate(X_test_B, y_test_B)"
   ]
  },
  {
   "cell_type": "markdown",
   "metadata": {},
   "source": [
    "### 고속 옵티마이저"
   ]
  },
  {
   "cell_type": "code",
   "execution_count": 60,
   "metadata": {
    "ExecuteTime": {
     "end_time": "2023-08-16T15:55:01.945481Z",
     "start_time": "2023-08-16T15:55:01.935839Z"
    }
   },
   "outputs": [
    {
     "name": "stderr",
     "output_type": "stream",
     "text": [
      "WARNING:absl:At this time, the v2.11+ optimizer `tf.keras.optimizers.SGD` runs slowly on M1/M2 Macs, please use the legacy Keras optimizer instead, located at `tf.keras.optimizers.legacy.SGD`.\n"
     ]
    },
    {
     "data": {
      "text/plain": [
       "<keras.src.optimizers.sgd.SGD at 0x2a1d235e0>"
      ]
     },
     "execution_count": 60,
     "metadata": {},
     "output_type": "execute_result"
    }
   ],
   "source": [
    "keras.optimizers.SGD(learning_rate=0.001, momentum=0.9)"
   ]
  },
  {
   "cell_type": "code",
   "execution_count": 61,
   "metadata": {
    "ExecuteTime": {
     "end_time": "2023-08-16T15:55:01.945727Z",
     "start_time": "2023-08-16T15:55:01.939574Z"
    }
   },
   "outputs": [
    {
     "name": "stderr",
     "output_type": "stream",
     "text": [
      "WARNING:absl:At this time, the v2.11+ optimizer `tf.keras.optimizers.SGD` runs slowly on M1/M2 Macs, please use the legacy Keras optimizer instead, located at `tf.keras.optimizers.legacy.SGD`.\n"
     ]
    },
    {
     "data": {
      "text/plain": [
       "<keras.src.optimizers.sgd.SGD at 0x306b9d910>"
      ]
     },
     "execution_count": 61,
     "metadata": {},
     "output_type": "execute_result"
    }
   ],
   "source": [
    "keras.optimizers.SGD(learning_rate=0.001, momentum=0.9, nesterov=True)"
   ]
  },
  {
   "cell_type": "code",
   "execution_count": 62,
   "metadata": {
    "ExecuteTime": {
     "end_time": "2023-08-16T15:55:01.967291Z",
     "start_time": "2023-08-16T15:55:01.943321Z"
    }
   },
   "outputs": [
    {
     "name": "stderr",
     "output_type": "stream",
     "text": [
      "WARNING:absl:At this time, the v2.11+ optimizer `tf.keras.optimizers.Adagrad` runs slowly on M1/M2 Macs, please use the legacy Keras optimizer instead, located at `tf.keras.optimizers.legacy.Adagrad`.\n"
     ]
    },
    {
     "data": {
      "text/plain": [
       "<keras.src.optimizers.adagrad.Adagrad at 0x306b9d700>"
      ]
     },
     "execution_count": 62,
     "metadata": {},
     "output_type": "execute_result"
    }
   ],
   "source": [
    "keras.optimizers.Adagrad(learning_rate=0.001)"
   ]
  },
  {
   "cell_type": "code",
   "execution_count": 63,
   "metadata": {
    "ExecuteTime": {
     "end_time": "2023-08-16T15:55:01.967674Z",
     "start_time": "2023-08-16T15:55:01.947331Z"
    }
   },
   "outputs": [
    {
     "name": "stderr",
     "output_type": "stream",
     "text": [
      "WARNING:absl:At this time, the v2.11+ optimizer `tf.keras.optimizers.RMSprop` runs slowly on M1/M2 Macs, please use the legacy Keras optimizer instead, located at `tf.keras.optimizers.legacy.RMSprop`.\n"
     ]
    },
    {
     "data": {
      "text/plain": [
       "<keras.src.optimizers.rmsprop.RMSprop at 0x306bb19d0>"
      ]
     },
     "execution_count": 63,
     "metadata": {},
     "output_type": "execute_result"
    }
   ],
   "source": [
    "keras.optimizers.RMSprop(learning_rate=0.001, rho=0.9)"
   ]
  },
  {
   "cell_type": "code",
   "execution_count": 64,
   "metadata": {
    "ExecuteTime": {
     "end_time": "2023-08-16T15:55:02.020056Z",
     "start_time": "2023-08-16T15:55:01.951050Z"
    }
   },
   "outputs": [
    {
     "name": "stderr",
     "output_type": "stream",
     "text": [
      "WARNING:absl:At this time, the v2.11+ optimizer `tf.keras.optimizers.Adam` runs slowly on M1/M2 Macs, please use the legacy Keras optimizer instead, located at `tf.keras.optimizers.legacy.Adam`.\n"
     ]
    },
    {
     "data": {
      "text/plain": [
       "<keras.src.optimizers.adam.Adam at 0x306bb1d30>"
      ]
     },
     "execution_count": 64,
     "metadata": {},
     "output_type": "execute_result"
    }
   ],
   "source": [
    "keras.optimizers.Adam(learning_rate=0.001, beta_1=0.9, beta_2=0.999)"
   ]
  },
  {
   "cell_type": "code",
   "execution_count": 65,
   "metadata": {
    "ExecuteTime": {
     "end_time": "2023-08-16T15:55:02.020640Z",
     "start_time": "2023-08-16T15:55:01.954590Z"
    }
   },
   "outputs": [
    {
     "name": "stderr",
     "output_type": "stream",
     "text": [
      "WARNING:absl:At this time, the v2.11+ optimizer `tf.keras.optimizers.Adamax` runs slowly on M1/M2 Macs, please use the legacy Keras optimizer instead, located at `tf.keras.optimizers.legacy.Adamax`.\n"
     ]
    },
    {
     "data": {
      "text/plain": [
       "<keras.src.optimizers.adamax.Adamax at 0x306dcd400>"
      ]
     },
     "execution_count": 65,
     "metadata": {},
     "output_type": "execute_result"
    }
   ],
   "source": [
    "keras.optimizers.Adamax(learning_rate=0.001, beta_1=0.9, beta_2=0.999)"
   ]
  },
  {
   "cell_type": "code",
   "execution_count": 66,
   "metadata": {
    "ExecuteTime": {
     "end_time": "2023-08-16T15:55:02.020787Z",
     "start_time": "2023-08-16T15:55:01.958966Z"
    }
   },
   "outputs": [
    {
     "name": "stderr",
     "output_type": "stream",
     "text": [
      "WARNING:absl:At this time, the v2.11+ optimizer `tf.keras.optimizers.Nadam` runs slowly on M1/M2 Macs, please use the legacy Keras optimizer instead, located at `tf.keras.optimizers.legacy.Nadam`.\n"
     ]
    },
    {
     "data": {
      "text/plain": [
       "<keras.src.optimizers.nadam.Nadam at 0x306dcd070>"
      ]
     },
     "execution_count": 66,
     "metadata": {},
     "output_type": "execute_result"
    }
   ],
   "source": [
    "keras.optimizers.Nadam(learning_rate=0.001, beta_1=0.9, beta_2=0.999)"
   ]
  },
  {
   "cell_type": "markdown",
   "metadata": {},
   "source": [
    "### 학습률 스케줄링"
   ]
  },
  {
   "cell_type": "code",
   "execution_count": 67,
   "metadata": {
    "ExecuteTime": {
     "end_time": "2023-08-16T15:55:02.020860Z",
     "start_time": "2023-08-16T15:55:01.962395Z"
    }
   },
   "outputs": [],
   "source": [
    "optimizer = tf.keras.optimizers.legacy.SGD(learning_rate=0.01, decay=1e-4)"
   ]
  },
  {
   "cell_type": "code",
   "execution_count": 68,
   "metadata": {
    "ExecuteTime": {
     "end_time": "2023-08-16T15:55:02.127079Z",
     "start_time": "2023-08-16T15:55:01.967748Z"
    }
   },
   "outputs": [],
   "source": [
    "model = keras.models.Sequential([\n",
    "    keras.layers.Flatten(input_shape=[28, 28]),\n",
    "    keras.layers.Dense(300, activation='selu', kernel_initializer='lecun_normal'),\n",
    "    keras.layers.Dense(100, activation='selu', kernel_initializer='lecun_normal'),\n",
    "    keras.layers.Dense(10, activation='softmax')\n",
    "])\n",
    "model.compile(loss='sparse_categorical_crossentropy', optimizer=optimizer, metrics=['accuracy'])"
   ]
  },
  {
   "cell_type": "code",
   "execution_count": 69,
   "metadata": {
    "ExecuteTime": {
     "end_time": "2023-08-16T15:55:50.880025Z",
     "start_time": "2023-08-16T15:55:01.985101Z"
    }
   },
   "outputs": [],
   "source": [
    "# n_epochs = 25\n",
    "# history = model.fit(X_train_scaled, y_train, epochs=n_epochs,\n",
    "#                     validation_data=(X_valid_scaled, y_valid))"
   ]
  },
  {
   "cell_type": "code",
   "execution_count": 70,
   "metadata": {
    "ExecuteTime": {
     "end_time": "2023-08-16T15:55:50.882374Z",
     "start_time": "2023-08-16T15:55:50.879860Z"
    }
   },
   "outputs": [],
   "source": [
    "def exponential_decay_fn(epoch):\n",
    "    return 0.01 * 0.1**(epoch / 20)"
   ]
  },
  {
   "cell_type": "code",
   "execution_count": 71,
   "metadata": {
    "ExecuteTime": {
     "end_time": "2023-08-16T15:55:50.884616Z",
     "start_time": "2023-08-16T15:55:50.882148Z"
    }
   },
   "outputs": [],
   "source": [
    "def exponential_decay(lr0, s):\n",
    "    def exponential_decay_fn(epoch):\n",
    "        return lr0 * 0.1**(epoch / s)\n",
    "    return exponential_decay_fn\n",
    "\n",
    "exponential_decay_fn = exponential_decay(lr0=0.01, s=20)"
   ]
  },
  {
   "cell_type": "code",
   "execution_count": 72,
   "metadata": {
    "ExecuteTime": {
     "end_time": "2023-08-16T15:55:50.914657Z",
     "start_time": "2023-08-16T15:55:50.886737Z"
    }
   },
   "outputs": [],
   "source": [
    "model = keras.models.Sequential([\n",
    "    keras.layers.Flatten(input_shape=[28, 28]),\n",
    "    keras.layers.Dense(300, activation='selu', kernel_initializer='lecun_normal'),\n",
    "    keras.layers.Dense(100, activation='selu', kernel_initializer='lecun_normal'),\n",
    "    keras.layers.Dense(10, activation='softmax')\n",
    "])\n",
    "model.compile(loss='sparse_categorical_crossentropy', optimizer='nadam', metrics=['accuracy'])\n",
    "n_epochs = 25"
   ]
  },
  {
   "cell_type": "code",
   "execution_count": 73,
   "metadata": {
    "ExecuteTime": {
     "end_time": "2023-08-16T15:57:34.604019Z",
     "start_time": "2023-08-16T15:55:50.902639Z"
    }
   },
   "outputs": [],
   "source": [
    "# lr_scheduler = keras.callbacks.LearningRateScheduler(exponential_decay_fn)\n",
    "# history = model.fit(X_train_scaled, y_train, epochs=n_epochs,\n",
    "#                     validation_data=(X_valid_scaled, y_valid),\n",
    "#                     callbacks=[lr_scheduler])"
   ]
  },
  {
   "cell_type": "code",
   "execution_count": 74,
   "metadata": {
    "ExecuteTime": {
     "end_time": "2023-08-16T15:57:34.609600Z",
     "start_time": "2023-08-16T15:57:34.606414Z"
    }
   },
   "outputs": [],
   "source": [
    "K = keras.backend\n",
    "\n",
    "class ExponentialDecay(keras.callbacks.Callback):\n",
    "    def __init__(self, s=40000):\n",
    "        super().__init__()\n",
    "        self.s = s\n",
    "    \n",
    "    def on_batch_begin(self, batch, logs=None):\n",
    "        lr = K.get_value(self.model.optimizer.lr)\n",
    "        K.set_value(self.model.optimizer.lr, lr * 0.1**(1 / s))\n",
    "    \n",
    "    def on_epoch_end(self, epoch, logs=None):\n",
    "        logs = logs or {}\n",
    "        logs['lr'] = K.get_value(self.model.optimizer.lr)"
   ]
  },
  {
   "cell_type": "code",
   "execution_count": 75,
   "metadata": {
    "ExecuteTime": {
     "end_time": "2023-08-16T15:57:34.652634Z",
     "start_time": "2023-08-16T15:57:34.613254Z"
    }
   },
   "outputs": [
    {
     "name": "stderr",
     "output_type": "stream",
     "text": [
      "WARNING:absl:At this time, the v2.11+ optimizer `tf.keras.optimizers.Nadam` runs slowly on M1/M2 Macs, please use the legacy Keras optimizer instead, located at `tf.keras.optimizers.legacy.Nadam`.\n",
      "WARNING:absl:`lr` is deprecated in Keras optimizer, please use `learning_rate` or use the legacy optimizer, e.g.,tf.keras.optimizers.legacy.Nadam.\n",
      "WARNING:absl:There is a known slowdown when using v2.11+ Keras optimizers on M1/M2 Macs. Falling back to the legacy Keras optimizer, i.e., `tf.keras.optimizers.legacy.Nadam`.\n"
     ]
    }
   ],
   "source": [
    "model = keras.models.Sequential([\n",
    "    keras.layers.Flatten(input_shape=[28, 28]),\n",
    "    keras.layers.Dense(300, activation='selu', kernel_initializer='lecun_normal'),\n",
    "    keras.layers.Dense(100, activation='selu', kernel_initializer='lecun_normal'),\n",
    "    keras.layers.Dense(10, activation='softmax')\n",
    "])\n",
    "lr0 = 0.01\n",
    "optimizer = keras.optimizers.Nadam(lr=lr0)\n",
    "model.compile(loss='sparse_categorical_crossentropy', optimizer=optimizer, metrics=['accuracy'])\n",
    "n_epochs = 25"
   ]
  },
  {
   "cell_type": "code",
   "execution_count": 76,
   "metadata": {
    "ExecuteTime": {
     "end_time": "2023-08-16T15:59:25.756569Z",
     "start_time": "2023-08-16T15:57:34.635311Z"
    }
   },
   "outputs": [],
   "source": [
    "# s = 20 * len(X_train) // 32\n",
    "# exp_decay = ExponentialDecay(s)\n",
    "# history = model.fit(X_train_scaled, y_train, epochs=n_epochs,\n",
    "#                     validation_data=(X_valid_scaled, y_valid),\n",
    "#                     callbacks=[exp_decay])"
   ]
  },
  {
   "cell_type": "code",
   "execution_count": 77,
   "metadata": {
    "ExecuteTime": {
     "end_time": "2023-08-16T15:59:25.759450Z",
     "start_time": "2023-08-16T15:59:25.756411Z"
    }
   },
   "outputs": [],
   "source": [
    "def piecewise_constant_fn(epoch):\n",
    "    if epoch < 5:\n",
    "        return 0.01\n",
    "    elif epoch < 15:\n",
    "        return 0.005\n",
    "    else:\n",
    "        return 0.001"
   ]
  },
  {
   "cell_type": "code",
   "execution_count": 78,
   "metadata": {
    "ExecuteTime": {
     "end_time": "2023-08-16T15:59:25.763397Z",
     "start_time": "2023-08-16T15:59:25.760054Z"
    }
   },
   "outputs": [],
   "source": [
    "def piecewise_constant(boundaries, values):\n",
    "    boundaries = np.array([0] + boundaries)\n",
    "    values = np.array(values)\n",
    "    def piecewise_constant_fn(epoch):\n",
    "        return values[np.argmax(boundaries > epoch) - 1]\n",
    "    return piecewise_constant_fn\n",
    "\n",
    "piecewise_constant_fn = piecewise_constant([5, 15], [0.01, 0.005, 0.001])"
   ]
  },
  {
   "cell_type": "code",
   "execution_count": 79,
   "metadata": {
    "ExecuteTime": {
     "end_time": "2023-08-16T16:49:21.329931Z",
     "start_time": "2023-08-16T15:59:25.764786Z"
    }
   },
   "outputs": [],
   "source": [
    "# lr_scheduler = keras.callbacks.LearningRateScheduler(piecewise_constant_fn)\n",
    "\n",
    "# model = keras.models.Sequential([\n",
    "#     keras.layers.Flatten(input_shape=[28, 28]),\n",
    "#     keras.layers.Dense(300, activation=\"selu\", kernel_initializer=\"lecun_normal\"),\n",
    "#     keras.layers.Dense(100, activation=\"selu\", kernel_initializer=\"lecun_normal\"),\n",
    "#     keras.layers.Dense(10, activation=\"softmax\")\n",
    "# ])\n",
    "# model.compile(loss=\"sparse_categorical_crossentropy\", optimizer=\"nadam\", metrics=[\"accuracy\"])\n",
    "# n_epochs = 25\n",
    "# history = model.fit(X_train_scaled, y_train, epochs=n_epochs,\n",
    "#                     validation_data=(X_valid_scaled, y_valid),\n",
    "#                     callbacks=[lr_scheduler])"
   ]
  },
  {
   "cell_type": "code",
   "execution_count": 80,
   "metadata": {
    "ExecuteTime": {
     "end_time": "2023-08-16T16:49:21.353614Z",
     "start_time": "2023-08-16T16:49:21.345750Z"
    }
   },
   "outputs": [],
   "source": [
    "tf.random.set_seed(42)\n",
    "np.random.seed(42)"
   ]
  },
  {
   "cell_type": "code",
   "execution_count": 81,
   "metadata": {
    "ExecuteTime": {
     "end_time": "2023-08-16T17:22:25.634144Z",
     "start_time": "2023-08-16T16:49:21.353199Z"
    }
   },
   "outputs": [],
   "source": [
    "# lr_scheduler = keras.callbacks.ReduceLROnPlateau(factor=0.5, patience=5)\n",
    "\n",
    "# model = keras.models.Sequential([\n",
    "#     keras.layers.Flatten(input_shape=[28, 28]),\n",
    "#     keras.layers.Dense(300, activation=\"selu\", kernel_initializer=\"lecun_normal\"),\n",
    "#     keras.layers.Dense(100, activation=\"selu\", kernel_initializer=\"lecun_normal\"),\n",
    "#     keras.layers.Dense(10, activation=\"softmax\")\n",
    "# ])\n",
    "\n",
    "# optimizer = keras.optimizers.SGD(lr=0.02, momentum=0.9)\n",
    "# model.compile(loss=\"sparse_categorical_crossentropy\", optimizer=optimizer, metrics=[\"accuracy\"])\n",
    "# n_epochs = 25\n",
    "# history = model.fit(X_train_scaled, y_train, epochs=n_epochs,\n",
    "#                     validation_data=(X_valid_scaled, y_valid),\n",
    "#                     callbacks=[lr_scheduler])"
   ]
  },
  {
   "cell_type": "code",
   "execution_count": 82,
   "metadata": {
    "ExecuteTime": {
     "end_time": "2023-08-16T17:23:12.199458Z",
     "start_time": "2023-08-16T17:22:25.648162Z"
    }
   },
   "outputs": [],
   "source": [
    "# model = keras.models.Sequential([\n",
    "#     keras.layers.Flatten(input_shape=[28, 28]),\n",
    "#     keras.layers.Dense(300, activation=\"selu\", kernel_initializer=\"lecun_normal\"),\n",
    "#     keras.layers.Dense(100, activation=\"selu\", kernel_initializer=\"lecun_normal\"),\n",
    "#     keras.layers.Dense(10, activation=\"softmax\")\n",
    "# ])\n",
    "# s = 20 * len(X_train) // 32\n",
    "# learning_rate = keras.optimizers.schedules.ExponentialDecay(0.01, s, 0.1)\n",
    "# optimizer = keras.optimizers.SGD(learning_rate)\n",
    "# model.compile(loss=\"sparse_categorical_crossentropy\", optimizer=optimizer, metrics=[\"accuracy\"])\n",
    "# n_epochs = 25\n",
    "# history = model.fit(X_train_scaled, y_train, epochs=n_epochs,\n",
    "#                     validation_data=(X_valid_scaled, y_valid))"
   ]
  },
  {
   "cell_type": "markdown",
   "metadata": {
    "collapsed": false
   },
   "source": [
    "### 규제를 사용해 과대적합 피하기"
   ]
  },
  {
   "cell_type": "code",
   "execution_count": 83,
   "metadata": {
    "ExecuteTime": {
     "end_time": "2023-08-16T17:23:12.206628Z",
     "start_time": "2023-08-16T17:23:12.203216Z"
    },
    "collapsed": false
   },
   "outputs": [],
   "source": [
    "layer = keras.layers.Dense(100, activation='elu',\n",
    "                           kernel_initializer='he_normal',\n",
    "                           kernel_regularizer=keras.regularizers.l2(0.01))"
   ]
  },
  {
   "cell_type": "code",
   "execution_count": 84,
   "metadata": {
    "ExecuteTime": {
     "end_time": "2023-08-16T17:23:21.040856Z",
     "start_time": "2023-08-16T17:23:12.208853Z"
    },
    "collapsed": false
   },
   "outputs": [],
   "source": [
    "# model = keras.models.Sequential([\n",
    "#     keras.layers.Flatten(input_shape=[28, 28]),\n",
    "#     keras.layers.Dense(300, activation='elu',\n",
    "#                        kernel_initializer='he_normal',\n",
    "#                        kernel_regularizer=keras.regularizers.l2(0.01)),\n",
    "#     keras.layers.Dense(100, activation='elu',\n",
    "#                        kernel_initializer='he_normal',\n",
    "#                        kernel_regularizer=keras.regularizers.l2(0.01)),\n",
    "#     keras.layers.Dense(10, activation='softmax',\n",
    "#                        kernel_regularizer=keras.regularizers.l2(0.01))\n",
    "# ])\n",
    "# model.compile(loss=\"sparse_categorical_crossentropy\", optimizer=\"nadam\", metrics=[\"accuracy\"])\n",
    "# n_epochs = 2\n",
    "# history = model.fit(X_train_scaled, y_train, epochs=n_epochs,\n",
    "#                     validation_data=(X_valid_scaled, y_valid))"
   ]
  },
  {
   "cell_type": "code",
   "execution_count": 85,
   "metadata": {
    "ExecuteTime": {
     "end_time": "2023-08-16T17:23:30.014237Z",
     "start_time": "2023-08-16T17:23:21.043519Z"
    },
    "collapsed": false
   },
   "outputs": [],
   "source": [
    "# from functools import partial\n",
    "\n",
    "# RegularizedDense = partial(keras.layers.Dense,\n",
    "#                            activation='elu',\n",
    "#                            kernel_initializer='he_normal',\n",
    "#                            kernel_regularizer=keras.regularizers.l2(0.01))\n",
    "\n",
    "# model = keras.models.Sequential([\n",
    "#     keras.layers.Flatten(input_shape=[28, 28]),\n",
    "#     RegularizedDense(300),\n",
    "#     RegularizedDense(100),\n",
    "#     RegularizedDense(10, activation='softmax')\n",
    "# ])\n",
    "# model.compile(loss=\"sparse_categorical_crossentropy\", optimizer=\"nadam\", metrics=[\"accuracy\"])\n",
    "# n_epochs = 2\n",
    "# history = model.fit(X_train_scaled, y_train, epochs=n_epochs,\n",
    "#                     validation_data=(X_valid_scaled, y_valid))"
   ]
  },
  {
   "cell_type": "markdown",
   "metadata": {
    "collapsed": false
   },
   "source": [
    "### 드롭아웃"
   ]
  },
  {
   "cell_type": "code",
   "execution_count": 86,
   "metadata": {
    "ExecuteTime": {
     "end_time": "2023-08-16T17:38:55.195827Z",
     "start_time": "2023-08-16T17:38:44.463354Z"
    },
    "collapsed": false
   },
   "outputs": [],
   "source": [
    "# model = keras.models.Sequential([\n",
    "#     keras.layers.Flatten(input_shape=[28, 28]),\n",
    "#     keras.layers.Dropout(rate=0.2),\n",
    "#     keras.layers.Dense(300, activation=\"elu\", kernel_initializer=\"he_normal\"),\n",
    "#     keras.layers.Dropout(rate=0.2),\n",
    "#     keras.layers.Dense(100, activation=\"elu\", kernel_initializer=\"he_normal\"),\n",
    "#     keras.layers.Dropout(rate=0.2),\n",
    "#     keras.layers.Dense(10, activation=\"softmax\")\n",
    "# ])\n",
    "# model.compile(loss=\"sparse_categorical_crossentropy\", optimizer=\"nadam\", metrics=[\"accuracy\"])\n",
    "# n_epochs = 2\n",
    "# history = model.fit(X_train_scaled, y_train, epochs=n_epochs,\n",
    "#                     validation_data=(X_valid_scaled, y_valid))"
   ]
  },
  {
   "cell_type": "code",
   "execution_count": 87,
   "metadata": {
    "ExecuteTime": {
     "end_time": "2023-08-16T18:31:59.846311Z",
     "start_time": "2023-08-16T18:31:59.820592Z"
    },
    "collapsed": false
   },
   "outputs": [],
   "source": [
    "tf.random.set_seed(42)\n",
    "np.random.seed(42)"
   ]
  },
  {
   "cell_type": "code",
   "execution_count": 88,
   "metadata": {
    "ExecuteTime": {
     "end_time": "2023-08-16T18:33:24.347194Z",
     "start_time": "2023-08-16T18:33:20.043734Z"
    },
    "collapsed": false
   },
   "outputs": [],
   "source": [
    "y_probas = np.stack([model(X_test_scaled, training=True)\n",
    "                     for sample in range(100)])\n",
    "y_proba = y_probas.mean(axis=0)\n",
    "y_std = y_probas.std(axis=0)"
   ]
  },
  {
   "cell_type": "code",
   "execution_count": 89,
   "metadata": {
    "ExecuteTime": {
     "end_time": "2023-08-16T18:33:41.794183Z",
     "start_time": "2023-08-16T18:33:41.715892Z"
    },
    "collapsed": false
   },
   "outputs": [
    {
     "name": "stdout",
     "output_type": "stream",
     "text": [
      "1/1 [==============================] - 0s 36ms/step\n"
     ]
    },
    {
     "data": {
      "text/plain": [
       "array([[0.2 , 0.02, 0.2 , 0.03, 0.11, 0.25, 0.06, 0.03, 0.03, 0.08]],\n",
       "      dtype=float32)"
      ]
     },
     "execution_count": 89,
     "metadata": {},
     "output_type": "execute_result"
    }
   ],
   "source": [
    "np.round(model.predict(X_test_scaled[:1]), 2)"
   ]
  },
  {
   "cell_type": "code",
   "execution_count": 90,
   "metadata": {
    "ExecuteTime": {
     "end_time": "2023-08-16T18:33:59.716803Z",
     "start_time": "2023-08-16T18:33:59.649370Z"
    },
    "collapsed": false
   },
   "outputs": [
    {
     "data": {
      "text/plain": [
       "array([[[0.2 , 0.02, 0.2 , 0.03, 0.11, 0.25, 0.06, 0.03, 0.03, 0.08]],\n",
       "\n",
       "       [[0.2 , 0.02, 0.2 , 0.03, 0.11, 0.25, 0.06, 0.03, 0.03, 0.08]],\n",
       "\n",
       "       [[0.2 , 0.02, 0.2 , 0.03, 0.11, 0.25, 0.06, 0.03, 0.03, 0.08]],\n",
       "\n",
       "       [[0.2 , 0.02, 0.2 , 0.03, 0.11, 0.25, 0.06, 0.03, 0.03, 0.08]],\n",
       "\n",
       "       [[0.2 , 0.02, 0.2 , 0.03, 0.11, 0.25, 0.06, 0.03, 0.03, 0.08]],\n",
       "\n",
       "       [[0.2 , 0.02, 0.2 , 0.03, 0.11, 0.25, 0.06, 0.03, 0.03, 0.08]],\n",
       "\n",
       "       [[0.2 , 0.02, 0.2 , 0.03, 0.11, 0.25, 0.06, 0.03, 0.03, 0.08]],\n",
       "\n",
       "       [[0.2 , 0.02, 0.2 , 0.03, 0.11, 0.25, 0.06, 0.03, 0.03, 0.08]],\n",
       "\n",
       "       [[0.2 , 0.02, 0.2 , 0.03, 0.11, 0.25, 0.06, 0.03, 0.03, 0.08]],\n",
       "\n",
       "       [[0.2 , 0.02, 0.2 , 0.03, 0.11, 0.25, 0.06, 0.03, 0.03, 0.08]],\n",
       "\n",
       "       [[0.2 , 0.02, 0.2 , 0.03, 0.11, 0.25, 0.06, 0.03, 0.03, 0.08]],\n",
       "\n",
       "       [[0.2 , 0.02, 0.2 , 0.03, 0.11, 0.25, 0.06, 0.03, 0.03, 0.08]],\n",
       "\n",
       "       [[0.2 , 0.02, 0.2 , 0.03, 0.11, 0.25, 0.06, 0.03, 0.03, 0.08]],\n",
       "\n",
       "       [[0.2 , 0.02, 0.2 , 0.03, 0.11, 0.25, 0.06, 0.03, 0.03, 0.08]],\n",
       "\n",
       "       [[0.2 , 0.02, 0.2 , 0.03, 0.11, 0.25, 0.06, 0.03, 0.03, 0.08]],\n",
       "\n",
       "       [[0.2 , 0.02, 0.2 , 0.03, 0.11, 0.25, 0.06, 0.03, 0.03, 0.08]],\n",
       "\n",
       "       [[0.2 , 0.02, 0.2 , 0.03, 0.11, 0.25, 0.06, 0.03, 0.03, 0.08]],\n",
       "\n",
       "       [[0.2 , 0.02, 0.2 , 0.03, 0.11, 0.25, 0.06, 0.03, 0.03, 0.08]],\n",
       "\n",
       "       [[0.2 , 0.02, 0.2 , 0.03, 0.11, 0.25, 0.06, 0.03, 0.03, 0.08]],\n",
       "\n",
       "       [[0.2 , 0.02, 0.2 , 0.03, 0.11, 0.25, 0.06, 0.03, 0.03, 0.08]],\n",
       "\n",
       "       [[0.2 , 0.02, 0.2 , 0.03, 0.11, 0.25, 0.06, 0.03, 0.03, 0.08]],\n",
       "\n",
       "       [[0.2 , 0.02, 0.2 , 0.03, 0.11, 0.25, 0.06, 0.03, 0.03, 0.08]],\n",
       "\n",
       "       [[0.2 , 0.02, 0.2 , 0.03, 0.11, 0.25, 0.06, 0.03, 0.03, 0.08]],\n",
       "\n",
       "       [[0.2 , 0.02, 0.2 , 0.03, 0.11, 0.25, 0.06, 0.03, 0.03, 0.08]],\n",
       "\n",
       "       [[0.2 , 0.02, 0.2 , 0.03, 0.11, 0.25, 0.06, 0.03, 0.03, 0.08]],\n",
       "\n",
       "       [[0.2 , 0.02, 0.2 , 0.03, 0.11, 0.25, 0.06, 0.03, 0.03, 0.08]],\n",
       "\n",
       "       [[0.2 , 0.02, 0.2 , 0.03, 0.11, 0.25, 0.06, 0.03, 0.03, 0.08]],\n",
       "\n",
       "       [[0.2 , 0.02, 0.2 , 0.03, 0.11, 0.25, 0.06, 0.03, 0.03, 0.08]],\n",
       "\n",
       "       [[0.2 , 0.02, 0.2 , 0.03, 0.11, 0.25, 0.06, 0.03, 0.03, 0.08]],\n",
       "\n",
       "       [[0.2 , 0.02, 0.2 , 0.03, 0.11, 0.25, 0.06, 0.03, 0.03, 0.08]],\n",
       "\n",
       "       [[0.2 , 0.02, 0.2 , 0.03, 0.11, 0.25, 0.06, 0.03, 0.03, 0.08]],\n",
       "\n",
       "       [[0.2 , 0.02, 0.2 , 0.03, 0.11, 0.25, 0.06, 0.03, 0.03, 0.08]],\n",
       "\n",
       "       [[0.2 , 0.02, 0.2 , 0.03, 0.11, 0.25, 0.06, 0.03, 0.03, 0.08]],\n",
       "\n",
       "       [[0.2 , 0.02, 0.2 , 0.03, 0.11, 0.25, 0.06, 0.03, 0.03, 0.08]],\n",
       "\n",
       "       [[0.2 , 0.02, 0.2 , 0.03, 0.11, 0.25, 0.06, 0.03, 0.03, 0.08]],\n",
       "\n",
       "       [[0.2 , 0.02, 0.2 , 0.03, 0.11, 0.25, 0.06, 0.03, 0.03, 0.08]],\n",
       "\n",
       "       [[0.2 , 0.02, 0.2 , 0.03, 0.11, 0.25, 0.06, 0.03, 0.03, 0.08]],\n",
       "\n",
       "       [[0.2 , 0.02, 0.2 , 0.03, 0.11, 0.25, 0.06, 0.03, 0.03, 0.08]],\n",
       "\n",
       "       [[0.2 , 0.02, 0.2 , 0.03, 0.11, 0.25, 0.06, 0.03, 0.03, 0.08]],\n",
       "\n",
       "       [[0.2 , 0.02, 0.2 , 0.03, 0.11, 0.25, 0.06, 0.03, 0.03, 0.08]],\n",
       "\n",
       "       [[0.2 , 0.02, 0.2 , 0.03, 0.11, 0.25, 0.06, 0.03, 0.03, 0.08]],\n",
       "\n",
       "       [[0.2 , 0.02, 0.2 , 0.03, 0.11, 0.25, 0.06, 0.03, 0.03, 0.08]],\n",
       "\n",
       "       [[0.2 , 0.02, 0.2 , 0.03, 0.11, 0.25, 0.06, 0.03, 0.03, 0.08]],\n",
       "\n",
       "       [[0.2 , 0.02, 0.2 , 0.03, 0.11, 0.25, 0.06, 0.03, 0.03, 0.08]],\n",
       "\n",
       "       [[0.2 , 0.02, 0.2 , 0.03, 0.11, 0.25, 0.06, 0.03, 0.03, 0.08]],\n",
       "\n",
       "       [[0.2 , 0.02, 0.2 , 0.03, 0.11, 0.25, 0.06, 0.03, 0.03, 0.08]],\n",
       "\n",
       "       [[0.2 , 0.02, 0.2 , 0.03, 0.11, 0.25, 0.06, 0.03, 0.03, 0.08]],\n",
       "\n",
       "       [[0.2 , 0.02, 0.2 , 0.03, 0.11, 0.25, 0.06, 0.03, 0.03, 0.08]],\n",
       "\n",
       "       [[0.2 , 0.02, 0.2 , 0.03, 0.11, 0.25, 0.06, 0.03, 0.03, 0.08]],\n",
       "\n",
       "       [[0.2 , 0.02, 0.2 , 0.03, 0.11, 0.25, 0.06, 0.03, 0.03, 0.08]],\n",
       "\n",
       "       [[0.2 , 0.02, 0.2 , 0.03, 0.11, 0.25, 0.06, 0.03, 0.03, 0.08]],\n",
       "\n",
       "       [[0.2 , 0.02, 0.2 , 0.03, 0.11, 0.25, 0.06, 0.03, 0.03, 0.08]],\n",
       "\n",
       "       [[0.2 , 0.02, 0.2 , 0.03, 0.11, 0.25, 0.06, 0.03, 0.03, 0.08]],\n",
       "\n",
       "       [[0.2 , 0.02, 0.2 , 0.03, 0.11, 0.25, 0.06, 0.03, 0.03, 0.08]],\n",
       "\n",
       "       [[0.2 , 0.02, 0.2 , 0.03, 0.11, 0.25, 0.06, 0.03, 0.03, 0.08]],\n",
       "\n",
       "       [[0.2 , 0.02, 0.2 , 0.03, 0.11, 0.25, 0.06, 0.03, 0.03, 0.08]],\n",
       "\n",
       "       [[0.2 , 0.02, 0.2 , 0.03, 0.11, 0.25, 0.06, 0.03, 0.03, 0.08]],\n",
       "\n",
       "       [[0.2 , 0.02, 0.2 , 0.03, 0.11, 0.25, 0.06, 0.03, 0.03, 0.08]],\n",
       "\n",
       "       [[0.2 , 0.02, 0.2 , 0.03, 0.11, 0.25, 0.06, 0.03, 0.03, 0.08]],\n",
       "\n",
       "       [[0.2 , 0.02, 0.2 , 0.03, 0.11, 0.25, 0.06, 0.03, 0.03, 0.08]],\n",
       "\n",
       "       [[0.2 , 0.02, 0.2 , 0.03, 0.11, 0.25, 0.06, 0.03, 0.03, 0.08]],\n",
       "\n",
       "       [[0.2 , 0.02, 0.2 , 0.03, 0.11, 0.25, 0.06, 0.03, 0.03, 0.08]],\n",
       "\n",
       "       [[0.2 , 0.02, 0.2 , 0.03, 0.11, 0.25, 0.06, 0.03, 0.03, 0.08]],\n",
       "\n",
       "       [[0.2 , 0.02, 0.2 , 0.03, 0.11, 0.25, 0.06, 0.03, 0.03, 0.08]],\n",
       "\n",
       "       [[0.2 , 0.02, 0.2 , 0.03, 0.11, 0.25, 0.06, 0.03, 0.03, 0.08]],\n",
       "\n",
       "       [[0.2 , 0.02, 0.2 , 0.03, 0.11, 0.25, 0.06, 0.03, 0.03, 0.08]],\n",
       "\n",
       "       [[0.2 , 0.02, 0.2 , 0.03, 0.11, 0.25, 0.06, 0.03, 0.03, 0.08]],\n",
       "\n",
       "       [[0.2 , 0.02, 0.2 , 0.03, 0.11, 0.25, 0.06, 0.03, 0.03, 0.08]],\n",
       "\n",
       "       [[0.2 , 0.02, 0.2 , 0.03, 0.11, 0.25, 0.06, 0.03, 0.03, 0.08]],\n",
       "\n",
       "       [[0.2 , 0.02, 0.2 , 0.03, 0.11, 0.25, 0.06, 0.03, 0.03, 0.08]],\n",
       "\n",
       "       [[0.2 , 0.02, 0.2 , 0.03, 0.11, 0.25, 0.06, 0.03, 0.03, 0.08]],\n",
       "\n",
       "       [[0.2 , 0.02, 0.2 , 0.03, 0.11, 0.25, 0.06, 0.03, 0.03, 0.08]],\n",
       "\n",
       "       [[0.2 , 0.02, 0.2 , 0.03, 0.11, 0.25, 0.06, 0.03, 0.03, 0.08]],\n",
       "\n",
       "       [[0.2 , 0.02, 0.2 , 0.03, 0.11, 0.25, 0.06, 0.03, 0.03, 0.08]],\n",
       "\n",
       "       [[0.2 , 0.02, 0.2 , 0.03, 0.11, 0.25, 0.06, 0.03, 0.03, 0.08]],\n",
       "\n",
       "       [[0.2 , 0.02, 0.2 , 0.03, 0.11, 0.25, 0.06, 0.03, 0.03, 0.08]],\n",
       "\n",
       "       [[0.2 , 0.02, 0.2 , 0.03, 0.11, 0.25, 0.06, 0.03, 0.03, 0.08]],\n",
       "\n",
       "       [[0.2 , 0.02, 0.2 , 0.03, 0.11, 0.25, 0.06, 0.03, 0.03, 0.08]],\n",
       "\n",
       "       [[0.2 , 0.02, 0.2 , 0.03, 0.11, 0.25, 0.06, 0.03, 0.03, 0.08]],\n",
       "\n",
       "       [[0.2 , 0.02, 0.2 , 0.03, 0.11, 0.25, 0.06, 0.03, 0.03, 0.08]],\n",
       "\n",
       "       [[0.2 , 0.02, 0.2 , 0.03, 0.11, 0.25, 0.06, 0.03, 0.03, 0.08]],\n",
       "\n",
       "       [[0.2 , 0.02, 0.2 , 0.03, 0.11, 0.25, 0.06, 0.03, 0.03, 0.08]],\n",
       "\n",
       "       [[0.2 , 0.02, 0.2 , 0.03, 0.11, 0.25, 0.06, 0.03, 0.03, 0.08]],\n",
       "\n",
       "       [[0.2 , 0.02, 0.2 , 0.03, 0.11, 0.25, 0.06, 0.03, 0.03, 0.08]],\n",
       "\n",
       "       [[0.2 , 0.02, 0.2 , 0.03, 0.11, 0.25, 0.06, 0.03, 0.03, 0.08]],\n",
       "\n",
       "       [[0.2 , 0.02, 0.2 , 0.03, 0.11, 0.25, 0.06, 0.03, 0.03, 0.08]],\n",
       "\n",
       "       [[0.2 , 0.02, 0.2 , 0.03, 0.11, 0.25, 0.06, 0.03, 0.03, 0.08]],\n",
       "\n",
       "       [[0.2 , 0.02, 0.2 , 0.03, 0.11, 0.25, 0.06, 0.03, 0.03, 0.08]],\n",
       "\n",
       "       [[0.2 , 0.02, 0.2 , 0.03, 0.11, 0.25, 0.06, 0.03, 0.03, 0.08]],\n",
       "\n",
       "       [[0.2 , 0.02, 0.2 , 0.03, 0.11, 0.25, 0.06, 0.03, 0.03, 0.08]],\n",
       "\n",
       "       [[0.2 , 0.02, 0.2 , 0.03, 0.11, 0.25, 0.06, 0.03, 0.03, 0.08]],\n",
       "\n",
       "       [[0.2 , 0.02, 0.2 , 0.03, 0.11, 0.25, 0.06, 0.03, 0.03, 0.08]],\n",
       "\n",
       "       [[0.2 , 0.02, 0.2 , 0.03, 0.11, 0.25, 0.06, 0.03, 0.03, 0.08]],\n",
       "\n",
       "       [[0.2 , 0.02, 0.2 , 0.03, 0.11, 0.25, 0.06, 0.03, 0.03, 0.08]],\n",
       "\n",
       "       [[0.2 , 0.02, 0.2 , 0.03, 0.11, 0.25, 0.06, 0.03, 0.03, 0.08]],\n",
       "\n",
       "       [[0.2 , 0.02, 0.2 , 0.03, 0.11, 0.25, 0.06, 0.03, 0.03, 0.08]],\n",
       "\n",
       "       [[0.2 , 0.02, 0.2 , 0.03, 0.11, 0.25, 0.06, 0.03, 0.03, 0.08]],\n",
       "\n",
       "       [[0.2 , 0.02, 0.2 , 0.03, 0.11, 0.25, 0.06, 0.03, 0.03, 0.08]],\n",
       "\n",
       "       [[0.2 , 0.02, 0.2 , 0.03, 0.11, 0.25, 0.06, 0.03, 0.03, 0.08]],\n",
       "\n",
       "       [[0.2 , 0.02, 0.2 , 0.03, 0.11, 0.25, 0.06, 0.03, 0.03, 0.08]]],\n",
       "      dtype=float32)"
      ]
     },
     "execution_count": 90,
     "metadata": {},
     "output_type": "execute_result"
    }
   ],
   "source": [
    "np.round(y_probas[:, :1], 2)"
   ]
  },
  {
   "cell_type": "code",
   "execution_count": 91,
   "metadata": {
    "ExecuteTime": {
     "end_time": "2023-08-16T18:35:06.952361Z",
     "start_time": "2023-08-16T18:35:06.893220Z"
    },
    "collapsed": false
   },
   "outputs": [
    {
     "data": {
      "text/plain": [
       "array([[0.2 , 0.02, 0.2 , 0.03, 0.11, 0.25, 0.06, 0.03, 0.03, 0.08]],\n",
       "      dtype=float32)"
      ]
     },
     "execution_count": 91,
     "metadata": {},
     "output_type": "execute_result"
    }
   ],
   "source": [
    "np.round(y_proba[:1], 2)"
   ]
  },
  {
   "cell_type": "code",
   "execution_count": 92,
   "metadata": {
    "ExecuteTime": {
     "end_time": "2023-08-16T18:35:35.804265Z",
     "start_time": "2023-08-16T18:35:35.750675Z"
    },
    "collapsed": false
   },
   "outputs": [
    {
     "data": {
      "text/plain": [
       "array([[0., 0., 0., 0., 0., 0., 0., 0., 0., 0.]], dtype=float32)"
      ]
     },
     "execution_count": 92,
     "metadata": {},
     "output_type": "execute_result"
    }
   ],
   "source": [
    "y_std = y_probas.std(axis=0)\n",
    "np.round(y_std[:1], 2)"
   ]
  },
  {
   "cell_type": "code",
   "execution_count": 93,
   "metadata": {
    "ExecuteTime": {
     "end_time": "2023-08-16T18:35:55.281770Z",
     "start_time": "2023-08-16T18:35:55.219874Z"
    },
    "collapsed": false
   },
   "outputs": [],
   "source": [
    "y_pred = np.argmax(y_proba, axis=1)"
   ]
  },
  {
   "cell_type": "code",
   "execution_count": 94,
   "metadata": {
    "ExecuteTime": {
     "end_time": "2023-08-16T18:36:13.887096Z",
     "start_time": "2023-08-16T18:36:13.820805Z"
    },
    "collapsed": false
   },
   "outputs": [
    {
     "data": {
      "text/plain": [
       "0.1066"
      ]
     },
     "execution_count": 94,
     "metadata": {},
     "output_type": "execute_result"
    }
   ],
   "source": [
    "accuracy = np.sum(y_pred == y_test) / len(y_test)\n",
    "accuracy"
   ]
  },
  {
   "cell_type": "code",
   "execution_count": 95,
   "metadata": {
    "ExecuteTime": {
     "end_time": "2023-08-16T18:37:47.211742Z",
     "start_time": "2023-08-16T18:37:47.158254Z"
    },
    "collapsed": false
   },
   "outputs": [],
   "source": [
    "class MCDropout(keras.layers.Dropout):\n",
    "    def call(self, inputs):\n",
    "        return super().call(inputs, training=True)"
   ]
  },
  {
   "cell_type": "code",
   "execution_count": 96,
   "metadata": {
    "ExecuteTime": {
     "end_time": "2023-08-16T18:37:51.243766Z",
     "start_time": "2023-08-16T18:37:51.194464Z"
    },
    "collapsed": false
   },
   "outputs": [],
   "source": [
    "tf.random.set_seed(42)\n",
    "np.random.seed(42)"
   ]
  },
  {
   "cell_type": "code",
   "execution_count": 97,
   "metadata": {
    "ExecuteTime": {
     "end_time": "2023-08-16T18:38:33.131228Z",
     "start_time": "2023-08-16T18:38:33.059320Z"
    },
    "collapsed": false
   },
   "outputs": [],
   "source": [
    "mc_model = keras.models.Sequential([\n",
    "    MCDropout(layer.rate) if isinstance(layer, keras.layers.Dropout) else layer\n",
    "    for layer in model.layers\n",
    "])"
   ]
  },
  {
   "cell_type": "code",
   "execution_count": 98,
   "metadata": {
    "ExecuteTime": {
     "end_time": "2023-08-16T18:38:37.245050Z",
     "start_time": "2023-08-16T18:38:37.190737Z"
    },
    "collapsed": false
   },
   "outputs": [
    {
     "name": "stdout",
     "output_type": "stream",
     "text": [
      "Model: \"sequential_12\"\n",
      "_________________________________________________________________\n",
      " Layer (type)                Output Shape              Param #   \n",
      "=================================================================\n",
      " flatten_10 (Flatten)        (None, 784)               0         \n",
      "                                                                 \n",
      " dense_237 (Dense)           (None, 300)               235500    \n",
      "                                                                 \n",
      " dense_238 (Dense)           (None, 100)               30100     \n",
      "                                                                 \n",
      " dense_239 (Dense)           (None, 10)                1010      \n",
      "                                                                 \n",
      "=================================================================\n",
      "Total params: 266610 (1.02 MB)\n",
      "Trainable params: 266610 (1.02 MB)\n",
      "Non-trainable params: 0 (0.00 Byte)\n",
      "_________________________________________________________________\n"
     ]
    }
   ],
   "source": [
    "mc_model.summary()"
   ]
  },
  {
   "cell_type": "code",
   "execution_count": 100,
   "metadata": {
    "collapsed": false
   },
   "outputs": [
    {
     "name": "stderr",
     "output_type": "stream",
     "text": [
      "WARNING:absl:At this time, the v2.11+ optimizer `tf.keras.optimizers.SGD` runs slowly on M1/M2 Macs, please use the legacy Keras optimizer instead, located at `tf.keras.optimizers.legacy.SGD`.\n",
      "WARNING:absl:`lr` is deprecated in Keras optimizer, please use `learning_rate` or use the legacy optimizer, e.g.,tf.keras.optimizers.legacy.SGD.\n",
      "WARNING:absl:There is a known slowdown when using v2.11+ Keras optimizers on M1/M2 Macs. Falling back to the legacy Keras optimizer, i.e., `tf.keras.optimizers.legacy.SGD`.\n"
     ]
    }
   ],
   "source": [
    "optimizer = keras.optimizers.SGD(lr=0.01, momentum=0.9, nesterov=True)\n",
    "mc_model.compile(loss=\"sparse_categorical_crossentropy\", optimizer=optimizer, metrics=[\"accuracy\"])"
   ]
  },
  {
   "cell_type": "code",
   "execution_count": 101,
   "metadata": {},
   "outputs": [],
   "source": [
    "mc_model.set_weights(model.get_weights())"
   ]
  },
  {
   "cell_type": "code",
   "execution_count": 102,
   "metadata": {},
   "outputs": [
    {
     "name": "stdout",
     "output_type": "stream",
     "text": [
      "1/1 [==============================] - 0s 28ms/step\n",
      "1/1 [==============================] - 0s 12ms/step\n",
      "1/1 [==============================] - 0s 11ms/step\n",
      "1/1 [==============================] - 0s 11ms/step\n",
      "1/1 [==============================] - 0s 11ms/step\n",
      "1/1 [==============================] - 0s 10ms/step\n",
      "1/1 [==============================] - 0s 11ms/step\n",
      "1/1 [==============================] - 0s 10ms/step\n",
      "1/1 [==============================] - 0s 10ms/step\n",
      "1/1 [==============================] - 0s 9ms/step\n",
      "1/1 [==============================] - 0s 10ms/step\n",
      "1/1 [==============================] - 0s 10ms/step\n",
      "1/1 [==============================] - 0s 11ms/step\n",
      "1/1 [==============================] - 0s 10ms/step\n",
      "1/1 [==============================] - 0s 10ms/step\n",
      "1/1 [==============================] - 0s 10ms/step\n",
      "1/1 [==============================] - 0s 10ms/step\n",
      "1/1 [==============================] - 0s 10ms/step\n",
      "1/1 [==============================] - 0s 10ms/step\n",
      "1/1 [==============================] - 0s 10ms/step\n",
      "1/1 [==============================] - 0s 11ms/step\n",
      "1/1 [==============================] - 0s 11ms/step\n",
      "1/1 [==============================] - 0s 10ms/step\n",
      "1/1 [==============================] - 0s 11ms/step\n",
      "1/1 [==============================] - 0s 11ms/step\n",
      "1/1 [==============================] - 0s 11ms/step\n",
      "1/1 [==============================] - 0s 10ms/step\n",
      "1/1 [==============================] - 0s 11ms/step\n",
      "1/1 [==============================] - 0s 10ms/step\n",
      "1/1 [==============================] - 0s 10ms/step\n",
      "1/1 [==============================] - 0s 10ms/step\n",
      "1/1 [==============================] - 0s 11ms/step\n",
      "1/1 [==============================] - 0s 11ms/step\n",
      "1/1 [==============================] - 0s 11ms/step\n",
      "1/1 [==============================] - 0s 12ms/step\n",
      "1/1 [==============================] - 0s 11ms/step\n",
      "1/1 [==============================] - 0s 10ms/step\n",
      "1/1 [==============================] - 0s 10ms/step\n",
      "1/1 [==============================] - 0s 10ms/step\n",
      "1/1 [==============================] - 0s 10ms/step\n",
      "1/1 [==============================] - 0s 10ms/step\n",
      "1/1 [==============================] - 0s 10ms/step\n",
      "1/1 [==============================] - 0s 10ms/step\n",
      "1/1 [==============================] - 0s 10ms/step\n",
      "1/1 [==============================] - 0s 10ms/step\n",
      "1/1 [==============================] - 0s 9ms/step\n",
      "1/1 [==============================] - 0s 9ms/step\n",
      "1/1 [==============================] - 0s 10ms/step\n",
      "1/1 [==============================] - 0s 10ms/step\n",
      "1/1 [==============================] - 0s 11ms/step\n",
      "1/1 [==============================] - 0s 10ms/step\n",
      "1/1 [==============================] - 0s 11ms/step\n",
      "1/1 [==============================] - 0s 11ms/step\n",
      "1/1 [==============================] - 0s 10ms/step\n",
      "1/1 [==============================] - 0s 11ms/step\n",
      "1/1 [==============================] - 0s 10ms/step\n",
      "1/1 [==============================] - 0s 10ms/step\n",
      "1/1 [==============================] - 0s 10ms/step\n",
      "1/1 [==============================] - 0s 11ms/step\n",
      "1/1 [==============================] - 0s 10ms/step\n",
      "1/1 [==============================] - 0s 10ms/step\n",
      "1/1 [==============================] - 0s 11ms/step\n",
      "1/1 [==============================] - 0s 12ms/step\n",
      "1/1 [==============================] - 0s 11ms/step\n",
      "1/1 [==============================] - 0s 11ms/step\n",
      "1/1 [==============================] - 0s 11ms/step\n",
      "1/1 [==============================] - 0s 11ms/step\n",
      "1/1 [==============================] - 0s 11ms/step\n",
      "1/1 [==============================] - 0s 14ms/step\n",
      "1/1 [==============================] - 0s 14ms/step\n",
      "1/1 [==============================] - 0s 12ms/step\n",
      "1/1 [==============================] - 0s 10ms/step\n",
      "1/1 [==============================] - 0s 11ms/step\n",
      "1/1 [==============================] - 0s 11ms/step\n",
      "1/1 [==============================] - 0s 9ms/step\n",
      "1/1 [==============================] - 0s 10ms/step\n",
      "1/1 [==============================] - 0s 11ms/step\n",
      "1/1 [==============================] - 0s 10ms/step\n",
      "1/1 [==============================] - 0s 10ms/step\n",
      "1/1 [==============================] - 0s 9ms/step\n",
      "1/1 [==============================] - 0s 10ms/step\n",
      "1/1 [==============================] - 0s 10ms/step\n",
      "1/1 [==============================] - 0s 10ms/step\n",
      "1/1 [==============================] - 0s 10ms/step\n",
      "1/1 [==============================] - 0s 9ms/step\n",
      "1/1 [==============================] - 0s 10ms/step\n",
      "1/1 [==============================] - 0s 10ms/step\n",
      "1/1 [==============================] - 0s 10ms/step\n",
      "1/1 [==============================] - 0s 10ms/step\n",
      "1/1 [==============================] - 0s 10ms/step\n",
      "1/1 [==============================] - 0s 10ms/step\n",
      "1/1 [==============================] - 0s 10ms/step\n",
      "1/1 [==============================] - 0s 10ms/step\n",
      "1/1 [==============================] - 0s 9ms/step\n",
      "1/1 [==============================] - 0s 10ms/step\n",
      "1/1 [==============================] - 0s 10ms/step\n",
      "1/1 [==============================] - 0s 10ms/step\n",
      "1/1 [==============================] - 0s 10ms/step\n",
      "1/1 [==============================] - 0s 9ms/step\n",
      "1/1 [==============================] - 0s 10ms/step\n"
     ]
    },
    {
     "data": {
      "text/plain": [
       "array([[0.2 , 0.02, 0.2 , 0.03, 0.11, 0.25, 0.06, 0.03, 0.03, 0.08]],\n",
       "      dtype=float32)"
      ]
     },
     "execution_count": 102,
     "metadata": {},
     "output_type": "execute_result"
    }
   ],
   "source": [
    "np.round(np.mean([mc_model.predict(X_test_scaled[:1]) for sample in range(100)], axis=0), 2)"
   ]
  },
  {
   "cell_type": "code",
   "execution_count": 103,
   "metadata": {},
   "outputs": [],
   "source": [
    "layer = keras.layers.Dense(100, activation='selu', kernel_initializer='lecun_normal',\n",
    "                           kernel_constraint=keras.constraints.max_norm(1.))"
   ]
  },
  {
   "cell_type": "code",
   "execution_count": 104,
   "metadata": {},
   "outputs": [],
   "source": [
    "from functools import partial\n",
    "MaxNormDense = partial(keras.layers.Dense,\n",
    "                       activation='selu', kernel_initializer='lecun_normal',\n",
    "                       kernel_constraint=keras.constraints.max_norm(1.))\n",
    "model = keras.models.Sequential([\n",
    "    keras.layers.Flatten(input_shape=[28, 28]),\n",
    "    MaxNormDense(300),\n",
    "    MaxNormDense(100),\n",
    "    keras.layers.Dense(10, activation='softmax')\n",
    "])\n",
    "model.compile(loss=\"sparse_categorical_crossentropy\", optimizer=\"nadam\", metrics=[\"accuracy\"])\n",
    "n_epochs = 2"
   ]
  },
  {
   "cell_type": "code",
   "execution_count": 105,
   "metadata": {},
   "outputs": [
    {
     "name": "stdout",
     "output_type": "stream",
     "text": [
      "Epoch 1/2\n",
      "1719/1719 [==============================] - 5s 3ms/step - loss: 0.4750 - accuracy: 0.8338 - val_loss: 0.3641 - val_accuracy: 0.8714\n",
      "Epoch 2/2\n",
      "1719/1719 [==============================] - 5s 3ms/step - loss: 0.3530 - accuracy: 0.8710 - val_loss: 0.3735 - val_accuracy: 0.8608\n"
     ]
    }
   ],
   "source": [
    "history = model.fit(X_train_scaled, y_train, epochs=n_epochs,\n",
    "                    validation_data=(X_valid_scaled, y_valid))"
   ]
  },
  {
   "cell_type": "markdown",
   "metadata": {},
   "source": [
    "## 연습문제\n",
    "### a"
   ]
  },
  {
   "cell_type": "code",
   "execution_count": 106,
   "metadata": {},
   "outputs": [],
   "source": [
    "keras.backend.clear_session()\n",
    "tf.random.set_seed(42)\n",
    "np.random.seed(42)"
   ]
  },
  {
   "cell_type": "code",
   "execution_count": 107,
   "metadata": {},
   "outputs": [],
   "source": [
    "model = keras.models.Sequential()\n",
    "model.add(keras.layers.Flatten(input_shape=[32, 32, 3]))\n",
    "for _ in range(20):\n",
    "    model.add(keras.layers.Dense(100, activation='elu',\n",
    "                                 kernel_initializer='he_normal'))"
   ]
  },
  {
   "cell_type": "code",
   "execution_count": 108,
   "metadata": {},
   "outputs": [],
   "source": [
    "# b\n",
    "model.add(keras.layers.Dense(10, activation='softmax'))"
   ]
  },
  {
   "cell_type": "code",
   "execution_count": 109,
   "metadata": {},
   "outputs": [
    {
     "name": "stderr",
     "output_type": "stream",
     "text": [
      "WARNING:absl:At this time, the v2.11+ optimizer `tf.keras.optimizers.Nadam` runs slowly on M1/M2 Macs, please use the legacy Keras optimizer instead, located at `tf.keras.optimizers.legacy.Nadam`.\n",
      "WARNING:absl:There is a known slowdown when using v2.11+ Keras optimizers on M1/M2 Macs. Falling back to the legacy Keras optimizer, i.e., `tf.keras.optimizers.legacy.Nadam`.\n"
     ]
    }
   ],
   "source": [
    "optimizer = keras.optimizers.Nadam(learning_rate=5e-5)\n",
    "model.compile(loss=\"sparse_categorical_crossentropy\",\n",
    "              optimizer=optimizer,\n",
    "              metrics=[\"accuracy\"])"
   ]
  },
  {
   "cell_type": "code",
   "execution_count": 110,
   "metadata": {},
   "outputs": [
    {
     "name": "stdout",
     "output_type": "stream",
     "text": [
      "Downloading data from https://www.cs.toronto.edu/~kriz/cifar-10-python.tar.gz\n",
      "170498071/170498071 [==============================] - 48s 0us/step\n"
     ]
    }
   ],
   "source": [
    "(X_train_full, y_train_full), (X_test, y_test) = keras.datasets.cifar10.load_data()\n",
    "\n",
    "X_train = X_train_full[5000:]\n",
    "y_train = y_train_full[5000:]\n",
    "X_valid = X_train_full[:5000]\n",
    "y_valid = y_train_full[:5000]"
   ]
  },
  {
   "cell_type": "code",
   "execution_count": 112,
   "metadata": {},
   "outputs": [],
   "source": [
    "early_stopping_cb = keras.callbacks.EarlyStopping(patience=20)\n",
    "model_checkpoint_cb = keras.callbacks.ModelCheckpoint('my_cifar10_model.h5', save_best_only=True)\n",
    "run_index = 1\n",
    "run_logdir = os.path.join(os.curdir, 'my_cifar10_logs', 'run_{:03d}'.format(run_index))\n",
    "tensorboard_cb = keras.callbacks.TensorBoard(run_logdir)\n",
    "callbacks = [early_stopping_cb, model_checkpoint_cb, tensorboard_cb]"
   ]
  },
  {
   "cell_type": "code",
   "execution_count": 114,
   "metadata": {},
   "outputs": [],
   "source": [
    "%load_ext tensorboard"
   ]
  },
  {
   "cell_type": "code",
   "execution_count": 118,
   "metadata": {},
   "outputs": [
    {
     "data": {
      "text/plain": [
       "Reusing TensorBoard on port 6006 (pid 12115), started 0:07:27 ago. (Use '!kill 12115' to kill it.)"
      ]
     },
     "metadata": {},
     "output_type": "display_data"
    },
    {
     "data": {
      "text/html": [
       "\n",
       "      <iframe id=\"tensorboard-frame-58196ac5880917fc\" width=\"100%\" height=\"800\" frameborder=\"0\">\n",
       "      </iframe>\n",
       "      <script>\n",
       "        (function() {\n",
       "          const frame = document.getElementById(\"tensorboard-frame-58196ac5880917fc\");\n",
       "          const url = new URL(\"http://localhost\");\n",
       "          const port = 6006;\n",
       "          if (port) {\n",
       "            url.port = port;\n",
       "          }\n",
       "          frame.src = url;\n",
       "        })();\n",
       "      </script>\n",
       "    "
      ],
      "text/plain": [
       "<IPython.core.display.HTML object>"
      ]
     },
     "metadata": {},
     "output_type": "display_data"
    }
   ],
   "source": [
    "%tensorboard --logdir=./my_cifar10_logs --port=6006"
   ]
  },
  {
   "cell_type": "code",
   "execution_count": 117,
   "metadata": {},
   "outputs": [
    {
     "name": "stdout",
     "output_type": "stream",
     "text": [
      "Epoch 1/100\n",
      "1407/1407 [==============================] - 9s 5ms/step - loss: 4.1739 - accuracy: 0.1568 - val_loss: 2.1921 - val_accuracy: 0.2088\n",
      "Epoch 2/100\n",
      "  23/1407 [..............................] - ETA: 6s - loss: 2.2325 - accuracy: 0.1984"
     ]
    },
    {
     "name": "stderr",
     "output_type": "stream",
     "text": [
      "/Users/taemin/anaconda3/lib/python3.9/site-packages/keras/src/engine/training.py:3000: UserWarning: You are saving your model as an HDF5 file via `model.save()`. This file format is considered legacy. We recommend using instead the native Keras format, e.g. `model.save('my_model.keras')`.\n",
      "  saving_api.save_model(\n"
     ]
    },
    {
     "name": "stdout",
     "output_type": "stream",
     "text": [
      "1407/1407 [==============================] - 7s 5ms/step - loss: 2.0822 - accuracy: 0.2288 - val_loss: 2.2291 - val_accuracy: 0.1994\n",
      "Epoch 3/100\n",
      "1407/1407 [==============================] - 7s 5ms/step - loss: 1.9655 - accuracy: 0.2726 - val_loss: 1.9904 - val_accuracy: 0.2636\n",
      "Epoch 4/100\n",
      "1407/1407 [==============================] - 7s 5ms/step - loss: 1.8910 - accuracy: 0.3024 - val_loss: 2.0011 - val_accuracy: 0.2902\n",
      "Epoch 5/100\n",
      "1407/1407 [==============================] - 7s 5ms/step - loss: 1.8217 - accuracy: 0.3381 - val_loss: 1.8401 - val_accuracy: 0.3308\n",
      "Epoch 6/100\n",
      "1407/1407 [==============================] - 8s 5ms/step - loss: 1.7597 - accuracy: 0.3636 - val_loss: 1.7582 - val_accuracy: 0.3580\n",
      "Epoch 7/100\n",
      "1407/1407 [==============================] - 8s 5ms/step - loss: 1.7162 - accuracy: 0.3798 - val_loss: 1.7414 - val_accuracy: 0.3570\n",
      "Epoch 8/100\n",
      "1407/1407 [==============================] - 8s 5ms/step - loss: 1.6785 - accuracy: 0.3943 - val_loss: 1.6732 - val_accuracy: 0.3954\n",
      "Epoch 9/100\n",
      "1407/1407 [==============================] - 8s 6ms/step - loss: 1.6494 - accuracy: 0.4072 - val_loss: 1.6520 - val_accuracy: 0.4026\n",
      "Epoch 10/100\n",
      "1407/1407 [==============================] - 8s 6ms/step - loss: 1.6263 - accuracy: 0.4124 - val_loss: 1.6739 - val_accuracy: 0.3946\n",
      "Epoch 11/100\n",
      "1407/1407 [==============================] - 8s 6ms/step - loss: 1.6023 - accuracy: 0.4203 - val_loss: 1.6712 - val_accuracy: 0.3982\n",
      "Epoch 12/100\n",
      "1407/1407 [==============================] - 8s 6ms/step - loss: 1.5824 - accuracy: 0.4290 - val_loss: 1.6288 - val_accuracy: 0.4052\n",
      "Epoch 13/100\n",
      "1407/1407 [==============================] - 8s 6ms/step - loss: 1.5671 - accuracy: 0.4342 - val_loss: 1.6394 - val_accuracy: 0.4060\n",
      "Epoch 14/100\n",
      "1407/1407 [==============================] - 8s 6ms/step - loss: 1.5489 - accuracy: 0.4401 - val_loss: 1.6102 - val_accuracy: 0.4224\n",
      "Epoch 15/100\n",
      "1407/1407 [==============================] - 8s 6ms/step - loss: 1.5327 - accuracy: 0.4477 - val_loss: 1.5871 - val_accuracy: 0.4284\n",
      "Epoch 16/100\n",
      "1407/1407 [==============================] - 8s 6ms/step - loss: 1.5171 - accuracy: 0.4513 - val_loss: 1.5852 - val_accuracy: 0.4276\n",
      "Epoch 17/100\n",
      "1407/1407 [==============================] - 8s 6ms/step - loss: 1.5046 - accuracy: 0.4593 - val_loss: 1.5920 - val_accuracy: 0.4352\n",
      "Epoch 18/100\n",
      "1407/1407 [==============================] - 8s 6ms/step - loss: 1.4928 - accuracy: 0.4615 - val_loss: 1.5666 - val_accuracy: 0.4454\n",
      "Epoch 19/100\n",
      "1407/1407 [==============================] - 9s 6ms/step - loss: 1.4809 - accuracy: 0.4668 - val_loss: 1.5813 - val_accuracy: 0.4350\n",
      "Epoch 20/100\n",
      "1407/1407 [==============================] - 9s 6ms/step - loss: 1.4710 - accuracy: 0.4696 - val_loss: 1.5860 - val_accuracy: 0.4340\n",
      "Epoch 21/100\n",
      "1407/1407 [==============================] - 8s 6ms/step - loss: 1.4564 - accuracy: 0.4759 - val_loss: 1.5911 - val_accuracy: 0.4334\n",
      "Epoch 22/100\n",
      "1407/1407 [==============================] - 8s 6ms/step - loss: 1.4448 - accuracy: 0.4802 - val_loss: 1.5562 - val_accuracy: 0.4454\n",
      "Epoch 23/100\n",
      "1407/1407 [==============================] - 9s 6ms/step - loss: 1.4323 - accuracy: 0.4851 - val_loss: 1.5722 - val_accuracy: 0.4378\n",
      "Epoch 24/100\n",
      "1407/1407 [==============================] - 9s 6ms/step - loss: 1.4237 - accuracy: 0.4874 - val_loss: 1.5557 - val_accuracy: 0.4450\n",
      "Epoch 25/100\n",
      "1407/1407 [==============================] - 8s 6ms/step - loss: 1.4150 - accuracy: 0.4930 - val_loss: 1.5480 - val_accuracy: 0.4514\n",
      "Epoch 26/100\n",
      "1407/1407 [==============================] - 8s 6ms/step - loss: 1.4039 - accuracy: 0.4950 - val_loss: 1.5550 - val_accuracy: 0.4398\n",
      "Epoch 27/100\n",
      "1407/1407 [==============================] - 9s 6ms/step - loss: 1.3916 - accuracy: 0.4976 - val_loss: 1.5440 - val_accuracy: 0.4554\n",
      "Epoch 28/100\n",
      "1407/1407 [==============================] - 9s 6ms/step - loss: 1.3874 - accuracy: 0.5032 - val_loss: 1.5317 - val_accuracy: 0.4532\n",
      "Epoch 29/100\n",
      "1407/1407 [==============================] - 8s 6ms/step - loss: 1.3780 - accuracy: 0.5055 - val_loss: 1.5199 - val_accuracy: 0.4712\n",
      "Epoch 30/100\n",
      "1407/1407 [==============================] - 9s 6ms/step - loss: 1.3672 - accuracy: 0.5085 - val_loss: 1.5298 - val_accuracy: 0.4624\n",
      "Epoch 31/100\n",
      "1407/1407 [==============================] - 9s 6ms/step - loss: 1.3608 - accuracy: 0.5096 - val_loss: 1.5875 - val_accuracy: 0.4498\n",
      "Epoch 32/100\n",
      "1407/1407 [==============================] - 9s 6ms/step - loss: 1.3507 - accuracy: 0.5155 - val_loss: 1.5347 - val_accuracy: 0.4626\n",
      "Epoch 33/100\n",
      "1407/1407 [==============================] - 9s 6ms/step - loss: 1.3422 - accuracy: 0.5172 - val_loss: 1.5418 - val_accuracy: 0.4630\n",
      "Epoch 34/100\n",
      "1407/1407 [==============================] - 8s 6ms/step - loss: 1.3350 - accuracy: 0.5181 - val_loss: 1.5251 - val_accuracy: 0.4662\n",
      "Epoch 35/100\n",
      "1407/1407 [==============================] - 9s 6ms/step - loss: 1.3220 - accuracy: 0.5261 - val_loss: 1.5281 - val_accuracy: 0.4568\n",
      "Epoch 36/100\n",
      "1407/1407 [==============================] - 9s 6ms/step - loss: 1.3201 - accuracy: 0.5252 - val_loss: 1.5505 - val_accuracy: 0.4590\n",
      "Epoch 37/100\n",
      "1407/1407 [==============================] - 8s 6ms/step - loss: 1.3098 - accuracy: 0.5294 - val_loss: 1.5330 - val_accuracy: 0.4722\n",
      "Epoch 38/100\n",
      "1407/1407 [==============================] - 8s 6ms/step - loss: 1.2987 - accuracy: 0.5337 - val_loss: 1.5255 - val_accuracy: 0.4656\n",
      "Epoch 39/100\n",
      "1407/1407 [==============================] - 8s 6ms/step - loss: 1.2924 - accuracy: 0.5353 - val_loss: 1.5455 - val_accuracy: 0.4576\n",
      "Epoch 40/100\n",
      "1407/1407 [==============================] - 8s 6ms/step - loss: 1.2857 - accuracy: 0.5376 - val_loss: 1.5601 - val_accuracy: 0.4596\n",
      "Epoch 41/100\n",
      "1407/1407 [==============================] - 8s 6ms/step - loss: 1.2782 - accuracy: 0.5417 - val_loss: 1.5436 - val_accuracy: 0.4614\n",
      "Epoch 42/100\n",
      "1407/1407 [==============================] - 9s 6ms/step - loss: 1.2713 - accuracy: 0.5437 - val_loss: 1.5320 - val_accuracy: 0.4752\n",
      "Epoch 43/100\n",
      "1407/1407 [==============================] - 8s 6ms/step - loss: 1.2590 - accuracy: 0.5492 - val_loss: 1.5460 - val_accuracy: 0.4624\n",
      "Epoch 44/100\n",
      "1407/1407 [==============================] - 8s 6ms/step - loss: 1.2536 - accuracy: 0.5476 - val_loss: 1.5359 - val_accuracy: 0.4662\n",
      "Epoch 45/100\n",
      "1407/1407 [==============================] - 9s 6ms/step - loss: 1.2481 - accuracy: 0.5500 - val_loss: 1.5364 - val_accuracy: 0.4718\n",
      "Epoch 46/100\n",
      "1407/1407 [==============================] - 9s 6ms/step - loss: 1.2390 - accuracy: 0.5549 - val_loss: 1.5323 - val_accuracy: 0.4726\n",
      "Epoch 47/100\n",
      "1407/1407 [==============================] - 8s 6ms/step - loss: 1.2308 - accuracy: 0.5576 - val_loss: 1.5585 - val_accuracy: 0.4700\n",
      "Epoch 48/100\n",
      "1407/1407 [==============================] - 8s 6ms/step - loss: 1.2233 - accuracy: 0.5602 - val_loss: 1.5414 - val_accuracy: 0.4750\n",
      "Epoch 49/100\n",
      "1407/1407 [==============================] - 8s 6ms/step - loss: 1.2160 - accuracy: 0.5642 - val_loss: 1.5398 - val_accuracy: 0.4712\n"
     ]
    },
    {
     "data": {
      "text/plain": [
       "<keras.src.callbacks.History at 0x29be781c0>"
      ]
     },
     "execution_count": 117,
     "metadata": {},
     "output_type": "execute_result"
    }
   ],
   "source": [
    "model.fit(X_train, y_train, epochs=100,\n",
    "          validation_data=(X_valid, y_valid),\n",
    "          callbacks=callbacks)"
   ]
  },
  {
   "cell_type": "code",
   "execution_count": 119,
   "metadata": {},
   "outputs": [
    {
     "name": "stdout",
     "output_type": "stream",
     "text": [
      "157/157 [==============================] - 0s 1ms/step - loss: 1.5199 - accuracy: 0.4712\n"
     ]
    },
    {
     "data": {
      "text/plain": [
       "[1.5199028253555298, 0.47119998931884766]"
      ]
     },
     "execution_count": 119,
     "metadata": {},
     "output_type": "execute_result"
    }
   ],
   "source": [
    "model = keras.models.load_model('my_cifar10_model.h5')\n",
    "model.evaluate(X_valid, y_valid)"
   ]
  },
  {
   "cell_type": "code",
   "execution_count": 121,
   "metadata": {},
   "outputs": [
    {
     "name": "stderr",
     "output_type": "stream",
     "text": [
      "WARNING:absl:At this time, the v2.11+ optimizer `tf.keras.optimizers.Nadam` runs slowly on M1/M2 Macs, please use the legacy Keras optimizer instead, located at `tf.keras.optimizers.legacy.Nadam`.\n",
      "WARNING:absl:There is a known slowdown when using v2.11+ Keras optimizers on M1/M2 Macs. Falling back to the legacy Keras optimizer, i.e., `tf.keras.optimizers.legacy.Nadam`.\n"
     ]
    }
   ],
   "source": [
    "# c\n",
    "keras.backend.clear_session()\n",
    "tf.random.set_seed(42)\n",
    "np.random.seed(42)\n",
    "\n",
    "model = keras.models.Sequential()\n",
    "model.add(keras.layers.Flatten(input_shape=[32, 32, 3]))\n",
    "model.add(keras.layers.BatchNormalization())\n",
    "for _ in range(20):\n",
    "    model.add(keras.layers.Dense(100, kernel_initializer='he_normal'))\n",
    "    model.add(keras.layers.BatchNormalization())\n",
    "    model.add(keras.layers.Activation('elu'))\n",
    "model.add(keras.layers.Dense(10, activation='softmax'))\n",
    "\n",
    "optimizer = keras.optimizers.Nadam(learning_rate=5e-4)\n",
    "model.compile(loss=\"sparse_categorical_crossentropy\",\n",
    "              optimizer=optimizer,\n",
    "              metrics=[\"accuracy\"])\n",
    "\n",
    "early_stopping_cb = keras.callbacks.EarlyStopping(patience=20)\n",
    "model_checkpoint_cb = keras.callbacks.ModelCheckpoint('my_cifar10_bn_model.h5', save_best_only=True)\n",
    "run_index = 1\n",
    "run_logdir = os.path.join(os.curdir, 'my_cifar10_logs', 'run_bn_{:03d}'.format(run_index))\n",
    "tensorboard_cb = keras.callbacks.TensorBoard(run_logdir)\n",
    "callbacks = [early_stopping_cb, model_checkpoint_cb, tensorboard_cb]"
   ]
  },
  {
   "cell_type": "code",
   "execution_count": 122,
   "metadata": {},
   "outputs": [
    {
     "name": "stdout",
     "output_type": "stream",
     "text": [
      "Epoch 1/100\n",
      "1407/1407 [==============================] - 16s 9ms/step - loss: 1.8357 - accuracy: 0.3436 - val_loss: 1.6560 - val_accuracy: 0.4132\n",
      "Epoch 2/100\n",
      "   8/1407 [..............................] - ETA: 11s - loss: 1.7158 - accuracy: 0.3711"
     ]
    },
    {
     "name": "stderr",
     "output_type": "stream",
     "text": [
      "/Users/taemin/anaconda3/lib/python3.9/site-packages/keras/src/engine/training.py:3000: UserWarning: You are saving your model as an HDF5 file via `model.save()`. This file format is considered legacy. We recommend using instead the native Keras format, e.g. `model.save('my_model.keras')`.\n",
      "  saving_api.save_model(\n"
     ]
    },
    {
     "name": "stdout",
     "output_type": "stream",
     "text": [
      "1407/1407 [==============================] - 13s 9ms/step - loss: 1.6618 - accuracy: 0.4054 - val_loss: 1.5911 - val_accuracy: 0.4350\n",
      "Epoch 3/100\n",
      "1407/1407 [==============================] - 13s 9ms/step - loss: 1.5968 - accuracy: 0.4321 - val_loss: 1.5796 - val_accuracy: 0.4216\n",
      "Epoch 4/100\n",
      "1407/1407 [==============================] - 13s 9ms/step - loss: 1.5514 - accuracy: 0.4480 - val_loss: 1.5229 - val_accuracy: 0.4614\n",
      "Epoch 5/100\n",
      "1407/1407 [==============================] - 13s 9ms/step - loss: 1.5114 - accuracy: 0.4649 - val_loss: 1.4458 - val_accuracy: 0.4878\n",
      "Epoch 6/100\n",
      "1407/1407 [==============================] - 13s 9ms/step - loss: 1.4695 - accuracy: 0.4792 - val_loss: 1.4436 - val_accuracy: 0.4886\n",
      "Epoch 7/100\n",
      "1407/1407 [==============================] - 13s 9ms/step - loss: 1.4374 - accuracy: 0.4879 - val_loss: 1.4102 - val_accuracy: 0.4956\n",
      "Epoch 8/100\n",
      "1407/1407 [==============================] - 13s 9ms/step - loss: 1.4090 - accuracy: 0.5012 - val_loss: 1.3769 - val_accuracy: 0.5056\n",
      "Epoch 9/100\n",
      "1407/1407 [==============================] - 13s 9ms/step - loss: 1.3859 - accuracy: 0.5115 - val_loss: 1.3713 - val_accuracy: 0.5132\n",
      "Epoch 10/100\n",
      "1407/1407 [==============================] - 13s 9ms/step - loss: 1.3630 - accuracy: 0.5176 - val_loss: 1.3729 - val_accuracy: 0.5114\n",
      "Epoch 11/100\n",
      "1407/1407 [==============================] - 13s 9ms/step - loss: 1.3423 - accuracy: 0.5261 - val_loss: 1.3514 - val_accuracy: 0.5216\n",
      "Epoch 12/100\n",
      "1407/1407 [==============================] - 15s 11ms/step - loss: 1.3187 - accuracy: 0.5346 - val_loss: 1.3969 - val_accuracy: 0.4952\n",
      "Epoch 13/100\n",
      "1407/1407 [==============================] - 12s 9ms/step - loss: 1.2975 - accuracy: 0.5398 - val_loss: 1.3869 - val_accuracy: 0.5130\n",
      "Epoch 14/100\n",
      "1407/1407 [==============================] - 12s 9ms/step - loss: 1.2831 - accuracy: 0.5470 - val_loss: 1.3708 - val_accuracy: 0.5132\n",
      "Epoch 15/100\n",
      "1407/1407 [==============================] - 12s 9ms/step - loss: 1.2634 - accuracy: 0.5535 - val_loss: 1.3674 - val_accuracy: 0.5272\n",
      "Epoch 16/100\n",
      "1407/1407 [==============================] - 927s 660ms/step - loss: 1.2489 - accuracy: 0.5572 - val_loss: 1.3213 - val_accuracy: 0.5386\n",
      "Epoch 17/100\n",
      "1407/1407 [==============================] - 12s 8ms/step - loss: 1.2340 - accuracy: 0.5633 - val_loss: 1.3092 - val_accuracy: 0.5430\n",
      "Epoch 18/100\n",
      "1407/1407 [==============================] - 12s 8ms/step - loss: 1.2133 - accuracy: 0.5702 - val_loss: 1.3473 - val_accuracy: 0.5314\n",
      "Epoch 19/100\n",
      "1407/1407 [==============================] - 12s 8ms/step - loss: 1.2042 - accuracy: 0.5750 - val_loss: 1.3478 - val_accuracy: 0.5296\n",
      "Epoch 20/100\n",
      "1407/1407 [==============================] - 11s 8ms/step - loss: 1.1903 - accuracy: 0.5833 - val_loss: 1.3608 - val_accuracy: 0.5220\n",
      "Epoch 21/100\n",
      "1407/1407 [==============================] - 11s 8ms/step - loss: 1.1693 - accuracy: 0.5868 - val_loss: 1.3636 - val_accuracy: 0.5216\n",
      "Epoch 22/100\n",
      "1407/1407 [==============================] - 11s 8ms/step - loss: 1.1602 - accuracy: 0.5910 - val_loss: 1.3615 - val_accuracy: 0.5186\n",
      "Epoch 23/100\n",
      "1407/1407 [==============================] - 11s 8ms/step - loss: 1.1494 - accuracy: 0.5954 - val_loss: 1.3179 - val_accuracy: 0.5448\n",
      "Epoch 24/100\n",
      "1407/1407 [==============================] - 11s 8ms/step - loss: 1.1351 - accuracy: 0.5995 - val_loss: 1.3060 - val_accuracy: 0.5514\n",
      "Epoch 25/100\n",
      "1407/1407 [==============================] - 11s 8ms/step - loss: 1.1231 - accuracy: 0.6034 - val_loss: 1.3177 - val_accuracy: 0.5434\n",
      "Epoch 26/100\n",
      "1407/1407 [==============================] - 11s 8ms/step - loss: 1.1128 - accuracy: 0.6073 - val_loss: 1.3332 - val_accuracy: 0.5346\n",
      "Epoch 27/100\n",
      "1407/1407 [==============================] - 11s 8ms/step - loss: 1.0974 - accuracy: 0.6158 - val_loss: 1.3340 - val_accuracy: 0.5398\n",
      "Epoch 28/100\n",
      "1407/1407 [==============================] - 12s 8ms/step - loss: 1.0939 - accuracy: 0.6153 - val_loss: 1.3255 - val_accuracy: 0.5394\n",
      "Epoch 29/100\n",
      "1407/1407 [==============================] - 11s 8ms/step - loss: 1.0850 - accuracy: 0.6189 - val_loss: 1.3085 - val_accuracy: 0.5532\n",
      "Epoch 30/100\n",
      "1407/1407 [==============================] - 11s 8ms/step - loss: 1.0689 - accuracy: 0.6240 - val_loss: 1.3231 - val_accuracy: 0.5446\n",
      "Epoch 31/100\n",
      "1407/1407 [==============================] - 11s 8ms/step - loss: 1.0601 - accuracy: 0.6271 - val_loss: 1.3432 - val_accuracy: 0.5404\n",
      "Epoch 32/100\n",
      "1407/1407 [==============================] - 11s 8ms/step - loss: 1.0474 - accuracy: 0.6287 - val_loss: 1.3688 - val_accuracy: 0.5354\n",
      "Epoch 33/100\n",
      "1407/1407 [==============================] - 11s 8ms/step - loss: 1.0390 - accuracy: 0.6343 - val_loss: 1.3651 - val_accuracy: 0.5414\n",
      "Epoch 34/100\n",
      "1407/1407 [==============================] - 11s 8ms/step - loss: 1.0304 - accuracy: 0.6380 - val_loss: 1.3492 - val_accuracy: 0.5516\n",
      "Epoch 35/100\n",
      "1407/1407 [==============================] - 11s 8ms/step - loss: 1.0194 - accuracy: 0.6419 - val_loss: 1.3332 - val_accuracy: 0.5498\n",
      "Epoch 36/100\n",
      "1407/1407 [==============================] - 11s 8ms/step - loss: 1.0116 - accuracy: 0.6454 - val_loss: 1.3583 - val_accuracy: 0.5434\n",
      "Epoch 37/100\n",
      "1407/1407 [==============================] - 11s 8ms/step - loss: 0.9995 - accuracy: 0.6469 - val_loss: 1.3702 - val_accuracy: 0.5314\n",
      "Epoch 38/100\n",
      "1407/1407 [==============================] - 11s 8ms/step - loss: 0.9983 - accuracy: 0.6500 - val_loss: 1.3573 - val_accuracy: 0.5420\n",
      "Epoch 39/100\n",
      "1407/1407 [==============================] - 11s 8ms/step - loss: 0.9873 - accuracy: 0.6514 - val_loss: 1.3715 - val_accuracy: 0.5474\n",
      "Epoch 40/100\n",
      "1407/1407 [==============================] - 11s 8ms/step - loss: 0.9706 - accuracy: 0.6582 - val_loss: 1.3814 - val_accuracy: 0.5304\n",
      "Epoch 41/100\n",
      "1407/1407 [==============================] - 11s 8ms/step - loss: 0.9670 - accuracy: 0.6579 - val_loss: 1.3440 - val_accuracy: 0.5538\n",
      "Epoch 42/100\n",
      "1407/1407 [==============================] - 11s 8ms/step - loss: 0.9540 - accuracy: 0.6665 - val_loss: 1.3634 - val_accuracy: 0.5450\n",
      "Epoch 43/100\n",
      "1407/1407 [==============================] - 11s 8ms/step - loss: 0.9526 - accuracy: 0.6642 - val_loss: 1.3733 - val_accuracy: 0.5478\n",
      "Epoch 44/100\n",
      "1407/1407 [==============================] - 11s 8ms/step - loss: 0.9399 - accuracy: 0.6693 - val_loss: 1.3819 - val_accuracy: 0.5334\n"
     ]
    },
    {
     "data": {
      "text/plain": [
       "<keras.src.callbacks.History at 0x171a64640>"
      ]
     },
     "execution_count": 122,
     "metadata": {},
     "output_type": "execute_result"
    }
   ],
   "source": [
    "model.fit(X_train, y_train, epochs=100,\n",
    "          validation_data=(X_valid, y_valid),\n",
    "          callbacks=callbacks)"
   ]
  },
  {
   "cell_type": "code",
   "execution_count": 123,
   "metadata": {},
   "outputs": [
    {
     "name": "stdout",
     "output_type": "stream",
     "text": [
      "157/157 [==============================] - 0s 2ms/step - loss: 1.3060 - accuracy: 0.5514\n"
     ]
    },
    {
     "data": {
      "text/plain": [
       "[1.305954098701477, 0.5514000058174133]"
      ]
     },
     "execution_count": 123,
     "metadata": {},
     "output_type": "execute_result"
    }
   ],
   "source": [
    "model = keras.models.load_model('my_cifar10_bn_model.h5')\n",
    "model.evaluate(X_valid, y_valid)"
   ]
  },
  {
   "cell_type": "code",
   "execution_count": 132,
   "metadata": {},
   "outputs": [],
   "source": [
    "keras.backend.clear_session()\n",
    "tf.random.set_seed(42)\n",
    "np.random.seed(42)\n",
    "\n",
    "model = keras.models.Sequential()\n",
    "model.add(keras.layers.Flatten(input_shape=[32, 32, 3]))\n",
    "for _ in range(20):\n",
    "    model.add(keras.layers.Dense(100,\n",
    "                                 kernel_initializer='lecun_normal',\n",
    "                                 activation='selu'))\n",
    "model.add(keras.layers.AlphaDropout(rate=0.1))\n",
    "model.add(keras.layers.Dense(10, activation='softmax'))"
   ]
  },
  {
   "cell_type": "code",
   "execution_count": 133,
   "metadata": {},
   "outputs": [
    {
     "name": "stderr",
     "output_type": "stream",
     "text": [
      "WARNING:absl:At this time, the v2.11+ optimizer `tf.keras.optimizers.Nadam` runs slowly on M1/M2 Macs, please use the legacy Keras optimizer instead, located at `tf.keras.optimizers.legacy.Nadam`.\n",
      "WARNING:absl:`lr` is deprecated in Keras optimizer, please use `learning_rate` or use the legacy optimizer, e.g.,tf.keras.optimizers.legacy.Nadam.\n",
      "WARNING:absl:There is a known slowdown when using v2.11+ Keras optimizers on M1/M2 Macs. Falling back to the legacy Keras optimizer, i.e., `tf.keras.optimizers.legacy.Nadam`.\n"
     ]
    }
   ],
   "source": [
    "optimizer = keras.optimizers.Nadam(lr=7e-4)\n",
    "model.compile(loss=\"sparse_categorical_crossentropy\",\n",
    "              optimizer=optimizer,\n",
    "              metrics=[\"accuracy\"])\n",
    "\n",
    "early_stopping_cb = keras.callbacks.EarlyStopping(patience=20)\n",
    "model_checkpoint_cb = keras.callbacks.ModelCheckpoint(\"my_cifar10_selu_model.h5\", save_best_only=True)\n",
    "run_index = 1 # 모델을 훈련할 때마다 증가시킴\n",
    "run_logdir = os.path.join(os.curdir, \"my_cifar10_logs\", \"run_selu_{:03d}\".format(run_index))\n",
    "tensorboard_cb = keras.callbacks.TensorBoard(run_logdir)\n",
    "callbacks = [early_stopping_cb, model_checkpoint_cb, tensorboard_cb]"
   ]
  },
  {
   "cell_type": "code",
   "execution_count": 134,
   "metadata": {},
   "outputs": [],
   "source": [
    "X_means = X_train.mean(axis=0)\n",
    "X_stds = X_train.std(axis=0)\n",
    "X_train_scaled = (X_train - X_means) / X_stds\n",
    "X_valid_scaled = (X_valid - X_means) / X_stds\n",
    "X_test_scaled = (X_test - X_means) / X_stds"
   ]
  },
  {
   "cell_type": "code",
   "execution_count": 135,
   "metadata": {},
   "outputs": [
    {
     "name": "stdout",
     "output_type": "stream",
     "text": [
      "Epoch 1/100\n",
      "1407/1407 [==============================] - 9s 5ms/step - loss: 1.9632 - accuracy: 0.2910 - val_loss: 1.8360 - val_accuracy: 0.3216\n",
      "Epoch 2/100\n",
      "1407/1407 [==============================] - 8s 5ms/step - loss: 1.7829 - accuracy: 0.3582 - val_loss: 1.8421 - val_accuracy: 0.3406\n",
      "Epoch 3/100\n",
      "1407/1407 [==============================] - 8s 5ms/step - loss: 1.6927 - accuracy: 0.3954 - val_loss: 1.8173 - val_accuracy: 0.3756\n",
      "Epoch 4/100\n",
      "1407/1407 [==============================] - 8s 5ms/step - loss: 1.6389 - accuracy: 0.4183 - val_loss: 1.7328 - val_accuracy: 0.3984\n",
      "Epoch 5/100\n",
      "1407/1407 [==============================] - 8s 6ms/step - loss: 1.5956 - accuracy: 0.4332 - val_loss: 1.7413 - val_accuracy: 0.3900\n",
      "Epoch 6/100\n",
      "1407/1407 [==============================] - 8s 5ms/step - loss: 1.5574 - accuracy: 0.4491 - val_loss: 1.6221 - val_accuracy: 0.4246\n",
      "Epoch 7/100\n",
      "1407/1407 [==============================] - 8s 5ms/step - loss: 1.5153 - accuracy: 0.4639 - val_loss: 1.6279 - val_accuracy: 0.4464\n",
      "Epoch 8/100\n",
      "1407/1407 [==============================] - 8s 5ms/step - loss: 1.4781 - accuracy: 0.4813 - val_loss: 1.5551 - val_accuracy: 0.4402\n",
      "Epoch 9/100\n",
      "1407/1407 [==============================] - 8s 5ms/step - loss: 1.4465 - accuracy: 0.4873 - val_loss: 1.5982 - val_accuracy: 0.4478\n",
      "Epoch 10/100\n",
      "1407/1407 [==============================] - 7s 5ms/step - loss: 1.4188 - accuracy: 0.5011 - val_loss: 1.6147 - val_accuracy: 0.4652\n",
      "Epoch 11/100\n",
      "1407/1407 [==============================] - 7s 5ms/step - loss: 1.3874 - accuracy: 0.5119 - val_loss: 1.6421 - val_accuracy: 0.4624\n",
      "Epoch 12/100\n",
      "1407/1407 [==============================] - 8s 5ms/step - loss: 1.3595 - accuracy: 0.5231 - val_loss: 1.5806 - val_accuracy: 0.4666\n",
      "Epoch 13/100\n",
      "1407/1407 [==============================] - 8s 6ms/step - loss: 1.3334 - accuracy: 0.5335 - val_loss: 1.5828 - val_accuracy: 0.4738\n",
      "Epoch 14/100\n",
      "1407/1407 [==============================] - 8s 5ms/step - loss: 1.3130 - accuracy: 0.5374 - val_loss: 1.5329 - val_accuracy: 0.4782\n",
      "Epoch 15/100\n",
      "1407/1407 [==============================] - 8s 5ms/step - loss: 1.2911 - accuracy: 0.5521 - val_loss: 1.6319 - val_accuracy: 0.4762\n",
      "Epoch 16/100\n",
      "1407/1407 [==============================] - 8s 6ms/step - loss: 1.2559 - accuracy: 0.5624 - val_loss: 1.7115 - val_accuracy: 0.4878\n",
      "Epoch 17/100\n",
      "1407/1407 [==============================] - 8s 6ms/step - loss: 1.2314 - accuracy: 0.5711 - val_loss: 1.6339 - val_accuracy: 0.4678\n",
      "Epoch 18/100\n",
      "1407/1407 [==============================] - 8s 6ms/step - loss: 1.2162 - accuracy: 0.5756 - val_loss: 1.5533 - val_accuracy: 0.4904\n",
      "Epoch 19/100\n",
      "1407/1407 [==============================] - 8s 6ms/step - loss: 1.1965 - accuracy: 0.5851 - val_loss: 1.6420 - val_accuracy: 0.4978\n",
      "Epoch 20/100\n",
      "1407/1407 [==============================] - 8s 6ms/step - loss: 4.4253 - accuracy: 0.5733 - val_loss: 1.6079 - val_accuracy: 0.4840\n",
      "Epoch 21/100\n",
      "1407/1407 [==============================] - 8s 6ms/step - loss: 9.8134 - accuracy: 0.5439 - val_loss: 1.5989 - val_accuracy: 0.4620\n",
      "Epoch 22/100\n",
      "1407/1407 [==============================] - 8s 6ms/step - loss: 1.2419 - accuracy: 0.5621 - val_loss: 1.6154 - val_accuracy: 0.4844\n",
      "Epoch 23/100\n",
      "1407/1407 [==============================] - 8s 5ms/step - loss: 1.1975 - accuracy: 0.5782 - val_loss: 1.5801 - val_accuracy: 0.4802\n",
      "Epoch 24/100\n",
      "1407/1407 [==============================] - 8s 5ms/step - loss: 1.1739 - accuracy: 0.5868 - val_loss: 1.5787 - val_accuracy: 0.4968\n",
      "Epoch 25/100\n",
      "1407/1407 [==============================] - 8s 5ms/step - loss: 1.1506 - accuracy: 0.5958 - val_loss: 1.6370 - val_accuracy: 0.4906\n",
      "Epoch 26/100\n",
      "1407/1407 [==============================] - 8s 5ms/step - loss: 1.1311 - accuracy: 0.6044 - val_loss: 1.6080 - val_accuracy: 0.4796\n",
      "Epoch 27/100\n",
      "1407/1407 [==============================] - 8s 5ms/step - loss: 1.1137 - accuracy: 0.6108 - val_loss: 1.5972 - val_accuracy: 0.4930\n",
      "Epoch 28/100\n",
      "1407/1407 [==============================] - 8s 5ms/step - loss: 1.0997 - accuracy: 0.6168 - val_loss: 1.5965 - val_accuracy: 0.4806\n",
      "Epoch 29/100\n",
      "1407/1407 [==============================] - 8s 5ms/step - loss: 1.0851 - accuracy: 0.6232 - val_loss: 1.6650 - val_accuracy: 0.4928\n",
      "Epoch 30/100\n",
      "1407/1407 [==============================] - 8s 5ms/step - loss: 1.0832 - accuracy: 0.6270 - val_loss: 1.6705 - val_accuracy: 0.4998\n",
      "Epoch 31/100\n",
      "1407/1407 [==============================] - 8s 5ms/step - loss: 1.0641 - accuracy: 0.6312 - val_loss: 1.5960 - val_accuracy: 0.5012\n",
      "Epoch 32/100\n",
      "1407/1407 [==============================] - 8s 5ms/step - loss: 1.0582 - accuracy: 0.6357 - val_loss: 1.7624 - val_accuracy: 0.5032\n",
      "Epoch 33/100\n",
      "1407/1407 [==============================] - 8s 5ms/step - loss: 1.0539 - accuracy: 0.6359 - val_loss: 1.6175 - val_accuracy: 0.5156\n",
      "Epoch 34/100\n",
      "1407/1407 [==============================] - 8s 5ms/step - loss: 1.0514 - accuracy: 0.6372 - val_loss: 1.6310 - val_accuracy: 0.4986\n",
      "157/157 [==============================] - 0s 1ms/step - loss: 1.5329 - accuracy: 0.4782\n"
     ]
    },
    {
     "data": {
      "text/plain": [
       "[1.5329430103302002, 0.4781999886035919]"
      ]
     },
     "execution_count": 135,
     "metadata": {},
     "output_type": "execute_result"
    }
   ],
   "source": [
    "model.fit(X_train_scaled, y_train, epochs=100,\n",
    "          validation_data=(X_valid_scaled, y_valid),\n",
    "          callbacks=callbacks)\n",
    "\n",
    "model = keras.models.load_model('my_cifar10_selu_model.h5')\n",
    "model.evaluate(X_valid_scaled, y_valid)"
   ]
  },
  {
   "cell_type": "code",
   "execution_count": 136,
   "metadata": {},
   "outputs": [],
   "source": [
    "class MCAlphaDropout(keras.layers.AlphaDropout):\n",
    "    def call(self, inputs):\n",
    "        return super().call(inputs, training=True)"
   ]
  },
  {
   "cell_type": "code",
   "execution_count": 137,
   "metadata": {},
   "outputs": [],
   "source": [
    "mc_model = keras.models.Sequential([\n",
    "    MCAlphaDropout(layer.rate) if isinstance(layer, keras.layers.AlphaDropout) else layer\n",
    "    for layer in model.layers\n",
    "])"
   ]
  },
  {
   "cell_type": "code",
   "execution_count": 138,
   "metadata": {},
   "outputs": [],
   "source": [
    "def mc_dropout_predict_probas(mc_model, X, n_samples=10):\n",
    "    Y_probas = [mc_model.predict(X) for sample in range(n_samples)]\n",
    "    return np.mean(Y_probas, axis=0)\n",
    "\n",
    "def mc_dropout_predict_classes(mc_model, X, n_samples=10):\n",
    "    Y_probas = mc_dropout_predict_probas(mc_model, X, n_samples)\n",
    "    return np.argmax(Y_probas, axis=1)"
   ]
  },
  {
   "cell_type": "code",
   "execution_count": 139,
   "metadata": {},
   "outputs": [
    {
     "name": "stdout",
     "output_type": "stream",
     "text": [
      "157/157 [==============================] - 0s 1ms/step\n",
      "157/157 [==============================] - 0s 1ms/step\n",
      "157/157 [==============================] - 0s 1ms/step\n",
      "157/157 [==============================] - 0s 1ms/step\n",
      "157/157 [==============================] - 0s 1ms/step\n",
      "157/157 [==============================] - 0s 1ms/step\n",
      "157/157 [==============================] - 0s 1ms/step\n",
      "157/157 [==============================] - 0s 1ms/step\n",
      "157/157 [==============================] - 0s 1ms/step\n",
      "157/157 [==============================] - 0s 1ms/step\n"
     ]
    },
    {
     "data": {
      "text/plain": [
       "0.4782"
      ]
     },
     "execution_count": 139,
     "metadata": {},
     "output_type": "execute_result"
    }
   ],
   "source": [
    "keras.backend.clear_session()\n",
    "tf.random.set_seed(42)\n",
    "np.random.seed(42)\n",
    "\n",
    "y_pred = mc_dropout_predict_classes(mc_model, X_valid_scaled)\n",
    "accuracy = np.mean(y_pred == y_valid[:, 0])\n",
    "accuracy"
   ]
  },
  {
   "cell_type": "code",
   "execution_count": null,
   "metadata": {},
   "outputs": [],
   "source": []
  }
 ],
 "metadata": {
  "kernelspec": {
   "display_name": "base",
   "language": "python",
   "name": "python3"
  },
  "language_info": {
   "codemirror_mode": {
    "name": "ipython",
    "version": 3
   },
   "file_extension": ".py",
   "mimetype": "text/x-python",
   "name": "python",
   "nbconvert_exporter": "python",
   "pygments_lexer": "ipython3",
   "version": "3.9.17"
  },
  "orig_nbformat": 4
 },
 "nbformat": 4,
 "nbformat_minor": 2
}
