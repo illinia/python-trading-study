{
 "cells": [
  {
   "cell_type": "code",
   "execution_count": null,
   "metadata": {
    "collapsed": true
   },
   "outputs": [],
   "source": [
    "import matplotlib as mpl\n",
    "import matplotlib.pyplot as plt\n",
    "import numpy as np\n",
    "\n",
    "import matplotlib.animation as animation\n",
    "mpl.rc('animation', html='jshtml')"
   ]
  },
  {
   "cell_type": "markdown",
   "source": [
    "## Slope of a straight line"
   ],
   "metadata": {
    "collapsed": false
   }
  },
  {
   "cell_type": "code",
   "execution_count": null,
   "outputs": [],
   "source": [
    "def get_AB_line(A_pos, B_pos, x_min=-1000, x_max=+1000):\n",
    "    rise = B_pos[1] - A_pos[1]\n",
    "    run = B_pos[0] - A_pos[0]\n",
    "    slope = rise / run\n",
    "    offset = A_pos[1] - slope * A_pos[0]\n",
    "    return [x_min, x_max], [x_min * slope + offset, x_max * slope + offset]\n",
    "\n",
    "def plot_AB_line(A_pos, B_pos, A_name='A', B_name='B'):\n",
    "    for point, name in ((A_pos, A_name), (B_pos, B_name),):\n",
    "        plt.plot(point[0], point[1], 'bo')\n",
    "        plt.text(point[0] - 0.35, point[1], name, fontsize=14)\n",
    "    xs, ys = get_AB_line(A_pos, B_pos)\n",
    "    plt.plot(xs, ys)\n",
    "\n",
    "def plot_rise_over_run(A_pos, B_pos):\n",
    "    plt.plot([A_pos[0], B_pos[0]], [A_pos[1], A_pos[1]], 'k--')\n",
    "    plt.text((A_pos[0] + B_pos[0]) / 2, A_pos[1] - 0.4, 'run', fontsize=14)\n",
    "    plt.plot([B_pos[0], B_pos[0]], [A_pos[1], B_pos[1]], 'k--')\n",
    "    plt.text(B_pos[0] + 0.2, (A_pos[1] + B_pos[1]) / 2, 'rise', fontsize=14)\n",
    "\n",
    "def show(axis='equal', ax=None, title=None, xlabel='$x$', ylabel='$y$'):\n",
    "    ax = ax or plt.gca()\n",
    "    ax.axis(axis)\n",
    "    ax.grid()\n",
    "    ax.set_title(title, fontsize=14)\n",
    "    ax.set_xlabel(xlabel, fontsize=14)\n",
    "    ax.set_ylabel(ylabel, fontsize=14, rotation=0)\n",
    "    ax.axhline(y=0, color='k')\n",
    "    ax.axvline(x=0, color='k')"
   ],
   "metadata": {
    "collapsed": false
   }
  },
  {
   "cell_type": "code",
   "execution_count": null,
   "outputs": [],
   "source": [
    "A_pos = np.array([1, 1])\n",
    "B_pos = np.array([7, 4])\n",
    "plot_AB_line(A_pos, B_pos)\n",
    "plot_rise_over_run(A_pos, B_pos)\n",
    "show([0, 8.4, 0, 5.5], title='Slope = rise / run')"
   ],
   "metadata": {
    "collapsed": false
   }
  },
  {
   "cell_type": "markdown",
   "source": [
    "### Defining the slope of a curve"
   ],
   "metadata": {
    "collapsed": false
   }
  },
  {
   "cell_type": "code",
   "execution_count": null,
   "outputs": [],
   "source": [
    "xs = np.linspace(-2.1, 2.1, 500)\n",
    "ys = xs ** 2\n",
    "plt.plot(xs, ys)\n",
    "\n",
    "plt.plot([0, 0], [0, 3], 'k--')\n",
    "plt.arrow(-1.4, 2.5, 0.5, -1.3, head_width=0.1)\n",
    "plt.arrow(0.85, 1.05, 0.5, 1.3, head_width=0.1)\n",
    "show([-2.1, 2.1, 0, 2.8])"
   ],
   "metadata": {
    "collapsed": false
   }
  },
  {
   "cell_type": "code",
   "execution_count": null,
   "outputs": [],
   "source": [
    "def animate_AB_line(f, fp, f_str, x_A, axis=None):\n",
    "    y_A = f(x_A)\n",
    "    eps = 1e-4\n",
    "    x_B_range = 1.5\n",
    "    x_B = x_A + eps\n",
    "    n_frames = 200\n",
    "    text_offset_A = -0.2\n",
    "    text_offset_B = +0.1\n",
    "    x_min, x_max = -1000, 1000\n",
    "\n",
    "    fig, ax = plt.subplots()\n",
    "\n",
    "    xs = np.linspace(-2.1, 2.1, 500)\n",
    "    ys = f(xs)\n",
    "    ax.plot(xs, ys)\n",
    "\n",
    "    if fp:\n",
    "        slope = fp(x_A)\n",
    "        offset = y_A - slope * x_A\n",
    "        ax.plot([x_min, x_max], [slope * x_min + offset, slope * x_max + offset], 'y--')\n",
    "\n",
    "    y_A = f(x_A)\n",
    "    y_B = f(x_B)\n",
    "    xs, ys = get_AB_line([x_A, y_A], [x_B, y_B])\n",
    "    line_inf, = ax.plot(xs, ys, '-')\n",
    "    line_AB, = ax.plot([x_A, x_B], [y_A, y_B], 'bo-')\n",
    "    ax.text(x_A + text_offset_A, y_A, 'A', fontsize=14)\n",
    "    B_text = ax.text(x_B + text_offset_B, y_B, 'B', fontsize=14)\n",
    "\n",
    "    title = r'Slope of the curve $y = {}$ at $x_\\mathrm{{A}} = {}$'.format(f_str, x_A)\n",
    "    show(axis or [-2.1, 2.1, 0, 2.8], title=title)\n",
    "\n",
    "    def update_graph(i):\n",
    "        x_B = x_A + x_B_range * np.cos(i * 2 * np.pi / n_frames) ** 3\n",
    "        if np.abs(x_B - x_A) < eps:\n",
    "            x_B = x_A + eps\n",
    "        y_B = f(x_B)\n",
    "        xs, ys = get_AB_line([x_A, y_A], [x_B, y_B])\n",
    "        line_inf.set_data(xs, ys)\n",
    "        line_AB.set_data([x_A, x_B], [y_A, y_B])\n",
    "        B_text.set_position([x_B + text_offset_B, y_B])\n",
    "        return line_inf, line_AB\n",
    "\n",
    "    anim = animation.FuncAnimation(fig, update_graph,\n",
    "                                   init_func=lambda: update_graph(0),\n",
    "                                   frames=n_frames,\n",
    "                                   interval=20,\n",
    "                                   blit=True)\n",
    "    plt.close()\n",
    "    return anim"
   ],
   "metadata": {
    "collapsed": false
   }
  },
  {
   "cell_type": "code",
   "execution_count": null,
   "outputs": [],
   "source": [
    "animate_AB_line(lambda x: x**2, lambda x: 2*x, 'x^2', -1)"
   ],
   "metadata": {
    "collapsed": false
   }
  },
  {
   "cell_type": "code",
   "execution_count": null,
   "outputs": [],
   "source": [
    "animate_AB_line(lambda x: np.abs(x), None, '|x|', 0)"
   ],
   "metadata": {
    "collapsed": false
   }
  },
  {
   "cell_type": "code",
   "execution_count": null,
   "outputs": [],
   "source": [
    "animate_AB_line(lambda x: np.cbrt(x), None, r'\\sqrt[3]{x}', 0, axis=[-2.1, 2.1, -1.4, 1.4])"
   ],
   "metadata": {
    "collapsed": false
   }
  },
  {
   "cell_type": "markdown",
   "source": [
    "### Plotting the tangent to a curve"
   ],
   "metadata": {
    "collapsed": false
   }
  },
  {
   "cell_type": "code",
   "execution_count": null,
   "outputs": [],
   "source": [
    "def animate_tangent(f, fp, f_str):\n",
    "    n_frames = 200\n",
    "    x_min, x_max = -1000, 1000\n",
    "\n",
    "    fig, (ax1, ax2) = plt.subplots(2, 1, figsize=(5, 8), sharex=True)\n",
    "\n",
    "    xs = np.linspace(-2.1, 2.1, 500)\n",
    "    ys = f(xs)\n",
    "    ax1.plot(xs, ys)\n",
    "\n",
    "    line_tangent, = ax1.plot([x_min, x_max], [0, 0])\n",
    "\n",
    "    xs = np.linspace(-2.1, 2.1, 500)\n",
    "    ys = fp(xs)\n",
    "    ax2.plot(xs, ys, 'r-')\n",
    "\n",
    "    point_A1, = ax1.plot(0, 0, 'bo')\n",
    "    point_A2, = ax2.plot(0, 0, 'bo')\n",
    "\n",
    "    show([-2.1, 2.1, 0, 2.8], ax=ax1, ylabel='$f(x)$', title=r'$y=f(x)=' + f_str + '$ and the tangent at $x=x_\\mathrm{A}$')\n",
    "    show([-2.1, 2.1, -4.2, 4.2], ax=ax2, ylabel=\"$f'(x)$\", title=r\"y=f'(x) and the slope of the tangent at $x=x_\\mathrm{A}$\")\n",
    "\n",
    "    def update_graph(i):\n",
    "        x = 1.5 * np.sin(2 * np.pi * i / n_frames)\n",
    "        f_x = f(x)\n",
    "        df_dx = fp(x)\n",
    "        offset = f_x - df_dx * x\n",
    "        line_tangent.set_data([x_min, x_max],\n",
    "                              [df_dx * x_min + offset, df_dx * x_max + offset])\n",
    "        point_A1.set_data(x, f_x)\n",
    "        point_A2.set_data(x, df_dx)\n",
    "        return line_tangent, point_A1, point_A2\n",
    "\n",
    "    anim = animation.FuncAnimation(fig, update_graph,\n",
    "                                   init_func=lambda: update_graph(0),\n",
    "                                   frames=n_frames,\n",
    "                                   interval=20,\n",
    "                                   blit=True)\n",
    "    plt.close()\n",
    "    return anim"
   ],
   "metadata": {
    "collapsed": false
   }
  },
  {
   "cell_type": "code",
   "execution_count": null,
   "outputs": [],
   "source": [
    "def f(x):\n",
    "    return x ** 2\n",
    "def fp(x):\n",
    "    return 2 * x"
   ],
   "metadata": {
    "collapsed": false
   }
  },
  {
   "cell_type": "code",
   "execution_count": null,
   "outputs": [],
   "source": [
    "animate_tangent(f, fp, 'x^2')"
   ],
   "metadata": {
    "collapsed": false
   }
  },
  {
   "cell_type": "code",
   "execution_count": null,
   "outputs": [],
   "source": [
    "#@title\n",
    "animate_tangent(lambda x: np.sin(2*x**2) + 1, lambda x: 4*x*np.cos(2*x**2), r\"\\sin(2x^2)+1\")"
   ],
   "metadata": {
    "collapsed": false
   }
  },
  {
   "cell_type": "code",
   "execution_count": null,
   "outputs": [],
   "source": [
    "def f(x):\n",
    "    return 1/4 * x**4 - x**2 + 1/2"
   ],
   "metadata": {
    "collapsed": false
   }
  },
  {
   "cell_type": "code",
   "execution_count": null,
   "outputs": [],
   "source": [
    "xs = np.linspace(-2.1, 2.1, 500)\n",
    "ys = f(xs)\n",
    "plt.plot(xs, ys)\n",
    "plt.plot([np.sqrt(2), np.sqrt(2)], [0, f(np.sqrt(2))], 'k--')\n",
    "plt.plot([-np.sqrt(2), -np.sqrt(2)], [0, f(-np.sqrt(2))], 'k--')\n",
    "plt.text(-np.sqrt(2), 0.1, r'$-\\sqrt{2}$', fontsize=14, horizontalalignment='center')\n",
    "plt.text(np.sqrt(2), 0.1, r'$\\sqrt{2}$', fontsize=14, horizontalalignment='center')\n",
    "show(axis=[-2.1, 2.1, -1.4, 1.4])"
   ],
   "metadata": {
    "collapsed": false
   }
  },
  {
   "cell_type": "code",
   "execution_count": null,
   "outputs": [],
   "source": [
    "def f(x):\n",
    "    return x**3\n",
    "xs = np.linspace(-1.05, 1.05, 500)\n",
    "ys = f(xs)\n",
    "plt.plot(xs, ys)\n",
    "show(axis=[-1.05, 1.05, -0.7, 0.7])"
   ],
   "metadata": {
    "collapsed": false
   }
  },
  {
   "cell_type": "code",
   "execution_count": null,
   "outputs": [],
   "source": [
    "def animate_gradient_descent(f, fp, f_str, x_0):\n",
    "    learning_rate = 0.01\n",
    "    n_frames = 200\n",
    "    x_min, x_max = -1000, 1000\n",
    "\n",
    "    fig, (ax1, ax2) = plt.subplots(2, 1, figsize=(5, 8), sharex=True)\n",
    "\n",
    "    xs = np.linspace(-2.1, 2.1, 500)\n",
    "    ys = f(xs)\n",
    "    ax1.plot(xs, ys)\n",
    "\n",
    "    line_tangent, = ax1.plot([x_min, x_max], [0, 0])\n",
    "\n",
    "    xs = np.linspace(-2.1, 2.1, 500)\n",
    "    ys = fp(xs)\n",
    "    ax2.plot(xs, ys, 'r-')\n",
    "\n",
    "    point_A1, = ax1.plot(0, 0, 'bo')\n",
    "    point_A2, = ax2.plot(0, 0, 'bo')\n",
    "\n",
    "    show([-2.1, 2.1, -1.4, 1.4], ax=ax1, ylabel=\"$f(x)$\",\n",
    "         title=r\"$y=f(x)=\" + f_str + \"$ and the tangent at $x=x_\\mathrm{A}$\")\n",
    "    show([-2.1, 2.1, -4.2, 4.2], ax=ax2, ylabel=\"$f'(x)$\",\n",
    "         title=r\"$y=f'(x)=\" + f_str + \"$ and the tangent at $x=x_\\mathrm{A}$\")\n",
    "\n",
    "    xs = []\n",
    "    x = x_0\n",
    "    for index in range(n_frames):\n",
    "        xs.append(x)\n",
    "        slope = fp(x)\n",
    "        x = x - slope * learning_rate\n",
    "\n",
    "    def update_graph(i):\n",
    "        x = xs[i]\n",
    "        f_x = f(x)\n",
    "        df_dx = fp(x)\n",
    "        offset = f_x - df_dx * x\n",
    "        line_tangent.set_data([x_min, x_max],\n",
    "                              [df_dx * x_min + offset, df_dx * x_max + offset])\n",
    "        point_A1.set_data(x, f_x)\n",
    "        point_A2.set_data(x, df_dx)\n",
    "        return line_tangent, point_A1, point_A2\n",
    "\n",
    "    anim = animation.FuncAnimation(fig, update_graph,\n",
    "                                   init_func=lambda: update_graph(0),\n",
    "                                   frames=n_frames,\n",
    "                                   interval=20,\n",
    "                                   blit=True)\n",
    "    plt.close()\n",
    "    return anim"
   ],
   "metadata": {
    "collapsed": false
   }
  },
  {
   "cell_type": "code",
   "execution_count": null,
   "outputs": [],
   "source": [
    "def f(x):\n",
    "    return 1/4 * x**4 - x**2 + 1/2\n",
    "def fp(x):\n",
    "    return x**3 - 2*x"
   ],
   "metadata": {
    "collapsed": false
   }
  },
  {
   "cell_type": "code",
   "execution_count": null,
   "outputs": [],
   "source": [
    "animate_gradient_descent(f, fp, r\"\\dfrac{1}{4}x^4 - x^2 + \\dfrac{1}{2}\", x_0=1/4)"
   ],
   "metadata": {
    "collapsed": false
   }
  },
  {
   "cell_type": "code",
   "execution_count": null,
   "outputs": [],
   "source": [
    "from mpl_toolkits.mplot3d import Axes3D"
   ],
   "metadata": {
    "collapsed": false
   }
  },
  {
   "cell_type": "code",
   "execution_count": null,
   "outputs": [],
   "source": [
    "def plot_3d(f, title):\n",
    "    fig = plt.figure(figsize=(8, 5))\n",
    "    ax = fig.add_subplot(111, projection='3d')\n",
    "\n",
    "    xs = np.linspace(-2.1, 2.1, 100)\n",
    "    ys = np.linspace(-2.1, 2.1, 100)\n",
    "    xs, ys = np.meshgrid(xs, ys)\n",
    "    zs = f(xs, ys)\n",
    "\n",
    "    surface = ax.plot_surface(xs, ys, zs,\n",
    "                              cmap=mpl.cm.coolwarm,\n",
    "                              linewidth=0.3, edgecolor='k')\n",
    "\n",
    "    ax.set_xlabel('$x$', fontsize=14)\n",
    "    ax.set_ylabel('$y$', fontsize=14)\n",
    "    ax.set_zlabel('$z$', fontsize=14)\n",
    "    ax.set_title(title, fontsize=14)\n",
    "    return ax"
   ],
   "metadata": {
    "collapsed": false
   }
  },
  {
   "cell_type": "code",
   "execution_count": null,
   "outputs": [],
   "source": [
    "def plot_tangents(ax, x_A, y_A, f, df_dx, df_dy):\n",
    "    ax.plot3D([x_A], [y_A], f(x_A, y_A), 'bo', zorder=10)\n",
    "    x_min, x_max = -2.1, 2.1\n",
    "    slope_x = df_dx(x_A, y_A)\n",
    "    offset_x = f(x_A, y_A) - slope_x * x_A\n",
    "    ax.plot3D([x_min, x_max], [y_A, y_A],\n",
    "              [slope_x * x_min + offset_x, slope_x * x_max + offset_x], 'b-.',\n",
    "              zorder=5)\n",
    "\n",
    "    y_min, y_max = -2.1, 2.1\n",
    "    slope_y = df_dy(x_A, y_A)\n",
    "    offset_y = f(x_A, y_A) - slope_y * y_A\n",
    "    ax.plot3D([x_A, x_A], [y_min, y_max],\n",
    "              [slope_y * y_min + offset_y, slope_y * y_max + offset_y], 'r-',\n",
    "              zorder=5)"
   ],
   "metadata": {
    "collapsed": false
   }
  },
  {
   "cell_type": "code",
   "execution_count": null,
   "outputs": [],
   "source": [
    "def f(x, y):\n",
    "    return np.sin(x * y)\n",
    "def df_dx(x, y):\n",
    "    return y * np.cos(x * y)\n",
    "def df_dy(x, y):\n",
    "    return x * np.cos(x * y)"
   ],
   "metadata": {
    "collapsed": false
   }
  },
  {
   "cell_type": "code",
   "execution_count": null,
   "outputs": [],
   "source": [
    "ax = plot_3d(f, r\"$z = f(x, y) = \\sin(xy)$\")\n",
    "plot_tangents(ax, 0.1, -1, f, df_dx, df_dy)"
   ],
   "metadata": {
    "collapsed": false
   }
  }
 ],
 "metadata": {
  "kernelspec": {
   "display_name": "Python 3",
   "language": "python",
   "name": "python3"
  },
  "language_info": {
   "codemirror_mode": {
    "name": "ipython",
    "version": 2
   },
   "file_extension": ".py",
   "mimetype": "text/x-python",
   "name": "python",
   "nbconvert_exporter": "python",
   "pygments_lexer": "ipython2",
   "version": "2.7.6"
  }
 },
 "nbformat": 4,
 "nbformat_minor": 0
}
