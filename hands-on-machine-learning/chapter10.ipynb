{
 "cells": [
  {
   "cell_type": "markdown",
   "metadata": {},
   "source": [
    "## 10장"
   ]
  },
  {
   "cell_type": "markdown",
   "metadata": {},
   "source": [
    "### 10.1.3 퍼셉트론"
   ]
  },
  {
   "cell_type": "code",
   "execution_count": 1,
   "metadata": {},
   "outputs": [],
   "source": [
    "# 파이썬 ≥3.5 필수\n",
    "import sys\n",
    "assert sys.version_info >= (3, 5)\n",
    "\n",
    "# 사이킷런 ≥0.20 필수\n",
    "import sklearn\n",
    "assert sklearn.__version__ >= \"0.20\"\n",
    "\n",
    "# 텐서플로 ≥2.0 필수\n",
    "import tensorflow as tf\n",
    "assert tf.__version__ >= \"2.0\"\n",
    "\n",
    "# 공통 모듈 임포트\n",
    "import numpy as np\n",
    "import os\n",
    "\n",
    "# 노트북 실행 결과를 동일하게 유지하기 위해\n",
    "np.random.seed(42)\n",
    "\n",
    "# 깔끔한 그래프 출력을 위해\n",
    "%matplotlib inline\n",
    "import matplotlib as mpl\n",
    "import matplotlib.pyplot as plt\n",
    "mpl.rc('axes', labelsize=14)\n",
    "mpl.rc('xtick', labelsize=12)\n",
    "mpl.rc('ytick', labelsize=12)\n",
    "\n",
    "# 그림을 저장할 위치\n",
    "PROJECT_ROOT_DIR = \".\"\n",
    "CHAPTER_ID = \"ann\"\n",
    "IMAGES_PATH = os.path.join(PROJECT_ROOT_DIR, \"images\", CHAPTER_ID)\n",
    "os.makedirs(IMAGES_PATH, exist_ok=True)\n",
    "\n",
    "def save_fig(fig_id, tight_layout=True, fig_extension=\"png\", resolution=300):\n",
    "    path = os.path.join(IMAGES_PATH, fig_id + \".\" + fig_extension)\n",
    "    print(\"그림 저장:\", fig_id)\n",
    "    if tight_layout:\n",
    "        plt.tight_layout()\n",
    "    plt.savefig(path, format=fig_extension, dpi=resolution)"
   ]
  },
  {
   "cell_type": "code",
   "execution_count": 2,
   "metadata": {},
   "outputs": [],
   "source": [
    "import numpy as np\n",
    "from sklearn.datasets import load_iris\n",
    "from sklearn.linear_model import Perceptron\n",
    "\n",
    "iris = load_iris()\n",
    "X = iris.data[:, (2, 3)]\n",
    "y = (iris.target == 0).astype(np.int8)\n",
    "\n",
    "per_clf = Perceptron(max_iter=1000, tol=1e-3, random_state=42)\n",
    "per_clf.fit(X, y)\n",
    "\n",
    "y_pred = per_clf.predict([[2, 0.5]])"
   ]
  },
  {
   "cell_type": "code",
   "execution_count": 3,
   "metadata": {},
   "outputs": [
    {
     "data": {
      "text/plain": [
       "array([1], dtype=int8)"
      ]
     },
     "execution_count": 3,
     "metadata": {},
     "output_type": "execute_result"
    }
   ],
   "source": [
    "y_pred"
   ]
  },
  {
   "cell_type": "code",
   "execution_count": 4,
   "metadata": {},
   "outputs": [
    {
     "data": {
      "text/plain": [
       "array([[-1.4, -2.2]])"
      ]
     },
     "execution_count": 4,
     "metadata": {},
     "output_type": "execute_result"
    }
   ],
   "source": [
    "per_clf.coef_"
   ]
  },
  {
   "cell_type": "code",
   "execution_count": 5,
   "metadata": {},
   "outputs": [
    {
     "data": {
      "text/plain": [
       "array([4.])"
      ]
     },
     "execution_count": 5,
     "metadata": {},
     "output_type": "execute_result"
    }
   ],
   "source": [
    "per_clf.intercept_"
   ]
  },
  {
   "cell_type": "code",
   "execution_count": null,
   "metadata": {},
   "outputs": [],
   "source": []
  },
  {
   "cell_type": "code",
   "execution_count": 6,
   "metadata": {},
   "outputs": [
    {
     "data": {
      "text/plain": [
       "(0.0, 5.0, 0.0, 2.0)"
      ]
     },
     "execution_count": 6,
     "metadata": {},
     "output_type": "execute_result"
    },
    {
     "data": {
      "image/png": "[encoded data removed]",
      "text/plain": [
       "<Figure size 1000x400 with 1 Axes>"
      ]
     },
     "metadata": {},
     "output_type": "display_data"
    }
   ],
   "source": [
    "a = -per_clf.coef_[0][0] / per_clf.coef_[0][1]\n",
    "b = -per_clf.intercept_ / per_clf.coef_[0][1]\n",
    "\n",
    "axes = [0, 5, 0, 2]\n",
    "\n",
    "x0, x1 = np.meshgrid(\n",
    "    np.linspace(axes[0], axes[1], 500).reshape(-1, 1),\n",
    "    np.linspace(axes[2], axes[3], 200).reshape(-1, 1)\n",
    ")\n",
    "X_new = np.c_[x0.ravel(), x1.ravel()]\n",
    "y_predict = per_clf.predict(X_new)\n",
    "zz = y_predict.reshape(x0.shape)\n",
    "\n",
    "plt.figure(figsize=(10, 4))\n",
    "plt.plot(X[y==0, 0], X[y==0, 1], 'bs', label='Not Iris-Setosa')\n",
    "plt.plot(X[y==1, 0], X[y==1, 1], 'yo', label='Iris-Setosa')\n",
    "\n",
    "plt.plot([axes[0], axes[1]], [a * axes[0] + b, a * axes[1] + b], 'k-', linewidth=3)\n",
    "\n",
    "from matplotlib.colors import ListedColormap\n",
    "custom_cmap = ListedColormap(['#9898ff', '#fafab0'])\n",
    "\n",
    "plt.contourf(x0, x1, zz, cmap=custom_cmap)\n",
    "plt.axis(axes)"
   ]
  },
  {
   "cell_type": "code",
   "execution_count": 7,
   "metadata": {},
   "outputs": [
    {
     "data": {
      "text/plain": [
       "array([0.        , 0.01002004, 0.02004008, ..., 4.97995992, 4.98997996,\n",
       "       5.        ])"
      ]
     },
     "execution_count": 7,
     "metadata": {},
     "output_type": "execute_result"
    }
   ],
   "source": [
    "x0.ravel()"
   ]
  },
  {
   "cell_type": "code",
   "execution_count": 8,
   "metadata": {},
   "outputs": [
    {
     "data": {
      "text/plain": [
       "(200, 500)"
      ]
     },
     "execution_count": 8,
     "metadata": {},
     "output_type": "execute_result"
    }
   ],
   "source": [
    "x0.shape"
   ]
  },
  {
   "cell_type": "code",
   "execution_count": 9,
   "metadata": {},
   "outputs": [
    {
     "data": {
      "text/plain": [
       "(array([[0.        , 0.01002004, 0.02004008, ..., 4.97995992, 4.98997996,\n",
       "         5.        ],\n",
       "        [0.        , 0.01002004, 0.02004008, ..., 4.97995992, 4.98997996,\n",
       "         5.        ],\n",
       "        [0.        , 0.01002004, 0.02004008, ..., 4.97995992, 4.98997996,\n",
       "         5.        ],\n",
       "        ...,\n",
       "        [0.        , 0.01002004, 0.02004008, ..., 4.97995992, 4.98997996,\n",
       "         5.        ],\n",
       "        [0.        , 0.01002004, 0.02004008, ..., 4.97995992, 4.98997996,\n",
       "         5.        ],\n",
       "        [0.        , 0.01002004, 0.02004008, ..., 4.97995992, 4.98997996,\n",
       "         5.        ]]),\n",
       " array([[0.        , 0.        , 0.        , ..., 0.        , 0.        ,\n",
       "         0.        ],\n",
       "        [0.01005025, 0.01005025, 0.01005025, ..., 0.01005025, 0.01005025,\n",
       "         0.01005025],\n",
       "        [0.0201005 , 0.0201005 , 0.0201005 , ..., 0.0201005 , 0.0201005 ,\n",
       "         0.0201005 ],\n",
       "        ...,\n",
       "        [1.9798995 , 1.9798995 , 1.9798995 , ..., 1.9798995 , 1.9798995 ,\n",
       "         1.9798995 ],\n",
       "        [1.98994975, 1.98994975, 1.98994975, ..., 1.98994975, 1.98994975,\n",
       "         1.98994975],\n",
       "        [2.        , 2.        , 2.        , ..., 2.        , 2.        ,\n",
       "         2.        ]]))"
      ]
     },
     "execution_count": 9,
     "metadata": {},
     "output_type": "execute_result"
    }
   ],
   "source": [
    "x0, x1"
   ]
  },
  {
   "cell_type": "code",
   "execution_count": 10,
   "metadata": {},
   "outputs": [],
   "source": [
    "def sigmoid(z):\n",
    "    return 1 / (1 + np.exp(-z))\n",
    "\n",
    "def relu(z):\n",
    "    return np.maximum(0, z)\n",
    "\n",
    "def derivative(f, z, eps=0.000001):\n",
    "    return (f(z + eps) - f(z - eps)) / (2 * eps)"
   ]
  },
  {
   "cell_type": "code",
   "execution_count": 11,
   "metadata": {},
   "outputs": [
    {
     "data": {
      "text/plain": [
       "(-5.0, 5.0, -1.2, 1.2)"
      ]
     },
     "execution_count": 11,
     "metadata": {},
     "output_type": "execute_result"
    },
    {
     "data": {
      "image/png": "[encoded data removed]",
      "text/plain": [
       "<Figure size 1100x400 with 1 Axes>"
      ]
     },
     "metadata": {},
     "output_type": "display_data"
    }
   ],
   "source": [
    "z = np.linspace(-5, 5, 200)\n",
    "\n",
    "plt.figure(figsize=(11, 4))\n",
    "\n",
    "plt.subplot(121)\n",
    "plt.plot(z, np.sign(z), 'r-', linewidth=1, label='Step')\n",
    "plt.plot(z, sigmoid(z), 'g--', linewidth=2, label='Sigmoid')\n",
    "plt.plot(z, np.tanh(z), 'b-', linewidth=2, label='Tanh')\n",
    "plt.plot(z, relu(z), 'm-.', linewidth=2, label='ReLU')\n",
    "plt.grid(True)\n",
    "plt.axis([-5, 5, -1.2, 1.2])"
   ]
  },
  {
   "cell_type": "code",
   "execution_count": 12,
   "metadata": {},
   "outputs": [],
   "source": [
    "import tensorflow as tf\n",
    "from tensorflow import keras"
   ]
  },
  {
   "cell_type": "code",
   "execution_count": 13,
   "metadata": {},
   "outputs": [
    {
     "data": {
      "text/plain": [
       "'2.13.0'"
      ]
     },
     "execution_count": 13,
     "metadata": {},
     "output_type": "execute_result"
    }
   ],
   "source": [
    "tf.__version__"
   ]
  },
  {
   "cell_type": "code",
   "execution_count": 14,
   "metadata": {},
   "outputs": [],
   "source": [
    "# keras.__version__"
   ]
  },
  {
   "cell_type": "code",
   "execution_count": 15,
   "metadata": {},
   "outputs": [],
   "source": [
    "fashion_mnist = keras.datasets.fashion_mnist"
   ]
  },
  {
   "cell_type": "code",
   "execution_count": 16,
   "metadata": {},
   "outputs": [],
   "source": [
    "(X_train_full, y_train_full), (X_test, y_test) = fashion_mnist.load_data()"
   ]
  },
  {
   "cell_type": "code",
   "execution_count": 17,
   "metadata": {},
   "outputs": [
    {
     "data": {
      "text/plain": [
       "(60000, 28, 28)"
      ]
     },
     "execution_count": 17,
     "metadata": {},
     "output_type": "execute_result"
    }
   ],
   "source": [
    "X_train_full.shape"
   ]
  },
  {
   "cell_type": "code",
   "execution_count": 18,
   "metadata": {},
   "outputs": [
    {
     "data": {
      "text/plain": [
       "dtype('uint8')"
      ]
     },
     "execution_count": 18,
     "metadata": {},
     "output_type": "execute_result"
    }
   ],
   "source": [
    "X_train_full.dtype"
   ]
  },
  {
   "cell_type": "code",
   "execution_count": 19,
   "metadata": {},
   "outputs": [],
   "source": [
    "X_valid, X_train = X_train_full[:5000] / 255., X_train_full[5000:] / 255.\n",
    "y_valid, y_train = y_train_full[:5000], y_train_full[5000:]\n",
    "X_test = X_test / 255."
   ]
  },
  {
   "cell_type": "code",
   "execution_count": 20,
   "metadata": {},
   "outputs": [
    {
     "data": {
      "text/plain": [
       "(-0.5, 27.5, 27.5, -0.5)"
      ]
     },
     "execution_count": 20,
     "metadata": {},
     "output_type": "execute_result"
    },
    {
     "data": {
      "image/png": "[encoded data removed]",
      "text/plain": [
       "<Figure size 640x480 with 1 Axes>"
      ]
     },
     "metadata": {},
     "output_type": "display_data"
    }
   ],
   "source": [
    "plt.imshow(X_train[0], cmap='binary')\n",
    "plt.axis('off')"
   ]
  },
  {
   "cell_type": "code",
   "execution_count": 21,
   "metadata": {},
   "outputs": [
    {
     "data": {
      "text/plain": [
       "array([4, 0, 7, ..., 3, 0, 5], dtype=uint8)"
      ]
     },
     "execution_count": 21,
     "metadata": {},
     "output_type": "execute_result"
    }
   ],
   "source": [
    "y_train"
   ]
  },
  {
   "cell_type": "code",
   "execution_count": 22,
   "metadata": {},
   "outputs": [],
   "source": [
    "class_names = [\"T-shirt/top\", \"Trouser\", \"Pullover\", \"Dress\", \"Coat\",\n",
    "               \"Sandal\", \"Shirt\", \"Sneaker\", \"Bag\", \"Ankle boot\"]"
   ]
  },
  {
   "cell_type": "code",
   "execution_count": 23,
   "metadata": {},
   "outputs": [
    {
     "data": {
      "text/plain": [
       "'Coat'"
      ]
     },
     "execution_count": 23,
     "metadata": {},
     "output_type": "execute_result"
    }
   ],
   "source": [
    "class_names[y_train[0]]"
   ]
  },
  {
   "cell_type": "code",
   "execution_count": 24,
   "metadata": {},
   "outputs": [
    {
     "data": {
      "text/plain": [
       "(5000, 28, 28)"
      ]
     },
     "execution_count": 24,
     "metadata": {},
     "output_type": "execute_result"
    }
   ],
   "source": [
    "X_valid.shape"
   ]
  },
  {
   "cell_type": "code",
   "execution_count": 25,
   "metadata": {},
   "outputs": [
    {
     "data": {
      "text/plain": [
       "(10000, 28, 28)"
      ]
     },
     "execution_count": 25,
     "metadata": {},
     "output_type": "execute_result"
    }
   ],
   "source": [
    "X_test.shape"
   ]
  },
  {
   "cell_type": "code",
   "execution_count": 26,
   "metadata": {},
   "outputs": [
    {
     "data": {
      "image/png": "[encoded data removed]",
      "text/plain": [
       "<Figure size 1200x480 with 40 Axes>"
      ]
     },
     "metadata": {},
     "output_type": "display_data"
    }
   ],
   "source": [
    "n_rows = 4\n",
    "n_cols = 10\n",
    "plt.figure(figsize=(n_cols * 1.2, n_rows * 1.2))\n",
    "for row in range(n_rows):\n",
    "    for col in range(n_cols):\n",
    "        index = n_cols * row + col\n",
    "        plt.subplot(n_rows, n_cols, index + 1)\n",
    "        plt.imshow(X_train[index], cmap='binary', interpolation='nearest')\n",
    "        plt.axis('off')\n",
    "        plt.title(class_names[y_train[index]], fontsize=12)\n",
    "plt.subplots_adjust(wspace=0.2, hspace=0.5)"
   ]
  },
  {
   "cell_type": "code",
   "execution_count": 27,
   "metadata": {},
   "outputs": [],
   "source": [
    "model = keras.models.Sequential()\n",
    "model.add(keras.layers.Flatten(input_shape=[28, 28]))\n",
    "model.add(keras.layers.Dense(300, activation='relu'))\n",
    "model.add(keras.layers.Dense(100, activation='relu'))\n",
    "model.add(keras.layers.Dense(10, activation='softmax'))"
   ]
  },
  {
   "cell_type": "code",
   "execution_count": 28,
   "metadata": {},
   "outputs": [],
   "source": [
    "keras.backend.clear_session()\n",
    "np.random.seed(42)\n",
    "tf.random.set_seed(42)"
   ]
  },
  {
   "cell_type": "code",
   "execution_count": 29,
   "metadata": {},
   "outputs": [],
   "source": [
    "model = keras.models.Sequential([\n",
    "    keras.layers.Flatten(input_shape=[28, 28]),\n",
    "    keras.layers.Dense(300, activation=\"relu\"),\n",
    "    keras.layers.Dense(100, activation=\"relu\"),\n",
    "    keras.layers.Dense(10, activation=\"softmax\")\n",
    "])"
   ]
  },
  {
   "cell_type": "code",
   "execution_count": 30,
   "metadata": {},
   "outputs": [
    {
     "data": {
      "text/plain": [
       "[<keras.src.layers.reshaping.flatten.Flatten at 0x29ec96400>,\n",
       " <keras.src.layers.core.dense.Dense at 0x29ec96e20>,\n",
       " <keras.src.layers.core.dense.Dense at 0x29eca9dc0>,\n",
       " <keras.src.layers.core.dense.Dense at 0x29eca9a60>]"
      ]
     },
     "execution_count": 30,
     "metadata": {},
     "output_type": "execute_result"
    }
   ],
   "source": [
    "model.layers"
   ]
  },
  {
   "cell_type": "code",
   "execution_count": 31,
   "metadata": {},
   "outputs": [
    {
     "name": "stdout",
     "output_type": "stream",
     "text": [
      "Model: \"sequential\"\n",
      "_________________________________________________________________\n",
      " Layer (type)                Output Shape              Param #   \n",
      "=================================================================\n",
      " flatten (Flatten)           (None, 784)               0         \n",
      "                                                                 \n",
      " dense (Dense)               (None, 300)               235500    \n",
      "                                                                 \n",
      " dense_1 (Dense)             (None, 100)               30100     \n",
      "                                                                 \n",
      " dense_2 (Dense)             (None, 10)                1010      \n",
      "                                                                 \n",
      "=================================================================\n",
      "Total params: 266610 (1.02 MB)\n",
      "Trainable params: 266610 (1.02 MB)\n",
      "Non-trainable params: 0 (0.00 Byte)\n",
      "_________________________________________________________________\n"
     ]
    }
   ],
   "source": [
    "model.summary()"
   ]
  },
  {
   "cell_type": "code",
   "execution_count": 32,
   "metadata": {},
   "outputs": [
    {
     "data": {
      "image/png": "[encoded data removed]",
      "text/plain": [
       "<IPython.core.display.Image object>"
      ]
     },
     "execution_count": 32,
     "metadata": {},
     "output_type": "execute_result"
    }
   ],
   "source": [
    "keras.utils.plot_model(model, show_shapes=True)"
   ]
  },
  {
   "cell_type": "code",
   "execution_count": 33,
   "metadata": {},
   "outputs": [
    {
     "data": {
      "text/plain": [
       "'dense'"
      ]
     },
     "execution_count": 33,
     "metadata": {},
     "output_type": "execute_result"
    }
   ],
   "source": [
    "hidden1 = model.layers[1]\n",
    "hidden1.name"
   ]
  },
  {
   "cell_type": "code",
   "execution_count": 34,
   "metadata": {},
   "outputs": [
    {
     "data": {
      "text/plain": [
       "True"
      ]
     },
     "execution_count": 34,
     "metadata": {},
     "output_type": "execute_result"
    }
   ],
   "source": [
    "model.get_layer(hidden1.name) is hidden1"
   ]
  },
  {
   "cell_type": "code",
   "execution_count": 35,
   "metadata": {},
   "outputs": [],
   "source": [
    "weights, biases = hidden1.get_weights()"
   ]
  },
  {
   "cell_type": "code",
   "execution_count": 36,
   "metadata": {},
   "outputs": [
    {
     "data": {
      "text/plain": [
       "array([[ 0.01635373, -0.07036629,  0.00157544, ...,  0.02294615,\n",
       "        -0.06647913, -0.0244765 ],\n",
       "       [ 0.07439485,  0.00652967, -0.04734698, ..., -0.01134817,\n",
       "        -0.03850824,  0.07096457],\n",
       "       [ 0.05942504, -0.07364438,  0.02051411, ..., -0.00502641,\n",
       "        -0.00147297,  0.00347536],\n",
       "       ...,\n",
       "       [-0.03047714,  0.03103823, -0.05120768, ..., -0.04262036,\n",
       "        -0.02308168,  0.04025853],\n",
       "       [-0.07318044, -0.07010115, -0.04892313, ...,  0.04111627,\n",
       "        -0.00437306, -0.01865806],\n",
       "       [ 0.00800277, -0.01104815, -0.06567146, ...,  0.07139367,\n",
       "         0.06071326, -0.02327127]], dtype=float32)"
      ]
     },
     "execution_count": 36,
     "metadata": {},
     "output_type": "execute_result"
    }
   ],
   "source": [
    "weights"
   ]
  },
  {
   "cell_type": "code",
   "execution_count": 37,
   "metadata": {},
   "outputs": [
    {
     "data": {
      "text/plain": [
       "(784, 300)"
      ]
     },
     "execution_count": 37,
     "metadata": {},
     "output_type": "execute_result"
    }
   ],
   "source": [
    "weights.shape"
   ]
  },
  {
   "cell_type": "code",
   "execution_count": 38,
   "metadata": {},
   "outputs": [
    {
     "data": {
      "text/plain": [
       "array([0., 0., 0., 0., 0., 0., 0., 0., 0., 0., 0., 0., 0., 0., 0., 0., 0.,\n",
       "       0., 0., 0., 0., 0., 0., 0., 0., 0., 0., 0., 0., 0., 0., 0., 0., 0.,\n",
       "       0., 0., 0., 0., 0., 0., 0., 0., 0., 0., 0., 0., 0., 0., 0., 0., 0.,\n",
       "       0., 0., 0., 0., 0., 0., 0., 0., 0., 0., 0., 0., 0., 0., 0., 0., 0.,\n",
       "       0., 0., 0., 0., 0., 0., 0., 0., 0., 0., 0., 0., 0., 0., 0., 0., 0.,\n",
       "       0., 0., 0., 0., 0., 0., 0., 0., 0., 0., 0., 0., 0., 0., 0., 0., 0.,\n",
       "       0., 0., 0., 0., 0., 0., 0., 0., 0., 0., 0., 0., 0., 0., 0., 0., 0.,\n",
       "       0., 0., 0., 0., 0., 0., 0., 0., 0., 0., 0., 0., 0., 0., 0., 0., 0.,\n",
       "       0., 0., 0., 0., 0., 0., 0., 0., 0., 0., 0., 0., 0., 0., 0., 0., 0.,\n",
       "       0., 0., 0., 0., 0., 0., 0., 0., 0., 0., 0., 0., 0., 0., 0., 0., 0.,\n",
       "       0., 0., 0., 0., 0., 0., 0., 0., 0., 0., 0., 0., 0., 0., 0., 0., 0.,\n",
       "       0., 0., 0., 0., 0., 0., 0., 0., 0., 0., 0., 0., 0., 0., 0., 0., 0.,\n",
       "       0., 0., 0., 0., 0., 0., 0., 0., 0., 0., 0., 0., 0., 0., 0., 0., 0.,\n",
       "       0., 0., 0., 0., 0., 0., 0., 0., 0., 0., 0., 0., 0., 0., 0., 0., 0.,\n",
       "       0., 0., 0., 0., 0., 0., 0., 0., 0., 0., 0., 0., 0., 0., 0., 0., 0.,\n",
       "       0., 0., 0., 0., 0., 0., 0., 0., 0., 0., 0., 0., 0., 0., 0., 0., 0.,\n",
       "       0., 0., 0., 0., 0., 0., 0., 0., 0., 0., 0., 0., 0., 0., 0., 0., 0.,\n",
       "       0., 0., 0., 0., 0., 0., 0., 0., 0., 0., 0.], dtype=float32)"
      ]
     },
     "execution_count": 38,
     "metadata": {},
     "output_type": "execute_result"
    }
   ],
   "source": [
    "biases"
   ]
  },
  {
   "cell_type": "code",
   "execution_count": 39,
   "metadata": {},
   "outputs": [
    {
     "data": {
      "text/plain": [
       "(300,)"
      ]
     },
     "execution_count": 39,
     "metadata": {},
     "output_type": "execute_result"
    }
   ],
   "source": [
    "biases.shape"
   ]
  },
  {
   "cell_type": "code",
   "execution_count": 40,
   "metadata": {},
   "outputs": [
    {
     "name": "stderr",
     "output_type": "stream",
     "text": [
      "WARNING:absl:At this time, the v2.11+ optimizer `tf.keras.optimizers.SGD` runs slowly on M1/M2 Macs, please use the legacy Keras optimizer instead, located at `tf.keras.optimizers.legacy.SGD`.\n",
      "WARNING:absl:There is a known slowdown when using v2.11+ Keras optimizers on M1/M2 Macs. Falling back to the legacy Keras optimizer, i.e., `tf.keras.optimizers.legacy.SGD`.\n"
     ]
    }
   ],
   "source": [
    "model.compile(loss=keras.losses.sparse_categorical_crossentropy,\n",
    "              optimizer=keras.optimizers.SGD(),\n",
    "              metrics=[keras.metrics.sparse_categorical_accuracy])"
   ]
  },
  {
   "cell_type": "code",
   "execution_count": 41,
   "metadata": {},
   "outputs": [
    {
     "name": "stdout",
     "output_type": "stream",
     "text": [
      "Epoch 1/30\n"
     ]
    },
    {
     "name": "stdout",
     "output_type": "stream",
     "text": [
      "1719/1719 [==============================] - 2s 1ms/step - loss: 0.7114 - sparse_categorical_accuracy: 0.7660 - val_loss: 0.5294 - val_sparse_categorical_accuracy: 0.8180\n",
      "Epoch 2/30\n",
      "1719/1719 [==============================] - 2s 1ms/step - loss: 0.4856 - sparse_categorical_accuracy: 0.8306 - val_loss: 0.4386 - val_sparse_categorical_accuracy: 0.8542\n",
      "Epoch 3/30\n",
      "1719/1719 [==============================] - 2s 1ms/step - loss: 0.4377 - sparse_categorical_accuracy: 0.8454 - val_loss: 0.5349 - val_sparse_categorical_accuracy: 0.8022\n",
      "Epoch 4/30\n",
      "1719/1719 [==============================] - 2s 1ms/step - loss: 0.4104 - sparse_categorical_accuracy: 0.8565 - val_loss: 0.3923 - val_sparse_categorical_accuracy: 0.8660\n",
      "Epoch 5/30\n",
      "1719/1719 [==============================] - 2s 1ms/step - loss: 0.3920 - sparse_categorical_accuracy: 0.8623 - val_loss: 0.3734 - val_sparse_categorical_accuracy: 0.8718\n",
      "Epoch 6/30\n",
      "1719/1719 [==============================] - 2s 1ms/step - loss: 0.3739 - sparse_categorical_accuracy: 0.8674 - val_loss: 0.3710 - val_sparse_categorical_accuracy: 0.8744\n",
      "Epoch 7/30\n",
      "1719/1719 [==============================] - 2s 1ms/step - loss: 0.3616 - sparse_categorical_accuracy: 0.8730 - val_loss: 0.3633 - val_sparse_categorical_accuracy: 0.8748\n",
      "Epoch 8/30\n",
      "1719/1719 [==============================] - 2s 1ms/step - loss: 0.3505 - sparse_categorical_accuracy: 0.8752 - val_loss: 0.3878 - val_sparse_categorical_accuracy: 0.8648\n",
      "Epoch 9/30\n",
      "1719/1719 [==============================] - 2s 1ms/step - loss: 0.3398 - sparse_categorical_accuracy: 0.8798 - val_loss: 0.3487 - val_sparse_categorical_accuracy: 0.8760\n",
      "Epoch 10/30\n",
      "1719/1719 [==============================] - 2s 1ms/step - loss: 0.3308 - sparse_categorical_accuracy: 0.8823 - val_loss: 0.3528 - val_sparse_categorical_accuracy: 0.8764\n",
      "Epoch 11/30\n",
      "1719/1719 [==============================] - 2s 1ms/step - loss: 0.3226 - sparse_categorical_accuracy: 0.8844 - val_loss: 0.3414 - val_sparse_categorical_accuracy: 0.8774\n",
      "Epoch 12/30\n",
      "1719/1719 [==============================] - 2s 997us/step - loss: 0.3139 - sparse_categorical_accuracy: 0.8877 - val_loss: 0.3333 - val_sparse_categorical_accuracy: 0.8810\n",
      "Epoch 13/30\n",
      "1719/1719 [==============================] - 2s 987us/step - loss: 0.3072 - sparse_categorical_accuracy: 0.8905 - val_loss: 0.3275 - val_sparse_categorical_accuracy: 0.8868\n",
      "Epoch 14/30\n",
      "1719/1719 [==============================] - 2s 1ms/step - loss: 0.3010 - sparse_categorical_accuracy: 0.8909 - val_loss: 0.3529 - val_sparse_categorical_accuracy: 0.8690\n",
      "Epoch 15/30\n",
      "1719/1719 [==============================] - 2s 966us/step - loss: 0.2935 - sparse_categorical_accuracy: 0.8934 - val_loss: 0.3275 - val_sparse_categorical_accuracy: 0.8838\n",
      "Epoch 16/30\n",
      "1719/1719 [==============================] - 2s 993us/step - loss: 0.2888 - sparse_categorical_accuracy: 0.8960 - val_loss: 0.3116 - val_sparse_categorical_accuracy: 0.8876\n",
      "Epoch 17/30\n",
      "1719/1719 [==============================] - 2s 977us/step - loss: 0.2834 - sparse_categorical_accuracy: 0.8982 - val_loss: 0.3575 - val_sparse_categorical_accuracy: 0.8724\n",
      "Epoch 18/30\n",
      "1719/1719 [==============================] - 2s 996us/step - loss: 0.2772 - sparse_categorical_accuracy: 0.9000 - val_loss: 0.3156 - val_sparse_categorical_accuracy: 0.8904\n",
      "Epoch 19/30\n",
      "1719/1719 [==============================] - 2s 1ms/step - loss: 0.2724 - sparse_categorical_accuracy: 0.9018 - val_loss: 0.3100 - val_sparse_categorical_accuracy: 0.8936\n",
      "Epoch 20/30\n",
      "1719/1719 [==============================] - 2s 1ms/step - loss: 0.2673 - sparse_categorical_accuracy: 0.9039 - val_loss: 0.3338 - val_sparse_categorical_accuracy: 0.8788\n",
      "Epoch 21/30\n",
      "1719/1719 [==============================] - 2s 1ms/step - loss: 0.2621 - sparse_categorical_accuracy: 0.9050 - val_loss: 0.3057 - val_sparse_categorical_accuracy: 0.8952\n",
      "Epoch 22/30\n",
      "1719/1719 [==============================] - 2s 987us/step - loss: 0.2576 - sparse_categorical_accuracy: 0.9065 - val_loss: 0.3011 - val_sparse_categorical_accuracy: 0.8940\n",
      "Epoch 23/30\n",
      "1719/1719 [==============================] - 2s 1ms/step - loss: 0.2526 - sparse_categorical_accuracy: 0.9083 - val_loss: 0.3036 - val_sparse_categorical_accuracy: 0.8918\n",
      "Epoch 24/30\n",
      "1719/1719 [==============================] - 2s 1ms/step - loss: 0.2485 - sparse_categorical_accuracy: 0.9098 - val_loss: 0.3128 - val_sparse_categorical_accuracy: 0.8870\n",
      "Epoch 25/30\n",
      "1719/1719 [==============================] - 2s 982us/step - loss: 0.2443 - sparse_categorical_accuracy: 0.9113 - val_loss: 0.3017 - val_sparse_categorical_accuracy: 0.8934\n",
      "Epoch 26/30\n",
      "1719/1719 [==============================] - 2s 1ms/step - loss: 0.2400 - sparse_categorical_accuracy: 0.9134 - val_loss: 0.3076 - val_sparse_categorical_accuracy: 0.8902\n",
      "Epoch 27/30\n",
      "1719/1719 [==============================] - 2s 987us/step - loss: 0.2367 - sparse_categorical_accuracy: 0.9153 - val_loss: 0.3051 - val_sparse_categorical_accuracy: 0.8910\n",
      "Epoch 28/30\n",
      "1719/1719 [==============================] - 2s 1ms/step - loss: 0.2327 - sparse_categorical_accuracy: 0.9167 - val_loss: 0.3056 - val_sparse_categorical_accuracy: 0.8906\n",
      "Epoch 29/30\n",
      "1719/1719 [==============================] - 2s 983us/step - loss: 0.2289 - sparse_categorical_accuracy: 0.9170 - val_loss: 0.3126 - val_sparse_categorical_accuracy: 0.8884\n",
      "Epoch 30/30\n",
      "1719/1719 [==============================] - 2s 1ms/step - loss: 0.2248 - sparse_categorical_accuracy: 0.9191 - val_loss: 0.3167 - val_sparse_categorical_accuracy: 0.8876\n"
     ]
    }
   ],
   "source": [
    "history = model.fit(X_train, y_train, epochs=30,\n",
    "                    validation_data=(X_valid, y_valid))"
   ]
  },
  {
   "cell_type": "code",
   "execution_count": 42,
   "metadata": {},
   "outputs": [
    {
     "data": {
      "text/plain": [
       "{'verbose': 1, 'epochs': 30, 'steps': 1719}"
      ]
     },
     "execution_count": 42,
     "metadata": {},
     "output_type": "execute_result"
    }
   ],
   "source": [
    "history.params"
   ]
  },
  {
   "cell_type": "code",
   "execution_count": 43,
   "metadata": {},
   "outputs": [
    {
     "data": {
      "text/plain": [
       "dict_keys(['loss', 'sparse_categorical_accuracy', 'val_loss', 'val_sparse_categorical_accuracy'])"
      ]
     },
     "execution_count": 43,
     "metadata": {},
     "output_type": "execute_result"
    }
   ],
   "source": [
    "history.history.keys()"
   ]
  },
  {
   "cell_type": "code",
   "execution_count": 44,
   "metadata": {},
   "outputs": [
    {
     "data": {
      "text/plain": [
       "(0.0, 1.0)"
      ]
     },
     "execution_count": 44,
     "metadata": {},
     "output_type": "execute_result"
    },
    {
     "data": {
      "image/png": "[encoded data removed]",
      "text/plain": [
       "<Figure size 800x500 with 1 Axes>"
      ]
     },
     "metadata": {},
     "output_type": "display_data"
    }
   ],
   "source": [
    "import pandas as pd\n",
    "\n",
    "pd.DataFrame(history.history).plot(figsize=(8, 5))\n",
    "plt.grid(True)\n",
    "plt.gca().set_ylim(0, 1)"
   ]
  },
  {
   "cell_type": "code",
   "execution_count": 45,
   "metadata": {},
   "outputs": [
    {
     "name": "stdout",
     "output_type": "stream",
     "text": [
      "313/313 [==============================] - 0s 549us/step - loss: 0.3476 - sparse_categorical_accuracy: 0.8808\n"
     ]
    },
    {
     "data": {
      "text/plain": [
       "[0.3476172983646393, 0.8808000087738037]"
      ]
     },
     "execution_count": 45,
     "metadata": {},
     "output_type": "execute_result"
    }
   ],
   "source": [
    "model.evaluate(X_test, y_test)"
   ]
  },
  {
   "cell_type": "code",
   "execution_count": 46,
   "metadata": {},
   "outputs": [
    {
     "name": "stdout",
     "output_type": "stream",
     "text": [
      "1/1 [==============================] - 0s 38ms/step\n"
     ]
    },
    {
     "data": {
      "text/plain": [
       "array([[0.  , 0.  , 0.  , 0.  , 0.  , 0.02, 0.  , 0.03, 0.  , 0.95],\n",
       "       [0.  , 0.  , 1.  , 0.  , 0.  , 0.  , 0.  , 0.  , 0.  , 0.  ],\n",
       "       [0.  , 1.  , 0.  , 0.  , 0.  , 0.  , 0.  , 0.  , 0.  , 0.  ]],\n",
       "      dtype=float32)"
      ]
     },
     "execution_count": 46,
     "metadata": {},
     "output_type": "execute_result"
    }
   ],
   "source": [
    "X_new = X_test[:3]\n",
    "y_proba = model.predict(X_new)\n",
    "y_proba.round(2)"
   ]
  },
  {
   "cell_type": "code",
   "execution_count": 47,
   "metadata": {},
   "outputs": [
    {
     "name": "stdout",
     "output_type": "stream",
     "text": [
      "1/1 [==============================] - 0s 12ms/step\n"
     ]
    },
    {
     "data": {
      "text/plain": [
       "array([9, 2, 1])"
      ]
     },
     "execution_count": 47,
     "metadata": {},
     "output_type": "execute_result"
    }
   ],
   "source": [
    "y_pred = np.argmax(model.predict(X_new), axis=-1)\n",
    "y_pred"
   ]
  },
  {
   "cell_type": "code",
   "execution_count": 48,
   "metadata": {},
   "outputs": [
    {
     "data": {
      "text/plain": [
       "array(['Ankle boot', 'Pullover', 'Trouser'], dtype='<U11')"
      ]
     },
     "execution_count": 48,
     "metadata": {},
     "output_type": "execute_result"
    }
   ],
   "source": [
    "np.array(class_names)[y_pred]"
   ]
  },
  {
   "cell_type": "code",
   "execution_count": 49,
   "metadata": {},
   "outputs": [
    {
     "data": {
      "text/plain": [
       "array([9, 2, 1], dtype=uint8)"
      ]
     },
     "execution_count": 49,
     "metadata": {},
     "output_type": "execute_result"
    }
   ],
   "source": [
    "y_new = y_test[:3]\n",
    "y_new"
   ]
  },
  {
   "cell_type": "code",
   "execution_count": 50,
   "metadata": {},
   "outputs": [
    {
     "data": {
      "image/png": "[encoded data removed]",
      "text/plain": [
       "<Figure size 720x240 with 3 Axes>"
      ]
     },
     "metadata": {},
     "output_type": "display_data"
    }
   ],
   "source": [
    "plt.figure(figsize=(7.2, 2.4))\n",
    "for index, image in enumerate(X_new):\n",
    "    plt.subplot(1, 3, index + 1)\n",
    "    plt.imshow(image, cmap='binary', interpolation='nearest')\n",
    "    plt.axis('off')\n",
    "    plt.title(class_names[y_test[index]], fontsize=12)\n",
    "plt.subplots_adjust(wspace=0.2, hspace=0.5)"
   ]
  },
  {
   "cell_type": "code",
   "execution_count": 51,
   "metadata": {},
   "outputs": [],
   "source": [
    "from sklearn.datasets import fetch_california_housing\n",
    "from sklearn.model_selection import train_test_split\n",
    "from sklearn.preprocessing import StandardScaler\n",
    "\n",
    "housing = fetch_california_housing()\n",
    "\n",
    "X_train_full, X_test, y_train_full, y_test = train_test_split(housing.data, housing.target, random_state=42)\n",
    "X_train, X_valid, y_train, y_valid = train_test_split(X_train_full, y_train_full, random_state=42)\n",
    "\n",
    "scaler = StandardScaler()\n",
    "X_train = scaler.fit_transform(X_train)\n",
    "X_valid = scaler.transform(X_valid)\n",
    "X_test = scaler.transform(X_test)"
   ]
  },
  {
   "cell_type": "code",
   "execution_count": 52,
   "metadata": {},
   "outputs": [
    {
     "data": {
      "text/plain": [
       "(11610, 8)"
      ]
     },
     "execution_count": 52,
     "metadata": {},
     "output_type": "execute_result"
    }
   ],
   "source": [
    "X_train.shape"
   ]
  },
  {
   "cell_type": "code",
   "execution_count": 53,
   "metadata": {},
   "outputs": [],
   "source": [
    "np.random.seed(42)\n",
    "tf.random.set_seed(42)"
   ]
  },
  {
   "cell_type": "code",
   "execution_count": 54,
   "metadata": {},
   "outputs": [
    {
     "name": "stderr",
     "output_type": "stream",
     "text": [
      "WARNING:absl:At this time, the v2.11+ optimizer `tf.keras.optimizers.SGD` runs slowly on M1/M2 Macs, please use the legacy Keras optimizer instead, located at `tf.keras.optimizers.legacy.SGD`.\n",
      "WARNING:absl:`lr` is deprecated in Keras optimizer, please use `learning_rate` or use the legacy optimizer, e.g.,tf.keras.optimizers.legacy.SGD.\n",
      "WARNING:absl:There is a known slowdown when using v2.11+ Keras optimizers on M1/M2 Macs. Falling back to the legacy Keras optimizer, i.e., `tf.keras.optimizers.legacy.SGD`.\n"
     ]
    },
    {
     "name": "stdout",
     "output_type": "stream",
     "text": [
      "Epoch 1/20\n",
      "363/363 [==============================] - 0s 603us/step - loss: 0.7978 - val_loss: 0.8407\n",
      "Epoch 2/20\n",
      "363/363 [==============================] - 0s 484us/step - loss: 0.4761 - val_loss: 0.7657\n",
      "Epoch 3/20\n",
      "363/363 [==============================] - 0s 470us/step - loss: 0.4331 - val_loss: 3.5681\n",
      "Epoch 4/20\n",
      "363/363 [==============================] - 0s 524us/step - loss: 0.4327 - val_loss: 1.6670\n",
      "Epoch 5/20\n",
      "363/363 [==============================] - 0s 465us/step - loss: 0.4119 - val_loss: 0.3654\n",
      "Epoch 6/20\n",
      "363/363 [==============================] - 0s 459us/step - loss: 0.3946 - val_loss: 0.3808\n",
      "Epoch 7/20\n",
      "363/363 [==============================] - 0s 496us/step - loss: 0.3955 - val_loss: 0.3757\n",
      "Epoch 8/20\n",
      "363/363 [==============================] - 0s 464us/step - loss: 0.3875 - val_loss: 0.3806\n",
      "Epoch 9/20\n",
      "363/363 [==============================] - 0s 467us/step - loss: 0.3827 - val_loss: 0.3839\n",
      "Epoch 10/20\n",
      "363/363 [==============================] - 0s 482us/step - loss: 0.3804 - val_loss: 0.3923\n",
      "Epoch 11/20\n",
      "363/363 [==============================] - 0s 460us/step - loss: 0.3788 - val_loss: 0.3706\n",
      "Epoch 12/20\n",
      "363/363 [==============================] - 0s 462us/step - loss: 0.3770 - val_loss: 0.3966\n",
      "Epoch 13/20\n",
      "363/363 [==============================] - 0s 474us/step - loss: 0.3739 - val_loss: 0.3863\n",
      "Epoch 14/20\n",
      "363/363 [==============================] - 0s 465us/step - loss: 0.3713 - val_loss: 0.3604\n",
      "Epoch 15/20\n",
      "363/363 [==============================] - 0s 457us/step - loss: 0.3703 - val_loss: 0.3622\n",
      "Epoch 16/20\n",
      "363/363 [==============================] - 0s 465us/step - loss: 0.3679 - val_loss: 0.3564\n",
      "Epoch 17/20\n",
      "363/363 [==============================] - 0s 458us/step - loss: 0.3669 - val_loss: 0.3770\n",
      "Epoch 18/20\n",
      "363/363 [==============================] - 0s 454us/step - loss: 0.3645 - val_loss: 0.3615\n",
      "Epoch 19/20\n",
      "363/363 [==============================] - 0s 474us/step - loss: 0.3661 - val_loss: 0.3495\n",
      "Epoch 20/20\n",
      "363/363 [==============================] - 0s 474us/step - loss: 0.3618 - val_loss: 0.3817\n"
     ]
    }
   ],
   "source": [
    "model = keras.models.Sequential([\n",
    "    keras.layers.Dense(30, activation='relu', input_shape=X_train.shape[1:]),\n",
    "    keras.layers.Dense(1)\n",
    "])\n",
    "model.compile(loss='mean_squared_error', optimizer=keras.optimizers.SGD(lr=1e-3))\n",
    "history = model.fit(X_train, y_train, epochs=20, validation_data=(X_valid, y_valid))"
   ]
  },
  {
   "cell_type": "code",
   "execution_count": 55,
   "metadata": {},
   "outputs": [
    {
     "name": "stdout",
     "output_type": "stream",
     "text": [
      "162/162 [==============================] - 0s 340us/step - loss: 0.3526\n",
      "1/1 [==============================] - 0s 22ms/step\n"
     ]
    }
   ],
   "source": [
    "mse_test = model.evaluate(X_test, y_test)\n",
    "X_new = X_test[:3]\n",
    "y_pred = model.predict(X_new)"
   ]
  },
  {
   "cell_type": "code",
   "execution_count": 56,
   "metadata": {},
   "outputs": [
    {
     "data": {
      "text/plain": [
       "(0.0, 1.0)"
      ]
     },
     "execution_count": 56,
     "metadata": {},
     "output_type": "execute_result"
    },
    {
     "data": {
      "image/png": "[encoded data removed]",
      "text/plain": [
       "<Figure size 640x480 with 1 Axes>"
      ]
     },
     "metadata": {},
     "output_type": "display_data"
    }
   ],
   "source": [
    "plt.plot(pd.DataFrame(history.history))\n",
    "plt.grid(True)\n",
    "plt.gca().set_ylim(0, 1)"
   ]
  },
  {
   "cell_type": "code",
   "execution_count": 57,
   "metadata": {},
   "outputs": [
    {
     "data": {
      "text/plain": [
       "array([[0.8006522],\n",
       "       [1.6973324],\n",
       "       [4.0895023]], dtype=float32)"
      ]
     },
     "execution_count": 57,
     "metadata": {},
     "output_type": "execute_result"
    }
   ],
   "source": [
    "y_pred"
   ]
  },
  {
   "cell_type": "code",
   "execution_count": 58,
   "metadata": {},
   "outputs": [],
   "source": [
    "np.random.seed(42)\n",
    "tf.random.set_seed(42)"
   ]
  },
  {
   "cell_type": "code",
   "execution_count": 59,
   "metadata": {},
   "outputs": [],
   "source": [
    "input_A = keras.layers.Input(shape=[5], name='wide_input')\n",
    "input_B = keras.layers.Input(shape=[6], name='deep_input')\n",
    "hidden1 = keras.layers.Dense(30, activation='relu')(input_B)\n",
    "hidden2 = keras.layers.Dense(30, activation='relu')(hidden1)\n",
    "concat = keras.layers.concatenate([input_A, hidden2])\n",
    "output = keras.layers.Dense(1, name='output')(concat)\n",
    "model = keras.models.Model(inputs=[input_A, input_B], outputs=[output])"
   ]
  },
  {
   "cell_type": "code",
   "execution_count": 60,
   "metadata": {},
   "outputs": [
    {
     "name": "stderr",
     "output_type": "stream",
     "text": [
      "WARNING:absl:At this time, the v2.11+ optimizer `tf.keras.optimizers.SGD` runs slowly on M1/M2 Macs, please use the legacy Keras optimizer instead, located at `tf.keras.optimizers.legacy.SGD`.\n",
      "WARNING:absl:`lr` is deprecated in Keras optimizer, please use `learning_rate` or use the legacy optimizer, e.g.,tf.keras.optimizers.legacy.SGD.\n",
      "WARNING:absl:There is a known slowdown when using v2.11+ Keras optimizers on M1/M2 Macs. Falling back to the legacy Keras optimizer, i.e., `tf.keras.optimizers.legacy.SGD`.\n"
     ]
    },
    {
     "name": "stdout",
     "output_type": "stream",
     "text": [
      "Epoch 1/20\n",
      "363/363 [==============================] - 0s 669us/step - loss: 0.7177 - val_loss: 0.8412\n",
      "Epoch 2/20\n",
      "363/363 [==============================] - 0s 537us/step - loss: 0.4693 - val_loss: 5.1610\n",
      "Epoch 3/20\n",
      "363/363 [==============================] - 0s 526us/step - loss: 0.5064 - val_loss: 0.3951\n",
      "Epoch 4/20\n",
      "363/363 [==============================] - 0s 524us/step - loss: 0.4205 - val_loss: 0.4769\n",
      "Epoch 5/20\n",
      "363/363 [==============================] - 0s 519us/step - loss: 0.4148 - val_loss: 0.5160\n",
      "Epoch 6/20\n",
      "363/363 [==============================] - 0s 521us/step - loss: 0.4040 - val_loss: 1.0676\n",
      "Epoch 7/20\n",
      "363/363 [==============================] - 0s 523us/step - loss: 0.4269 - val_loss: 2.1169\n",
      "Epoch 8/20\n",
      "363/363 [==============================] - 0s 576us/step - loss: 0.4067 - val_loss: 0.6552\n",
      "Epoch 9/20\n",
      "363/363 [==============================] - 0s 517us/step - loss: 0.3896 - val_loss: 0.3729\n",
      "Epoch 10/20\n",
      "363/363 [==============================] - 0s 534us/step - loss: 0.3846 - val_loss: 0.3691\n",
      "Epoch 11/20\n",
      "363/363 [==============================] - 0s 516us/step - loss: 0.3853 - val_loss: 0.3579\n",
      "Epoch 12/20\n",
      "363/363 [==============================] - 0s 527us/step - loss: 0.3811 - val_loss: 0.3614\n",
      "Epoch 13/20\n",
      "363/363 [==============================] - 0s 516us/step - loss: 0.3791 - val_loss: 0.3464\n",
      "Epoch 14/20\n",
      "363/363 [==============================] - 0s 536us/step - loss: 0.3713 - val_loss: 0.3577\n",
      "Epoch 15/20\n",
      "363/363 [==============================] - 0s 511us/step - loss: 0.3753 - val_loss: 0.3820\n",
      "Epoch 16/20\n",
      "363/363 [==============================] - 0s 582us/step - loss: 0.3671 - val_loss: 0.3461\n",
      "Epoch 17/20\n",
      "363/363 [==============================] - 0s 549us/step - loss: 0.3656 - val_loss: 0.3444\n",
      "Epoch 18/20\n",
      "363/363 [==============================] - 0s 514us/step - loss: 0.3588 - val_loss: 0.4551\n",
      "Epoch 19/20\n",
      "363/363 [==============================] - 0s 515us/step - loss: 0.3767 - val_loss: 0.4442\n",
      "Epoch 20/20\n",
      "363/363 [==============================] - 0s 512us/step - loss: 0.3659 - val_loss: 0.3394\n",
      "162/162 [==============================] - 0s 308us/step - loss: 0.3499\n",
      "1/1 [==============================] - 0s 26ms/step\n"
     ]
    }
   ],
   "source": [
    "model.compile(loss='mse', optimizer=keras.optimizers.SGD(lr=1e-3))\n",
    "\n",
    "X_train_A, X_train_B = X_train[:, :5], X_train[:, 2:]\n",
    "X_valid_A, X_valid_B = X_valid[:, :5], X_valid[:, 2:]\n",
    "X_test_A, X_test_B = X_test[:, :5], X_test[:, 2:]\n",
    "X_new_A, X_new_B = X_test_A[:3], X_test_B[:3]\n",
    "\n",
    "history = model.fit((X_train_A, X_train_B), y_train, epochs=20,\n",
    "                    validation_data=((X_valid_A, X_valid_B), y_valid))\n",
    "mse_test = model.evaluate((X_test_A, X_test_B), y_test)\n",
    "y_pred = model.predict((X_new_A, X_new_B))"
   ]
  },
  {
   "cell_type": "code",
   "execution_count": 61,
   "metadata": {},
   "outputs": [],
   "source": [
    "np.random.seed(42)\n",
    "tf.random.set_seed(42)"
   ]
  },
  {
   "cell_type": "code",
   "execution_count": 62,
   "metadata": {},
   "outputs": [],
   "source": [
    "input_A = keras.layers.Input(shape=[5], name='wide_input')\n",
    "input_B = keras.layers.Input(shape=[6], name='deep_input')\n",
    "hidden1 = keras.layers.Dense(30, activation='relu')(input_B)\n",
    "hidden2 = keras.layers.Dense(30, activation='relu')(hidden1)\n",
    "concat = keras.layers.concatenate([input_A, hidden2])\n",
    "output = keras.layers.Dense(1, name='main_output')(concat)\n",
    "aux_output = keras.layers.Dense(1, name='aux_output')(hidden2)\n",
    "model = keras.models.Model(inputs=[input_A, input_B],\n",
    "                           outputs=[output, aux_output])"
   ]
  },
  {
   "cell_type": "code",
   "execution_count": 63,
   "metadata": {},
   "outputs": [],
   "source": [
    "model.compile(loss=['mse', 'mse'], loss_weights=[0.9, 0.1], optimizer=tf.keras.optimizers.legacy.SGD(learning_rate=1e-3))"
   ]
  },
  {
   "cell_type": "code",
   "execution_count": 64,
   "metadata": {},
   "outputs": [
    {
     "name": "stdout",
     "output_type": "stream",
     "text": [
      "Epoch 1/20\n",
      "363/363 [==============================] - 0s 832us/step - loss: 2.7573 - main_output_loss: 2.5035 - aux_output_loss: 5.0414 - val_loss: 1.9121 - val_main_output_loss: 1.3162 - val_aux_output_loss: 7.2754\n",
      "Epoch 2/20\n",
      "363/363 [==============================] - 0s 564us/step - loss: 1.0219 - main_output_loss: 0.7928 - aux_output_loss: 3.0840 - val_loss: 0.9801 - val_main_output_loss: 0.7217 - val_aux_output_loss: 3.3055\n",
      "Epoch 3/20\n",
      "363/363 [==============================] - 0s 544us/step - loss: 0.8080 - main_output_loss: 0.6640 - aux_output_loss: 2.1040 - val_loss: 0.7861 - val_main_output_loss: 0.6504 - val_aux_output_loss: 2.0073\n",
      "Epoch 4/20\n",
      "363/363 [==============================] - 0s 532us/step - loss: 0.7235 - main_output_loss: 0.6182 - aux_output_loss: 1.6719 - val_loss: 0.6764 - val_main_output_loss: 0.5806 - val_aux_output_loss: 1.5391\n",
      "Epoch 5/20\n",
      "363/363 [==============================] - 0s 584us/step - loss: 0.6776 - main_output_loss: 0.5898 - aux_output_loss: 1.4679 - val_loss: 0.6305 - val_main_output_loss: 0.5478 - val_aux_output_loss: 1.3745\n",
      "Epoch 6/20\n",
      "363/363 [==============================] - 0s 651us/step - loss: 0.6445 - main_output_loss: 0.5645 - aux_output_loss: 1.3650 - val_loss: 0.6030 - val_main_output_loss: 0.5255 - val_aux_output_loss: 1.2997\n",
      "Epoch 7/20\n",
      "363/363 [==============================] - 0s 584us/step - loss: 0.6201 - main_output_loss: 0.5445 - aux_output_loss: 1.3013 - val_loss: 0.5770 - val_main_output_loss: 0.5018 - val_aux_output_loss: 1.2539\n",
      "Epoch 8/20\n",
      "363/363 [==============================] - 0s 604us/step - loss: 0.5980 - main_output_loss: 0.5251 - aux_output_loss: 1.2549 - val_loss: 0.5561 - val_main_output_loss: 0.4826 - val_aux_output_loss: 1.2172\n",
      "Epoch 9/20\n",
      "363/363 [==============================] - 0s 627us/step - loss: 0.5789 - main_output_loss: 0.5079 - aux_output_loss: 1.2178 - val_loss: 0.5385 - val_main_output_loss: 0.4668 - val_aux_output_loss: 1.1838\n",
      "Epoch 10/20\n",
      "363/363 [==============================] - 0s 607us/step - loss: 0.5623 - main_output_loss: 0.4932 - aux_output_loss: 1.1839 - val_loss: 0.5242 - val_main_output_loss: 0.4545 - val_aux_output_loss: 1.1523\n",
      "Epoch 11/20\n",
      "363/363 [==============================] - 0s 561us/step - loss: 0.5482 - main_output_loss: 0.4809 - aux_output_loss: 1.1534 - val_loss: 0.5089 - val_main_output_loss: 0.4406 - val_aux_output_loss: 1.1233\n",
      "Epoch 12/20\n",
      "363/363 [==============================] - 0s 573us/step - loss: 0.5360 - main_output_loss: 0.4706 - aux_output_loss: 1.1247 - val_loss: 0.4974 - val_main_output_loss: 0.4309 - val_aux_output_loss: 1.0961\n",
      "Epoch 13/20\n",
      "363/363 [==============================] - 0s 570us/step - loss: 0.5259 - main_output_loss: 0.4623 - aux_output_loss: 1.0979 - val_loss: 0.4889 - val_main_output_loss: 0.4242 - val_aux_output_loss: 1.0718\n",
      "Epoch 14/20\n",
      "363/363 [==============================] - 0s 563us/step - loss: 0.5177 - main_output_loss: 0.4560 - aux_output_loss: 1.0726 - val_loss: 0.4819 - val_main_output_loss: 0.4188 - val_aux_output_loss: 1.0500\n",
      "Epoch 15/20\n",
      "363/363 [==============================] - 0s 607us/step - loss: 0.5106 - main_output_loss: 0.4507 - aux_output_loss: 1.0492 - val_loss: 0.4750 - val_main_output_loss: 0.4135 - val_aux_output_loss: 1.0288\n",
      "Epoch 16/20\n",
      "363/363 [==============================] - 0s 581us/step - loss: 0.5046 - main_output_loss: 0.4465 - aux_output_loss: 1.0271 - val_loss: 0.4695 - val_main_output_loss: 0.4094 - val_aux_output_loss: 1.0104\n",
      "Epoch 17/20\n",
      "363/363 [==============================] - 0s 570us/step - loss: 0.4992 - main_output_loss: 0.4428 - aux_output_loss: 1.0067 - val_loss: 0.4653 - val_main_output_loss: 0.4067 - val_aux_output_loss: 0.9922\n",
      "Epoch 18/20\n",
      "363/363 [==============================] - 0s 561us/step - loss: 0.4945 - main_output_loss: 0.4398 - aux_output_loss: 0.9866 - val_loss: 0.4605 - val_main_output_loss: 0.4034 - val_aux_output_loss: 0.9747\n",
      "Epoch 19/20\n",
      "363/363 [==============================] - 0s 567us/step - loss: 0.4899 - main_output_loss: 0.4368 - aux_output_loss: 0.9680 - val_loss: 0.4574 - val_main_output_loss: 0.4015 - val_aux_output_loss: 0.9604\n",
      "Epoch 20/20\n",
      "363/363 [==============================] - 0s 594us/step - loss: 0.4861 - main_output_loss: 0.4345 - aux_output_loss: 0.9501 - val_loss: 0.4587 - val_main_output_loss: 0.4049 - val_aux_output_loss: 0.9423\n"
     ]
    }
   ],
   "source": [
    "history = model.fit([X_train_A, X_train_B], [y_train, y_train], epochs=20,\n",
    "                    validation_data=([X_valid_A, X_valid_B], [y_valid, y_valid]))"
   ]
  },
  {
   "cell_type": "code",
   "execution_count": 65,
   "metadata": {},
   "outputs": [
    {
     "name": "stdout",
     "output_type": "stream",
     "text": [
      "162/162 [==============================] - 0s 518us/step - loss: 0.4786 - main_output_loss: 0.4284 - aux_output_loss: 0.9304\n",
      "1/1 [==============================] - 0s 29ms/step\n"
     ]
    }
   ],
   "source": [
    "total_loss, main_loss, aux_loss = model.evaluate(\n",
    "    [X_test_A, X_test_B], [y_test, y_test])\n",
    "y_pred_main, y_pred_aux = model.predict([X_new_A, X_new_B])"
   ]
  },
  {
   "cell_type": "code",
   "execution_count": 66,
   "metadata": {},
   "outputs": [
    {
     "data": {
      "text/plain": [
       "0.47859930992126465"
      ]
     },
     "execution_count": 66,
     "metadata": {},
     "output_type": "execute_result"
    }
   ],
   "source": [
    "total_loss"
   ]
  },
  {
   "cell_type": "code",
   "execution_count": 67,
   "metadata": {},
   "outputs": [
    {
     "data": {
      "text/plain": [
       "0.4284015893936157"
      ]
     },
     "execution_count": 67,
     "metadata": {},
     "output_type": "execute_result"
    }
   ],
   "source": [
    "main_loss"
   ]
  },
  {
   "cell_type": "code",
   "execution_count": 68,
   "metadata": {},
   "outputs": [
    {
     "data": {
      "text/plain": [
       "0.930379331111908"
      ]
     },
     "execution_count": 68,
     "metadata": {},
     "output_type": "execute_result"
    }
   ],
   "source": [
    "aux_loss"
   ]
  },
  {
   "cell_type": "code",
   "execution_count": 69,
   "metadata": {},
   "outputs": [
    {
     "data": {
      "text/plain": [
       "array([[0.46436563],\n",
       "       [1.9782717 ],\n",
       "       [3.386218  ]], dtype=float32)"
      ]
     },
     "execution_count": 69,
     "metadata": {},
     "output_type": "execute_result"
    }
   ],
   "source": [
    "y_pred_main"
   ]
  },
  {
   "cell_type": "code",
   "execution_count": 70,
   "metadata": {},
   "outputs": [
    {
     "data": {
      "text/plain": [
       "array([[1.170903 ],\n",
       "       [1.8521001],\n",
       "       [2.387524 ]], dtype=float32)"
      ]
     },
     "execution_count": 70,
     "metadata": {},
     "output_type": "execute_result"
    }
   ],
   "source": [
    "y_pred_aux"
   ]
  },
  {
   "cell_type": "code",
   "execution_count": 71,
   "metadata": {},
   "outputs": [],
   "source": [
    "class WideAndDeepModel(keras.models.Model):\n",
    "    def __init__(self, units=30, activation=\"relu\", **kwargs):\n",
    "        super().__init__(**kwargs)\n",
    "        self.hidden1 = keras.layers.Dense(units, activation=activation)\n",
    "        self.hidden2 = keras.layers.Dense(units, activation=activation)\n",
    "        self.main_output = keras.layers.Dense(1)\n",
    "        self.aux_output = keras.layers.Dense(1)\n",
    "        \n",
    "    def call(self, inputs):\n",
    "        input_A, input_B = inputs\n",
    "        hidden1 = self.hidden1(input_B)\n",
    "        hidden2 = self.hidden2(hidden1)\n",
    "        concat = keras.layers.concatenate([input_A, hidden2])\n",
    "        main_output = self.main_output(concat)\n",
    "        aux_output = self.aux_output(hidden2)\n",
    "        return main_output, aux_output\n",
    "\n",
    "model = WideAndDeepModel(30, activation=\"relu\")"
   ]
  },
  {
   "cell_type": "code",
   "execution_count": 72,
   "metadata": {},
   "outputs": [
    {
     "name": "stderr",
     "output_type": "stream",
     "text": [
      "WARNING:absl:At this time, the v2.11+ optimizer `tf.keras.optimizers.SGD` runs slowly on M1/M2 Macs, please use the legacy Keras optimizer instead, located at `tf.keras.optimizers.legacy.SGD`.\n",
      "WARNING:absl:`lr` is deprecated in Keras optimizer, please use `learning_rate` or use the legacy optimizer, e.g.,tf.keras.optimizers.legacy.SGD.\n",
      "WARNING:absl:There is a known slowdown when using v2.11+ Keras optimizers on M1/M2 Macs. Falling back to the legacy Keras optimizer, i.e., `tf.keras.optimizers.legacy.SGD`.\n"
     ]
    },
    {
     "name": "stdout",
     "output_type": "stream",
     "text": [
      "Epoch 1/10\n",
      "363/363 [==============================] - 0s 783us/step - loss: 0.9843 - output_1_loss: 0.8537 - output_2_loss: 2.1594 - val_loss: 1.3819 - val_output_1_loss: 1.3713 - val_output_2_loss: 1.4778\n",
      "Epoch 2/10\n",
      "363/363 [==============================] - 0s 592us/step - loss: 0.5785 - output_1_loss: 0.5207 - output_2_loss: 1.0991 - val_loss: 1.8000 - val_output_1_loss: 1.8263 - val_output_2_loss: 1.5631\n",
      "Epoch 3/10\n",
      "363/363 [==============================] - 0s 569us/step - loss: 0.5148 - output_1_loss: 0.4750 - output_2_loss: 0.8731 - val_loss: 2.3825 - val_output_1_loss: 2.4601 - val_output_2_loss: 1.6844\n",
      "Epoch 4/10\n",
      "363/363 [==============================] - 0s 570us/step - loss: 0.4650 - output_1_loss: 0.4332 - output_2_loss: 0.7512 - val_loss: 2.8149 - val_output_1_loss: 2.8928 - val_output_2_loss: 2.1137\n",
      "Epoch 5/10\n",
      "363/363 [==============================] - 0s 557us/step - loss: 0.4530 - output_1_loss: 0.4293 - output_2_loss: 0.6663 - val_loss: 3.3786 - val_output_1_loss: 3.2543 - val_output_2_loss: 4.4974\n",
      "Epoch 6/10\n",
      "363/363 [==============================] - 0s 542us/step - loss: 0.4525 - output_1_loss: 0.4293 - output_2_loss: 0.6608 - val_loss: 0.4514 - val_output_1_loss: 0.3786 - val_output_2_loss: 1.1063\n",
      "Epoch 7/10\n",
      "363/363 [==============================] - 0s 587us/step - loss: 0.4247 - output_1_loss: 0.4062 - output_2_loss: 0.5909 - val_loss: 0.4318 - val_output_1_loss: 0.3722 - val_output_2_loss: 0.9682\n",
      "Epoch 8/10\n",
      "363/363 [==============================] - 0s 618us/step - loss: 0.4135 - output_1_loss: 0.3962 - output_2_loss: 0.5691 - val_loss: 0.4232 - val_output_1_loss: 0.3744 - val_output_2_loss: 0.8620\n",
      "Epoch 9/10\n",
      "363/363 [==============================] - 0s 581us/step - loss: 0.4058 - output_1_loss: 0.3892 - output_2_loss: 0.5551 - val_loss: 0.4144 - val_output_1_loss: 0.3723 - val_output_2_loss: 0.7930\n",
      "Epoch 10/10\n",
      "363/363 [==============================] - 0s 562us/step - loss: 0.3998 - output_1_loss: 0.3840 - output_2_loss: 0.5415 - val_loss: 0.4095 - val_output_1_loss: 0.3728 - val_output_2_loss: 0.7393\n",
      "162/162 [==============================] - 0s 407us/step - loss: 0.3892 - output_1_loss: 0.3734 - output_2_loss: 0.5320\n",
      "WARNING:tensorflow:5 out of the last 6 calls to <function Model.make_predict_function.<locals>.predict_function at 0x2a1d84d30> triggered tf.function retracing. Tracing is expensive and the excessive number of tracings could be due to (1) creating @tf.function repeatedly in a loop, (2) passing tensors with different shapes, (3) passing Python objects instead of tensors. For (1), please define your @tf.function outside of the loop. For (2), @tf.function has reduce_retracing=True option that can avoid unnecessary retracing. For (3), please refer to https://www.tensorflow.org/guide/function#controlling_retracing and https://www.tensorflow.org/api_docs/python/tf/function for  more details.\n"
     ]
    },
    {
     "name": "stderr",
     "output_type": "stream",
     "text": [
      "WARNING:tensorflow:5 out of the last 6 calls to <function Model.make_predict_function.<locals>.predict_function at 0x2a1d84d30> triggered tf.function retracing. Tracing is expensive and the excessive number of tracings could be due to (1) creating @tf.function repeatedly in a loop, (2) passing tensors with different shapes, (3) passing Python objects instead of tensors. For (1), please define your @tf.function outside of the loop. For (2), @tf.function has reduce_retracing=True option that can avoid unnecessary retracing. For (3), please refer to https://www.tensorflow.org/guide/function#controlling_retracing and https://www.tensorflow.org/api_docs/python/tf/function for  more details.\n"
     ]
    },
    {
     "name": "stdout",
     "output_type": "stream",
     "text": [
      "1/1 [==============================] - 0s 30ms/step\n"
     ]
    }
   ],
   "source": [
    "model.compile(loss=\"mse\", loss_weights=[0.9, 0.1], optimizer=keras.optimizers.SGD(lr=1e-3))\n",
    "history = model.fit((X_train_A, X_train_B), (y_train, y_train), epochs=10,\n",
    "                    validation_data=((X_valid_A, X_valid_B), (y_valid, y_valid)))\n",
    "total_loss, main_loss, aux_loss = model.evaluate((X_test_A, X_test_B), (y_test, y_test))\n",
    "y_pred_main, y_pred_aux = model.predict((X_new_A, X_new_B))"
   ]
  },
  {
   "cell_type": "code",
   "execution_count": 73,
   "metadata": {},
   "outputs": [],
   "source": [
    "np.random.seed(42)\n",
    "tf.random.set_seed(42)"
   ]
  },
  {
   "cell_type": "code",
   "execution_count": 74,
   "metadata": {},
   "outputs": [],
   "source": [
    "model = keras.models.Sequential([\n",
    "    keras.layers.Dense(30, activation='relu', input_shape=[8]),\n",
    "    keras.layers.Dense(30, activation='relu'),\n",
    "    keras.layers.Dense(1)\n",
    "])"
   ]
  },
  {
   "cell_type": "code",
   "execution_count": 75,
   "metadata": {},
   "outputs": [
    {
     "name": "stderr",
     "output_type": "stream",
     "text": [
      "WARNING:absl:At this time, the v2.11+ optimizer `tf.keras.optimizers.SGD` runs slowly on M1/M2 Macs, please use the legacy Keras optimizer instead, located at `tf.keras.optimizers.legacy.SGD`.\n",
      "WARNING:absl:There is a known slowdown when using v2.11+ Keras optimizers on M1/M2 Macs. Falling back to the legacy Keras optimizer, i.e., `tf.keras.optimizers.legacy.SGD`.\n"
     ]
    },
    {
     "name": "stdout",
     "output_type": "stream",
     "text": [
      "Epoch 1/10\n",
      "363/363 [==============================] - 0s 631us/step - loss: 1.8535 - val_loss: 1.7213\n",
      "Epoch 2/10\n",
      "363/363 [==============================] - 0s 488us/step - loss: 0.7131 - val_loss: 0.6929\n",
      "Epoch 3/10\n",
      "363/363 [==============================] - 0s 497us/step - loss: 0.6328 - val_loss: 0.5888\n",
      "Epoch 4/10\n",
      "363/363 [==============================] - 0s 492us/step - loss: 0.5940 - val_loss: 0.5598\n",
      "Epoch 5/10\n",
      "363/363 [==============================] - 0s 558us/step - loss: 0.5642 - val_loss: 0.5306\n",
      "Epoch 6/10\n",
      "363/363 [==============================] - 0s 490us/step - loss: 0.5393 - val_loss: 0.5095\n",
      "Epoch 7/10\n",
      "363/363 [==============================] - 0s 492us/step - loss: 0.5186 - val_loss: 0.4953\n",
      "Epoch 8/10\n",
      "363/363 [==============================] - 0s 479us/step - loss: 0.5012 - val_loss: 0.4699\n",
      "Epoch 9/10\n",
      "363/363 [==============================] - 0s 472us/step - loss: 0.4859 - val_loss: 0.4546\n",
      "Epoch 10/10\n",
      "363/363 [==============================] - 0s 501us/step - loss: 0.4726 - val_loss: 0.4420\n",
      "162/162 [==============================] - 0s 302us/step - loss: 0.4534\n"
     ]
    }
   ],
   "source": [
    "model.compile(loss='mse', optimizer=keras.optimizers.SGD(learning_rate=1e-3))\n",
    "history = model.fit(X_train, y_train, epochs=10, validation_data=(X_valid, y_valid))\n",
    "mse_test = model.evaluate(X_test, y_test)"
   ]
  },
  {
   "cell_type": "code",
   "execution_count": 76,
   "metadata": {},
   "outputs": [
    {
     "name": "stderr",
     "output_type": "stream",
     "text": [
      "/Users/taemin/anaconda3/lib/python3.9/site-packages/keras/src/engine/training.py:3000: UserWarning: You are saving your model as an HDF5 file via `model.save()`. This file format is considered legacy. We recommend using instead the native Keras format, e.g. `model.save('my_model.keras')`.\n",
      "  saving_api.save_model(\n"
     ]
    }
   ],
   "source": [
    "model.save('my_keras_model.h5')"
   ]
  },
  {
   "cell_type": "code",
   "execution_count": 77,
   "metadata": {},
   "outputs": [],
   "source": [
    "model = keras.models.load_model('my_keras_model.h5')"
   ]
  },
  {
   "cell_type": "code",
   "execution_count": 78,
   "metadata": {},
   "outputs": [
    {
     "name": "stdout",
     "output_type": "stream",
     "text": [
      "WARNING:tensorflow:6 out of the last 7 calls to <function Model.make_predict_function.<locals>.predict_function at 0x2a2099040> triggered tf.function retracing. Tracing is expensive and the excessive number of tracings could be due to (1) creating @tf.function repeatedly in a loop, (2) passing tensors with different shapes, (3) passing Python objects instead of tensors. For (1), please define your @tf.function outside of the loop. For (2), @tf.function has reduce_retracing=True option that can avoid unnecessary retracing. For (3), please refer to https://www.tensorflow.org/guide/function#controlling_retracing and https://www.tensorflow.org/api_docs/python/tf/function for  more details.\n"
     ]
    },
    {
     "name": "stderr",
     "output_type": "stream",
     "text": [
      "WARNING:tensorflow:6 out of the last 7 calls to <function Model.make_predict_function.<locals>.predict_function at 0x2a2099040> triggered tf.function retracing. Tracing is expensive and the excessive number of tracings could be due to (1) creating @tf.function repeatedly in a loop, (2) passing tensors with different shapes, (3) passing Python objects instead of tensors. For (1), please define your @tf.function outside of the loop. For (2), @tf.function has reduce_retracing=True option that can avoid unnecessary retracing. For (3), please refer to https://www.tensorflow.org/guide/function#controlling_retracing and https://www.tensorflow.org/api_docs/python/tf/function for  more details.\n"
     ]
    },
    {
     "name": "stdout",
     "output_type": "stream",
     "text": [
      "1/1 [==============================] - 0s 24ms/step\n"
     ]
    },
    {
     "data": {
      "text/plain": [
       "array([[0.7462506],\n",
       "       [1.4894195],\n",
       "       [3.2154632]], dtype=float32)"
      ]
     },
     "execution_count": 78,
     "metadata": {},
     "output_type": "execute_result"
    }
   ],
   "source": [
    "model.predict(X_new)"
   ]
  },
  {
   "cell_type": "code",
   "execution_count": 79,
   "metadata": {},
   "outputs": [],
   "source": [
    "keras.backend.clear_session()\n",
    "np.random.seed(42)\n",
    "tf.random.set_seed(42)"
   ]
  },
  {
   "cell_type": "code",
   "execution_count": 80,
   "metadata": {},
   "outputs": [],
   "source": [
    "model = keras.models.Sequential([\n",
    "    keras.layers.Dense(30, activation=\"relu\", input_shape=[8]),\n",
    "    keras.layers.Dense(30, activation=\"relu\"),\n",
    "    keras.layers.Dense(1)\n",
    "])    "
   ]
  },
  {
   "cell_type": "code",
   "execution_count": 81,
   "metadata": {},
   "outputs": [
    {
     "name": "stderr",
     "output_type": "stream",
     "text": [
      "WARNING:absl:At this time, the v2.11+ optimizer `tf.keras.optimizers.SGD` runs slowly on M1/M2 Macs, please use the legacy Keras optimizer instead, located at `tf.keras.optimizers.legacy.SGD`.\n",
      "WARNING:absl:There is a known slowdown when using v2.11+ Keras optimizers on M1/M2 Macs. Falling back to the legacy Keras optimizer, i.e., `tf.keras.optimizers.legacy.SGD`.\n"
     ]
    },
    {
     "name": "stdout",
     "output_type": "stream",
     "text": [
      "Epoch 1/10\n",
      "363/363 [==============================] - 0s 671us/step - loss: 2.0198 - val_loss: 0.8191\n",
      "Epoch 2/10\n",
      "363/363 [==============================] - 0s 512us/step - loss: 0.7176 - val_loss: 0.7391\n",
      "Epoch 3/10\n",
      "363/363 [==============================] - 0s 518us/step - loss: 0.6587 - val_loss: 0.6580\n",
      "Epoch 4/10\n",
      "363/363 [==============================] - 0s 521us/step - loss: 0.6196 - val_loss: 0.5752\n",
      "Epoch 5/10\n",
      "363/363 [==============================] - 0s 565us/step - loss: 0.5882 - val_loss: 0.5449\n",
      "Epoch 6/10\n",
      "363/363 [==============================] - 0s 500us/step - loss: 0.5603 - val_loss: 0.5248\n",
      "Epoch 7/10\n",
      "363/363 [==============================] - 0s 507us/step - loss: 0.5371 - val_loss: 0.5138\n",
      "Epoch 8/10\n",
      "363/363 [==============================] - 0s 500us/step - loss: 0.5165 - val_loss: 0.4785\n",
      "Epoch 9/10\n",
      "363/363 [==============================] - 0s 520us/step - loss: 0.4978 - val_loss: 0.4633\n",
      "Epoch 10/10\n",
      "363/363 [==============================] - 0s 501us/step - loss: 0.4816 - val_loss: 0.4518\n",
      "162/162 [==============================] - 0s 332us/step - loss: 0.4649\n"
     ]
    }
   ],
   "source": [
    "model.compile(loss='mse', optimizer=keras.optimizers.SGD(learning_rate=1e-3))\n",
    "checkpoint_cb = keras.callbacks.ModelCheckpoint('my_keras_model.h5', save_best_only=True)\n",
    "history = model.fit(X_train, y_train, epochs=10,\n",
    "                    validation_data=(X_valid, y_valid),\n",
    "                    callbacks=[checkpoint_cb])\n",
    "model = keras.models.load_model('my_keras_model.h5')\n",
    "mse_test = model.evaluate(X_test, y_test)"
   ]
  },
  {
   "cell_type": "code",
   "execution_count": 82,
   "metadata": {},
   "outputs": [
    {
     "name": "stderr",
     "output_type": "stream",
     "text": [
      "WARNING:absl:At this time, the v2.11+ optimizer `tf.keras.optimizers.SGD` runs slowly on M1/M2 Macs, please use the legacy Keras optimizer instead, located at `tf.keras.optimizers.legacy.SGD`.\n",
      "WARNING:absl:There is a known slowdown when using v2.11+ Keras optimizers on M1/M2 Macs. Falling back to the legacy Keras optimizer, i.e., `tf.keras.optimizers.legacy.SGD`.\n"
     ]
    },
    {
     "name": "stdout",
     "output_type": "stream",
     "text": [
      "Epoch 1/100\n",
      "363/363 [==============================] - 0s 636us/step - loss: 0.4682 - val_loss: 0.4346\n",
      "Epoch 2/100\n",
      "363/363 [==============================] - 0s 846us/step - loss: 0.4563 - val_loss: 0.4249\n",
      "Epoch 3/100\n",
      "363/363 [==============================] - 0s 495us/step - loss: 0.4462 - val_loss: 0.4151\n",
      "Epoch 4/100\n",
      "363/363 [==============================] - 0s 476us/step - loss: 0.4370 - val_loss: 0.4163\n",
      "Epoch 5/100\n",
      "363/363 [==============================] - 0s 497us/step - loss: 0.4293 - val_loss: 0.4058\n",
      "Epoch 6/100\n",
      "363/363 [==============================] - 0s 496us/step - loss: 0.4222 - val_loss: 0.4057\n",
      "Epoch 7/100\n",
      "363/363 [==============================] - 0s 507us/step - loss: 0.4163 - val_loss: 0.4004\n",
      "Epoch 8/100\n",
      "363/363 [==============================] - 0s 540us/step - loss: 0.4112 - val_loss: 0.3907\n",
      "Epoch 9/100\n",
      "363/363 [==============================] - 0s 515us/step - loss: 0.4064 - val_loss: 0.3903\n",
      "Epoch 10/100\n",
      "363/363 [==============================] - 0s 550us/step - loss: 0.4021 - val_loss: 0.3955\n",
      "Epoch 11/100\n",
      "363/363 [==============================] - 0s 560us/step - loss: 0.3986 - val_loss: 0.3852\n",
      "Epoch 12/100\n",
      "363/363 [==============================] - 0s 500us/step - loss: 0.3948 - val_loss: 0.3960\n",
      "Epoch 13/100\n",
      "363/363 [==============================] - 0s 503us/step - loss: 0.3918 - val_loss: 0.3941\n",
      "Epoch 14/100\n",
      "363/363 [==============================] - 0s 513us/step - loss: 0.3890 - val_loss: 0.3804\n",
      "Epoch 15/100\n",
      "363/363 [==============================] - 0s 499us/step - loss: 0.3863 - val_loss: 0.3796\n",
      "Epoch 16/100\n",
      "363/363 [==============================] - 0s 498us/step - loss: 0.3838 - val_loss: 0.3715\n",
      "Epoch 17/100\n",
      "363/363 [==============================] - 0s 493us/step - loss: 0.3816 - val_loss: 0.3820\n",
      "Epoch 18/100\n",
      "363/363 [==============================] - 0s 491us/step - loss: 0.3798 - val_loss: 0.3811\n",
      "Epoch 19/100\n",
      "363/363 [==============================] - 0s 499us/step - loss: 0.3774 - val_loss: 0.3713\n",
      "Epoch 20/100\n",
      "363/363 [==============================] - 0s 483us/step - loss: 0.3761 - val_loss: 0.4092\n",
      "Epoch 21/100\n",
      "363/363 [==============================] - 0s 489us/step - loss: 0.3744 - val_loss: 0.3902\n",
      "Epoch 22/100\n",
      "363/363 [==============================] - 0s 505us/step - loss: 0.3728 - val_loss: 0.4087\n",
      "Epoch 23/100\n",
      "363/363 [==============================] - 0s 494us/step - loss: 0.3712 - val_loss: 0.3663\n",
      "Epoch 24/100\n",
      "363/363 [==============================] - 0s 509us/step - loss: 0.3698 - val_loss: 0.3851\n",
      "Epoch 25/100\n",
      "363/363 [==============================] - 0s 488us/step - loss: 0.3682 - val_loss: 0.4204\n",
      "Epoch 26/100\n",
      "363/363 [==============================] - 0s 496us/step - loss: 0.3673 - val_loss: 0.4117\n",
      "Epoch 27/100\n",
      "363/363 [==============================] - 0s 522us/step - loss: 0.3662 - val_loss: 0.3777\n",
      "Epoch 28/100\n",
      "363/363 [==============================] - 0s 487us/step - loss: 0.3650 - val_loss: 0.4070\n",
      "Epoch 29/100\n",
      "363/363 [==============================] - 0s 497us/step - loss: 0.3640 - val_loss: 0.3869\n",
      "Epoch 30/100\n",
      "363/363 [==============================] - 0s 491us/step - loss: 0.3628 - val_loss: 0.3974\n",
      "Epoch 31/100\n",
      "363/363 [==============================] - 0s 485us/step - loss: 0.3615 - val_loss: 0.3892\n",
      "Epoch 32/100\n",
      "363/363 [==============================] - 0s 493us/step - loss: 0.3606 - val_loss: 0.4174\n",
      "Epoch 33/100\n",
      "363/363 [==============================] - 0s 527us/step - loss: 0.3602 - val_loss: 0.3766\n",
      "162/162 [==============================] - 0s 309us/step - loss: 0.3679\n"
     ]
    }
   ],
   "source": [
    "model.compile(loss='mse', optimizer=keras.optimizers.SGD(learning_rate=1e-3))\n",
    "early_stopping_cb = keras.callbacks.EarlyStopping(patience=10, restore_best_weights=True)\n",
    "\n",
    "history = model.fit(X_train, y_train, epochs=100,\n",
    "                    validation_data=(X_valid, y_valid),\n",
    "                    callbacks=[checkpoint_cb, early_stopping_cb])\n",
    "mse_test = model.evaluate(X_test, y_test)"
   ]
  },
  {
   "cell_type": "code",
   "execution_count": 83,
   "metadata": {},
   "outputs": [],
   "source": [
    "class PrintValTrainRatioCallback(keras.callbacks.Callback):\n",
    "    def on_epoch_end(self, epoch, logs):\n",
    "        print('\\nval/train: {:.2f}'.format(logs['val_loss'] / logs['loss']))"
   ]
  },
  {
   "cell_type": "code",
   "execution_count": 84,
   "metadata": {},
   "outputs": [
    {
     "name": "stdout",
     "output_type": "stream",
     "text": [
      "253/363 [===================>..........] - ETA: 0s - loss: 0.3724\n",
      "val/train: 1.03\n",
      "363/363 [==============================] - 0s 551us/step - loss: 0.3698 - val_loss: 0.3815\n"
     ]
    }
   ],
   "source": [
    "val_train_ratio_cb = PrintValTrainRatioCallback()\n",
    "history = model.fit(X_train, y_train, epochs=1,\n",
    "                    validation_data=(X_valid, y_valid),\n",
    "                    callbacks=[val_train_ratio_cb])"
   ]
  },
  {
   "cell_type": "code",
   "execution_count": 85,
   "metadata": {},
   "outputs": [],
   "source": [
    "root_logdir = os.path.join(os.curdir, 'my_logs')"
   ]
  },
  {
   "cell_type": "code",
   "execution_count": 86,
   "metadata": {},
   "outputs": [
    {
     "data": {
      "text/plain": [
       "'./my_logs/run_2023_08_14-19-49-17'"
      ]
     },
     "execution_count": 86,
     "metadata": {},
     "output_type": "execute_result"
    }
   ],
   "source": [
    "import time\n",
    "\n",
    "def get_run_logdir():\n",
    "    run_id = time.strftime('run_%Y_%m_%d-%H-%M-%S')\n",
    "    return os.path.join(root_logdir, run_id)\n",
    "\n",
    "run_logdir = get_run_logdir()\n",
    "run_logdir"
   ]
  },
  {
   "cell_type": "code",
   "execution_count": 87,
   "metadata": {},
   "outputs": [],
   "source": [
    "keras.backend.clear_session()\n",
    "np.random.seed(42)\n",
    "tf.random.set_seed(42)"
   ]
  },
  {
   "cell_type": "code",
   "execution_count": 88,
   "metadata": {},
   "outputs": [
    {
     "name": "stderr",
     "output_type": "stream",
     "text": [
      "WARNING:absl:At this time, the v2.11+ optimizer `tf.keras.optimizers.SGD` runs slowly on M1/M2 Macs, please use the legacy Keras optimizer instead, located at `tf.keras.optimizers.legacy.SGD`.\n",
      "WARNING:absl:`lr` is deprecated in Keras optimizer, please use `learning_rate` or use the legacy optimizer, e.g.,tf.keras.optimizers.legacy.SGD.\n",
      "WARNING:absl:There is a known slowdown when using v2.11+ Keras optimizers on M1/M2 Macs. Falling back to the legacy Keras optimizer, i.e., `tf.keras.optimizers.legacy.SGD`.\n"
     ]
    }
   ],
   "source": [
    "model = keras.models.Sequential([\n",
    "    keras.layers.Dense(30, activation=\"relu\", input_shape=[8]),\n",
    "    keras.layers.Dense(30, activation=\"relu\"),\n",
    "    keras.layers.Dense(1)\n",
    "])    \n",
    "model.compile(loss=\"mse\", optimizer=keras.optimizers.SGD(lr=1e-3))"
   ]
  },
  {
   "cell_type": "code",
   "execution_count": 89,
   "metadata": {},
   "outputs": [
    {
     "name": "stdout",
     "output_type": "stream",
     "text": [
      "Epoch 1/30\n",
      "363/363 [==============================] - 0s 685us/step - loss: 0.6383 - val_loss: 4.6221\n",
      "Epoch 2/30\n",
      "363/363 [==============================] - 0s 545us/step - loss: 0.4958 - val_loss: 6.5358\n",
      "Epoch 3/30\n",
      "363/363 [==============================] - 0s 564us/step - loss: 0.4606 - val_loss: 0.4526\n",
      "Epoch 4/30\n",
      "363/363 [==============================] - 0s 547us/step - loss: 0.3892 - val_loss: 0.4542\n",
      "Epoch 5/30\n",
      "363/363 [==============================] - 0s 551us/step - loss: 0.3817 - val_loss: 0.4852\n",
      "Epoch 6/30\n",
      "363/363 [==============================] - 0s 532us/step - loss: 0.3731 - val_loss: 0.5140\n",
      "Epoch 7/30\n",
      "363/363 [==============================] - 0s 559us/step - loss: 0.3678 - val_loss: 0.3355\n",
      "Epoch 8/30\n",
      "363/363 [==============================] - 0s 530us/step - loss: 0.3596 - val_loss: 0.3511\n",
      "Epoch 9/30\n",
      "363/363 [==============================] - 0s 569us/step - loss: 0.3539 - val_loss: 0.3314\n",
      "Epoch 10/30\n",
      "363/363 [==============================] - 0s 594us/step - loss: 0.3497 - val_loss: 0.3539\n",
      "Epoch 11/30\n",
      "363/363 [==============================] - 0s 521us/step - loss: 0.3473 - val_loss: 0.3623\n",
      "Epoch 12/30\n",
      "363/363 [==============================] - 0s 508us/step - loss: 0.3446 - val_loss: 0.5313\n",
      "Epoch 13/30\n",
      "363/363 [==============================] - 0s 548us/step - loss: 0.3422 - val_loss: 0.3595\n",
      "Epoch 14/30\n",
      "363/363 [==============================] - 0s 543us/step - loss: 0.3380 - val_loss: 0.3701\n",
      "Epoch 15/30\n",
      "363/363 [==============================] - 0s 529us/step - loss: 0.3363 - val_loss: 0.4320\n",
      "Epoch 16/30\n",
      "363/363 [==============================] - 0s 536us/step - loss: 0.3339 - val_loss: 0.4720\n",
      "Epoch 17/30\n",
      "363/363 [==============================] - 0s 523us/step - loss: 0.3313 - val_loss: 0.3628\n",
      "Epoch 18/30\n",
      "363/363 [==============================] - 0s 517us/step - loss: 0.3294 - val_loss: 0.4953\n",
      "Epoch 19/30\n",
      "363/363 [==============================] - 0s 594us/step - loss: 0.3296 - val_loss: 0.3612\n",
      "Epoch 20/30\n",
      "363/363 [==============================] - 0s 536us/step - loss: 0.3291 - val_loss: 0.5872\n",
      "Epoch 21/30\n",
      "363/363 [==============================] - 0s 593us/step - loss: 0.3250 - val_loss: 0.5235\n",
      "Epoch 22/30\n",
      "363/363 [==============================] - 0s 532us/step - loss: 0.3229 - val_loss: 0.6326\n",
      "Epoch 23/30\n",
      "363/363 [==============================] - 0s 526us/step - loss: 0.3212 - val_loss: 0.6721\n",
      "Epoch 24/30\n",
      "363/363 [==============================] - 0s 546us/step - loss: 0.3207 - val_loss: 0.5798\n",
      "Epoch 25/30\n",
      "363/363 [==============================] - 0s 536us/step - loss: 0.3196 - val_loss: 0.3003\n",
      "Epoch 26/30\n",
      "363/363 [==============================] - 0s 527us/step - loss: 0.3174 - val_loss: 0.4023\n",
      "Epoch 27/30\n",
      "363/363 [==============================] - 0s 524us/step - loss: 0.3155 - val_loss: 0.4667\n",
      "Epoch 28/30\n",
      "363/363 [==============================] - 0s 565us/step - loss: 0.3158 - val_loss: 0.8048\n",
      "Epoch 29/30\n",
      "363/363 [==============================] - 0s 601us/step - loss: 0.3149 - val_loss: 0.5027\n",
      "Epoch 30/30\n",
      "363/363 [==============================] - 0s 519us/step - loss: 0.3137 - val_loss: 0.4171\n"
     ]
    }
   ],
   "source": [
    "tensorboard_cb = keras.callbacks.TensorBoard(run_logdir)\n",
    "history = model.fit(X_train, y_train, epochs=30,\n",
    "                    validation_data=(X_valid, y_valid),\n",
    "                    callbacks=[checkpoint_cb, tensorboard_cb])"
   ]
  },
  {
   "cell_type": "code",
   "execution_count": 90,
   "metadata": {},
   "outputs": [],
   "source": [
    "%load_ext tensorboard"
   ]
  },
  {
   "cell_type": "code",
   "execution_count": 91,
   "metadata": {},
   "outputs": [],
   "source": [
    "# %tensorboard --logdir=./my_logs --port=6006"
   ]
  },
  {
   "cell_type": "code",
   "execution_count": 92,
   "metadata": {},
   "outputs": [
    {
     "data": {
      "text/plain": [
       "'./my_logs/run_2023_08_14-19-49-23'"
      ]
     },
     "execution_count": 92,
     "metadata": {},
     "output_type": "execute_result"
    }
   ],
   "source": [
    "run_logdir2 = get_run_logdir()\n",
    "run_logdir2"
   ]
  },
  {
   "cell_type": "code",
   "execution_count": 93,
   "metadata": {},
   "outputs": [],
   "source": [
    "keras.backend.clear_session()\n",
    "np.random.seed(42)\n",
    "tf.random.set_seed(42)"
   ]
  },
  {
   "cell_type": "code",
   "execution_count": 94,
   "metadata": {},
   "outputs": [
    {
     "name": "stderr",
     "output_type": "stream",
     "text": [
      "WARNING:absl:At this time, the v2.11+ optimizer `tf.keras.optimizers.SGD` runs slowly on M1/M2 Macs, please use the legacy Keras optimizer instead, located at `tf.keras.optimizers.legacy.SGD`.\n",
      "WARNING:absl:`lr` is deprecated in Keras optimizer, please use `learning_rate` or use the legacy optimizer, e.g.,tf.keras.optimizers.legacy.SGD.\n",
      "WARNING:absl:There is a known slowdown when using v2.11+ Keras optimizers on M1/M2 Macs. Falling back to the legacy Keras optimizer, i.e., `tf.keras.optimizers.legacy.SGD`.\n"
     ]
    }
   ],
   "source": [
    "model = keras.models.Sequential([\n",
    "    keras.layers.Dense(30, activation=\"relu\", input_shape=[8]),\n",
    "    keras.layers.Dense(30, activation=\"relu\"),\n",
    "    keras.layers.Dense(1)\n",
    "])    \n",
    "model.compile(loss=\"mse\", optimizer=keras.optimizers.SGD(lr=0.05))"
   ]
  },
  {
   "cell_type": "code",
   "execution_count": 95,
   "metadata": {},
   "outputs": [
    {
     "name": "stdout",
     "output_type": "stream",
     "text": [
      "Epoch 1/30\n"
     ]
    },
    {
     "name": "stdout",
     "output_type": "stream",
     "text": [
      "363/363 [==============================] - 0s 688us/step - loss: 0.7347 - val_loss: 1.1361\n",
      "Epoch 2/30\n",
      "363/363 [==============================] - 0s 564us/step - loss: 0.4634 - val_loss: 2.8706\n",
      "Epoch 3/30\n",
      "363/363 [==============================] - 0s 547us/step - loss: 0.4741 - val_loss: 3.7226\n",
      "Epoch 4/30\n",
      "363/363 [==============================] - 0s 556us/step - loss: 0.3922 - val_loss: 3.1773\n",
      "Epoch 5/30\n",
      "363/363 [==============================] - 0s 537us/step - loss: 0.3927 - val_loss: 2.5386\n",
      "Epoch 6/30\n",
      "363/363 [==============================] - 0s 518us/step - loss: 0.3828 - val_loss: 0.4098\n",
      "Epoch 7/30\n",
      "363/363 [==============================] - 0s 547us/step - loss: 0.3684 - val_loss: 0.3680\n",
      "Epoch 8/30\n",
      "363/363 [==============================] - 0s 523us/step - loss: 0.3542 - val_loss: 0.3798\n",
      "Epoch 9/30\n",
      "363/363 [==============================] - 0s 527us/step - loss: 0.3480 - val_loss: 0.4117\n",
      "Epoch 10/30\n",
      "363/363 [==============================] - 0s 525us/step - loss: 0.3450 - val_loss: 0.4215\n",
      "Epoch 11/30\n",
      "363/363 [==============================] - 0s 521us/step - loss: 0.3425 - val_loss: 0.3264\n",
      "Epoch 12/30\n",
      "363/363 [==============================] - 0s 511us/step - loss: 0.3396 - val_loss: 0.3733\n",
      "Epoch 13/30\n",
      "363/363 [==============================] - 0s 559us/step - loss: 0.3354 - val_loss: 0.3612\n",
      "Epoch 14/30\n",
      "363/363 [==============================] - 0s 568us/step - loss: 0.3327 - val_loss: 0.3230\n",
      "Epoch 15/30\n",
      "363/363 [==============================] - 0s 528us/step - loss: 0.3311 - val_loss: 0.3559\n",
      "Epoch 16/30\n",
      "363/363 [==============================] - 0s 532us/step - loss: 0.3279 - val_loss: 0.3199\n",
      "Epoch 17/30\n",
      "363/363 [==============================] - 0s 520us/step - loss: 0.3259 - val_loss: 0.3649\n",
      "Epoch 18/30\n",
      "363/363 [==============================] - 0s 543us/step - loss: 0.3233 - val_loss: 0.3446\n",
      "Epoch 19/30\n",
      "363/363 [==============================] - 0s 531us/step - loss: 0.3242 - val_loss: 0.3182\n",
      "Epoch 20/30\n",
      "363/363 [==============================] - 0s 563us/step - loss: 0.3205 - val_loss: 0.3894\n",
      "Epoch 21/30\n",
      "363/363 [==============================] - 0s 539us/step - loss: 0.3178 - val_loss: 0.3211\n",
      "Epoch 22/30\n",
      "363/363 [==============================] - 0s 525us/step - loss: 0.3159 - val_loss: 0.3446\n",
      "Epoch 23/30\n",
      "363/363 [==============================] - 0s 556us/step - loss: 0.3146 - val_loss: 0.3112\n",
      "Epoch 24/30\n",
      "363/363 [==============================] - 0s 524us/step - loss: 0.3144 - val_loss: 0.3468\n",
      "Epoch 25/30\n",
      "363/363 [==============================] - 0s 530us/step - loss: 0.3139 - val_loss: 0.3516\n",
      "Epoch 26/30\n",
      "363/363 [==============================] - 0s 590us/step - loss: 0.3116 - val_loss: 0.3424\n",
      "Epoch 27/30\n",
      "363/363 [==============================] - 0s 541us/step - loss: 0.3098 - val_loss: 0.2978\n",
      "Epoch 28/30\n",
      "363/363 [==============================] - 0s 561us/step - loss: 0.3084 - val_loss: 0.3359\n",
      "Epoch 29/30\n",
      "363/363 [==============================] - 0s 540us/step - loss: 0.3071 - val_loss: 0.2939\n",
      "Epoch 30/30\n",
      "363/363 [==============================] - 0s 538us/step - loss: 0.3062 - val_loss: 0.3349\n"
     ]
    }
   ],
   "source": [
    "tensorboard_cb = keras.callbacks.TensorBoard(run_logdir2)\n",
    "history = model.fit(X_train, y_train, epochs=30,\n",
    "                    validation_data=(X_valid, y_valid),\n",
    "                    callbacks=[checkpoint_cb, tensorboard_cb])"
   ]
  },
  {
   "cell_type": "code",
   "execution_count": 96,
   "metadata": {},
   "outputs": [],
   "source": [
    "keras.backend.clear_session()\n",
    "np.random.seed(42)\n",
    "tf.random.set_seed(42)"
   ]
  },
  {
   "cell_type": "code",
   "execution_count": 97,
   "metadata": {},
   "outputs": [],
   "source": [
    "def build_model(n_hidden=1, n_neurons=30, learning_rate=3e-3, input_shape=[8]):\n",
    "    model = keras.models.Sequential()\n",
    "    model.add(keras.layers.InputLayer(input_shape=input_shape))\n",
    "    for _ in range(n_hidden):\n",
    "        model.add(keras.layers.Dense(n_neurons, activation='relu'))\n",
    "    model.add(keras.layers.Dense(1))\n",
    "    optimizer = keras.optimizers.SGD(learning_rate=learning_rate)\n",
    "    model.compile(loss='mse', optimizer=optimizer)\n",
    "    return model"
   ]
  },
  {
   "cell_type": "markdown",
   "metadata": {},
   "source": [
    "## 연습문제\n",
    "### 10"
   ]
  },
  {
   "cell_type": "code",
   "execution_count": 98,
   "metadata": {},
   "outputs": [],
   "source": [
    "(X_train_full, y_train_full), (X_test, y_test) = keras.datasets.mnist.load_data()"
   ]
  },
  {
   "cell_type": "code",
   "execution_count": 99,
   "metadata": {},
   "outputs": [
    {
     "data": {
      "text/plain": [
       "(60000, 28, 28)"
      ]
     },
     "execution_count": 99,
     "metadata": {},
     "output_type": "execute_result"
    }
   ],
   "source": [
    "X_train_full.shape"
   ]
  },
  {
   "cell_type": "code",
   "execution_count": 100,
   "metadata": {},
   "outputs": [
    {
     "data": {
      "text/plain": [
       "dtype('uint8')"
      ]
     },
     "execution_count": 100,
     "metadata": {},
     "output_type": "execute_result"
    }
   ],
   "source": [
    "X_train_full.dtype"
   ]
  },
  {
   "cell_type": "code",
   "execution_count": 101,
   "metadata": {},
   "outputs": [],
   "source": [
    "X_valid, X_train = X_train_full[:5000] / 255., X_train_full[5000:] / 255.\n",
    "y_valid, y_train = y_train_full[:5000], y_train_full[5000:]\n",
    "X_test = X_test / 255."
   ]
  },
  {
   "cell_type": "code",
   "execution_count": 102,
   "metadata": {},
   "outputs": [
    {
     "data": {
      "text/plain": [
       "(-0.5, 27.5, 27.5, -0.5)"
      ]
     },
     "execution_count": 102,
     "metadata": {},
     "output_type": "execute_result"
    },
    {
     "data": {
      "image/png": "[encoded data removed]",
      "text/plain": [
       "<Figure size 640x480 with 1 Axes>"
      ]
     },
     "metadata": {},
     "output_type": "display_data"
    }
   ],
   "source": [
    "plt.imshow(X_train[0], cmap='binary')\n",
    "plt.axis('off')"
   ]
  },
  {
   "cell_type": "code",
   "execution_count": 103,
   "metadata": {},
   "outputs": [
    {
     "data": {
      "text/plain": [
       "array([7, 3, 4, ..., 5, 6, 8], dtype=uint8)"
      ]
     },
     "execution_count": 103,
     "metadata": {},
     "output_type": "execute_result"
    }
   ],
   "source": [
    "y_train"
   ]
  },
  {
   "cell_type": "code",
   "execution_count": 104,
   "metadata": {},
   "outputs": [
    {
     "data": {
      "text/plain": [
       "(5000, 28, 28)"
      ]
     },
     "execution_count": 104,
     "metadata": {},
     "output_type": "execute_result"
    }
   ],
   "source": [
    "X_valid.shape"
   ]
  },
  {
   "cell_type": "code",
   "execution_count": 105,
   "metadata": {},
   "outputs": [
    {
     "data": {
      "text/plain": [
       "(10000, 28, 28)"
      ]
     },
     "execution_count": 105,
     "metadata": {},
     "output_type": "execute_result"
    }
   ],
   "source": [
    "X_test.shape"
   ]
  },
  {
   "cell_type": "code",
   "execution_count": 106,
   "metadata": {},
   "outputs": [
    {
     "data": {
      "image/png": "[encoded data removed]",
      "text/plain": [
       "<Figure size 1200x480 with 40 Axes>"
      ]
     },
     "metadata": {},
     "output_type": "display_data"
    }
   ],
   "source": [
    "n_rows = 4\n",
    "n_cols = 10\n",
    "plt.figure(figsize=(n_cols * 1.2, n_rows * 1.2))\n",
    "for row in range(n_rows):\n",
    "    for col in range(n_cols):\n",
    "        index = n_cols * row + col\n",
    "        plt.subplot(n_rows, n_cols, index + 1)\n",
    "        plt.imshow(X_train[index], cmap='binary', interpolation='nearest')\n",
    "        plt.axis('off')\n",
    "        plt.title(y_train[index], fontsize=12)\n",
    "plt.subplots_adjust(wspace=0.2, hspace=0.5)"
   ]
  },
  {
   "cell_type": "code",
   "execution_count": 107,
   "metadata": {},
   "outputs": [],
   "source": [
    "K = keras.backend\n",
    "\n",
    "class ExponentialLearningRate(keras.callbacks.Callback):\n",
    "    def __init__(self, factor):\n",
    "        self.factor = factor\n",
    "        self.rates = []\n",
    "        self.losses = []\n",
    "    def on_batch_end(self, batch, logs):\n",
    "        self.rates.append(K.get_value(self.model.optimizer.lr))\n",
    "        self.losses.append(logs['loss'])\n",
    "        K.set_value(self.model.optimizer.lr, self.model.optimizer.lr * self.factor)"
   ]
  },
  {
   "cell_type": "code",
   "execution_count": 108,
   "metadata": {},
   "outputs": [],
   "source": [
    "keras.backend.clear_session()\n",
    "np.random.seed(42)\n",
    "tf.random.set_seed(42)"
   ]
  },
  {
   "cell_type": "code",
   "execution_count": 109,
   "metadata": {},
   "outputs": [],
   "source": [
    "model = keras.models.Sequential([\n",
    "    keras.layers.Flatten(input_shape=[28, 28]),\n",
    "    keras.layers.Dense(300, activation='relu'),\n",
    "    keras.layers.Dense(100, activation='relu'),\n",
    "    keras.layers.Dense(10, activation='softmax')\n",
    "])"
   ]
  },
  {
   "cell_type": "code",
   "execution_count": 110,
   "metadata": {},
   "outputs": [
    {
     "name": "stderr",
     "output_type": "stream",
     "text": [
      "WARNING:absl:At this time, the v2.11+ optimizer `tf.keras.optimizers.SGD` runs slowly on M1/M2 Macs, please use the legacy Keras optimizer instead, located at `tf.keras.optimizers.legacy.SGD`.\n",
      "WARNING:absl:There is a known slowdown when using v2.11+ Keras optimizers on M1/M2 Macs. Falling back to the legacy Keras optimizer, i.e., `tf.keras.optimizers.legacy.SGD`.\n"
     ]
    }
   ],
   "source": [
    "model.compile(loss='sparse_categorical_crossentropy',\n",
    "              optimizer=keras.optimizers.SGD(learning_rate=1e-3),\n",
    "              metrics=['accuracy'])\n",
    "expon_lr = ExponentialLearningRate(factor=1.005)"
   ]
  },
  {
   "cell_type": "code",
   "execution_count": 111,
   "metadata": {},
   "outputs": [
    {
     "name": "stdout",
     "output_type": "stream",
     "text": [
      "1719/1719 [==============================] - 2s 1ms/step - loss: nan - accuracy: 0.5924 - val_loss: nan - val_accuracy: 0.0958\n"
     ]
    }
   ],
   "source": [
    "history = model.fit(X_train, y_train, epochs=1,\n",
    "                    validation_data=(X_valid, y_valid),\n",
    "                    callbacks=[expon_lr])"
   ]
  },
  {
   "cell_type": "code",
   "execution_count": 112,
   "metadata": {},
   "outputs": [
    {
     "data": {
      "text/plain": [
       "(0.0010000000474974513, 5.2636895179748535, 0.0, 2.323977470397949)"
      ]
     },
     "execution_count": 112,
     "metadata": {},
     "output_type": "execute_result"
    },
    {
     "data": {
      "image/png": "[encoded data removed]",
      "text/plain": [
       "<Figure size 640x480 with 1 Axes>"
      ]
     },
     "metadata": {},
     "output_type": "display_data"
    }
   ],
   "source": [
    "plt.plot(expon_lr.rates, expon_lr.losses)\n",
    "plt.gca().set_xscale('log')\n",
    "plt.hlines(min(expon_lr.losses), min(expon_lr.rates), max(expon_lr.rates))\n",
    "plt.axis([min(expon_lr.rates), max(expon_lr.rates), 0, expon_lr.losses[0]])"
   ]
  },
  {
   "cell_type": "code",
   "execution_count": 113,
   "metadata": {},
   "outputs": [],
   "source": [
    "keras.backend.clear_session()\n",
    "np.random.seed(42)\n",
    "tf.random.set_seed(42)"
   ]
  },
  {
   "cell_type": "code",
   "execution_count": 114,
   "metadata": {},
   "outputs": [],
   "source": [
    "model = keras.models.Sequential([\n",
    "    keras.layers.Flatten(input_shape=[28, 28]),\n",
    "    keras.layers.Dense(300, activation=\"relu\"),\n",
    "    keras.layers.Dense(100, activation=\"relu\"),\n",
    "    keras.layers.Dense(10, activation=\"softmax\")\n",
    "])"
   ]
  },
  {
   "cell_type": "code",
   "execution_count": 115,
   "metadata": {},
   "outputs": [
    {
     "name": "stderr",
     "output_type": "stream",
     "text": [
      "WARNING:absl:At this time, the v2.11+ optimizer `tf.keras.optimizers.SGD` runs slowly on M1/M2 Macs, please use the legacy Keras optimizer instead, located at `tf.keras.optimizers.legacy.SGD`.\n",
      "WARNING:absl:There is a known slowdown when using v2.11+ Keras optimizers on M1/M2 Macs. Falling back to the legacy Keras optimizer, i.e., `tf.keras.optimizers.legacy.SGD`.\n"
     ]
    }
   ],
   "source": [
    "model.compile(loss='sparse_categorical_crossentropy',\n",
    "              optimizer=keras.optimizers.SGD(learning_rate=3e-1),\n",
    "              metrics=['accuracy'])"
   ]
  },
  {
   "cell_type": "code",
   "execution_count": 116,
   "metadata": {},
   "outputs": [
    {
     "data": {
      "text/plain": [
       "'./my_mnist_logs/run_001'"
      ]
     },
     "execution_count": 116,
     "metadata": {},
     "output_type": "execute_result"
    }
   ],
   "source": [
    "run_index = 1\n",
    "run_logdir = os.path.join(os.curdir, 'my_mnist_logs', 'run_{:03d}'.format(run_index))\n",
    "run_logdir"
   ]
  },
  {
   "cell_type": "code",
   "execution_count": 117,
   "metadata": {},
   "outputs": [
    {
     "name": "stdout",
     "output_type": "stream",
     "text": [
      "Epoch 1/100\n",
      "1719/1719 [==============================] - 2s 1ms/step - loss: 0.2358 - accuracy: 0.9255 - val_loss: 0.1017 - val_accuracy: 0.9706\n",
      "Epoch 2/100\n",
      "1719/1719 [==============================] - 2s 1ms/step - loss: 0.0947 - accuracy: 0.9702 - val_loss: 0.1045 - val_accuracy: 0.9682\n",
      "Epoch 3/100\n",
      "1719/1719 [==============================] - 2s 1ms/step - loss: 0.0675 - accuracy: 0.9781 - val_loss: 0.0720 - val_accuracy: 0.9792\n",
      "Epoch 4/100\n",
      "1719/1719 [==============================] - 2s 1ms/step - loss: 0.0488 - accuracy: 0.9842 - val_loss: 0.0798 - val_accuracy: 0.9804\n",
      "Epoch 5/100\n",
      "1719/1719 [==============================] - 2s 1ms/step - loss: 0.0348 - accuracy: 0.9885 - val_loss: 0.0829 - val_accuracy: 0.9770\n",
      "Epoch 6/100\n",
      "1719/1719 [==============================] - 2s 1ms/step - loss: 0.0277 - accuracy: 0.9909 - val_loss: 0.0730 - val_accuracy: 0.9808\n",
      "Epoch 7/100\n",
      "1719/1719 [==============================] - 2s 1ms/step - loss: 0.0215 - accuracy: 0.9932 - val_loss: 0.0933 - val_accuracy: 0.9768\n",
      "Epoch 8/100\n",
      "1719/1719 [==============================] - 2s 1ms/step - loss: 0.0158 - accuracy: 0.9949 - val_loss: 0.0820 - val_accuracy: 0.9806\n",
      "Epoch 9/100\n",
      "1719/1719 [==============================] - 2s 1ms/step - loss: 0.0162 - accuracy: 0.9947 - val_loss: 0.0913 - val_accuracy: 0.9812\n",
      "Epoch 10/100\n",
      "1719/1719 [==============================] - 2s 1ms/step - loss: 0.0119 - accuracy: 0.9959 - val_loss: 0.0947 - val_accuracy: 0.9776\n",
      "Epoch 11/100\n",
      "1719/1719 [==============================] - 2s 1ms/step - loss: 0.0134 - accuracy: 0.9956 - val_loss: 0.0868 - val_accuracy: 0.9824\n",
      "Epoch 12/100\n",
      "1719/1719 [==============================] - 2s 1ms/step - loss: 0.0082 - accuracy: 0.9970 - val_loss: 0.1042 - val_accuracy: 0.9792\n",
      "Epoch 13/100\n",
      "1719/1719 [==============================] - 2s 1ms/step - loss: 0.0063 - accuracy: 0.9981 - val_loss: 0.0787 - val_accuracy: 0.9824\n",
      "Epoch 14/100\n",
      "1719/1719 [==============================] - 2s 1ms/step - loss: 0.0040 - accuracy: 0.9988 - val_loss: 0.1134 - val_accuracy: 0.9810\n",
      "Epoch 15/100\n",
      "1719/1719 [==============================] - 2s 1ms/step - loss: 0.0128 - accuracy: 0.9959 - val_loss: 0.1101 - val_accuracy: 0.9784\n",
      "Epoch 16/100\n",
      "1719/1719 [==============================] - 2s 1ms/step - loss: 0.0132 - accuracy: 0.9956 - val_loss: 0.1064 - val_accuracy: 0.9780\n",
      "Epoch 17/100\n",
      "1719/1719 [==============================] - 2s 1ms/step - loss: 0.0107 - accuracy: 0.9967 - val_loss: 0.0931 - val_accuracy: 0.9814\n",
      "Epoch 18/100\n",
      "1719/1719 [==============================] - 2s 1ms/step - loss: 0.0050 - accuracy: 0.9983 - val_loss: 0.1120 - val_accuracy: 0.9814\n",
      "Epoch 19/100\n",
      "1719/1719 [==============================] - 2s 1ms/step - loss: 0.0028 - accuracy: 0.9991 - val_loss: 0.0853 - val_accuracy: 0.9870\n",
      "Epoch 20/100\n",
      "1719/1719 [==============================] - 2s 1ms/step - loss: 6.7909e-04 - accuracy: 0.9999 - val_loss: 0.0859 - val_accuracy: 0.9856\n",
      "Epoch 21/100\n",
      "1719/1719 [==============================] - 2s 1ms/step - loss: 2.2888e-04 - accuracy: 1.0000 - val_loss: 0.0897 - val_accuracy: 0.9856\n",
      "Epoch 22/100\n",
      "1719/1719 [==============================] - 2s 1ms/step - loss: 8.0717e-05 - accuracy: 1.0000 - val_loss: 0.0895 - val_accuracy: 0.9862\n",
      "Epoch 23/100\n",
      "1719/1719 [==============================] - 2s 1ms/step - loss: 6.0120e-05 - accuracy: 1.0000 - val_loss: 0.0901 - val_accuracy: 0.9862\n"
     ]
    }
   ],
   "source": [
    "early_stopping_cb = keras.callbacks.EarlyStopping(patience=20)\n",
    "checkpoint_cb = keras.callbacks.ModelCheckpoint('my_mnist_model.h5', save_best_only=True)\n",
    "tensorboard_cb = keras.callbacks.TensorBoard(run_logdir)\n",
    "\n",
    "history = model.fit(X_train, y_train, epochs=100,\n",
    "                    validation_data=(X_valid, y_valid),\n",
    "                    callbacks=[checkpoint_cb, early_stopping_cb, tensorboard_cb])"
   ]
  },
  {
   "cell_type": "code",
   "execution_count": 118,
   "metadata": {},
   "outputs": [
    {
     "name": "stdout",
     "output_type": "stream",
     "text": [
      "313/313 [==============================] - 0s 579us/step - loss: 0.0895 - accuracy: 0.9737\n"
     ]
    },
    {
     "data": {
      "text/plain": [
       "[0.08947855234146118, 0.9736999869346619]"
      ]
     },
     "execution_count": 118,
     "metadata": {},
     "output_type": "execute_result"
    }
   ],
   "source": [
    "model = keras.models.load_model('my_mnist_model.h5')\n",
    "model.evaluate(X_test, y_test)"
   ]
  },
  {
   "cell_type": "code",
   "execution_count": 120,
   "metadata": {},
   "outputs": [
    {
     "data": {
      "text/plain": [
       "Reusing TensorBoard on port 6006 (pid 1711), started 0:01:09 ago. (Use '!kill 1711' to kill it.)"
      ]
     },
     "metadata": {},
     "output_type": "display_data"
    },
    {
     "data": {
      "text/html": [
       "\n",
       "      <iframe id=\"tensorboard-frame-707bdf3a0df28ff\" width=\"100%\" height=\"800\" frameborder=\"0\">\n",
       "      </iframe>\n",
       "      <script>\n",
       "        (function() {\n",
       "          const frame = document.getElementById(\"tensorboard-frame-707bdf3a0df28ff\");\n",
       "          const url = new URL(\"http://localhost\");\n",
       "          const port = 6006;\n",
       "          if (port) {\n",
       "            url.port = port;\n",
       "          }\n",
       "          frame.src = url;\n",
       "        })();\n",
       "      </script>\n",
       "    "
      ],
      "text/plain": [
       "<IPython.core.display.HTML object>"
      ]
     },
     "metadata": {},
     "output_type": "display_data"
    }
   ],
   "source": [
    "%tensorboard --logdir=./my_mnist_logs --port=6006"
   ]
  },
  {
   "cell_type": "code",
   "execution_count": null,
   "metadata": {},
   "outputs": [],
   "source": []
  }
 ],
 "metadata": {
  "kernelspec": {
   "display_name": "base",
   "language": "python",
   "name": "python3"
  },
  "language_info": {
   "codemirror_mode": {
    "name": "ipython",
    "version": 3
   },
   "file_extension": ".py",
   "mimetype": "text/x-python",
   "name": "python",
   "nbconvert_exporter": "python",
   "pygments_lexer": "ipython3",
   "version": "3.9.17"
  },
  "orig_nbformat": 4
 },
 "nbformat": 4,
 "nbformat_minor": 2
}
